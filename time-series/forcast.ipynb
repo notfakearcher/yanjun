{
 "cells": [
  {
   "cell_type": "markdown",
   "metadata": {},
   "source": [
    "# Library"
   ]
  },
  {
   "cell_type": "code",
   "execution_count": 130,
   "metadata": {},
   "outputs": [],
   "source": [
    "import pandas as pd\n",
    "import numpy as np\n",
    "import seaborn as sns\n",
    "import matplotlib.pyplot as plt\n",
    "from datetime import datetime"
   ]
  },
  {
   "cell_type": "markdown",
   "metadata": {},
   "source": [
    "# Dataset"
   ]
  },
  {
   "cell_type": "code",
   "execution_count": 131,
   "metadata": {},
   "outputs": [],
   "source": [
    "path_train = \"C:/Users/julia/Downloads/forecasting/train.csv\"\n",
    "path_test = \"C:/Users/julia/Downloads/forecasting/test.csv\"\n",
    "path_train_calendar = \"C:/Users/julia/Downloads/forecasting/train_calendar.csv\"\n",
    "path_test_calendar = \"C:/Users/julia/Downloads/forecasting/test_calendar.csv\"\n",
    "# train dataset \n",
    "train = pd.read_csv(path_train)\n",
    "train_calendar = pd.read_csv(path_train_calendar)\n",
    "test = pd.read_csv(path_test)\n",
    "test_calendar = pd.read_csv(path_test_calendar)"
   ]
  },
  {
   "cell_type": "markdown",
   "metadata": {},
   "source": [
    "### Train_calendar and Test_calendar Explaination\n",
    "    train_calendar.csv - a calendar for the training set containing data about holidays or warehouse specific events, some columns are already in the train data but there are additional rows in this file for dates where some warehouses could be closed due to public holiday or Sunday (and therefore they are not in the train set)"
   ]
  },
  {
   "cell_type": "markdown",
   "metadata": {},
   "source": [
    "### Dataset explaination\n",
    "\n",
    "    1.warehouse - warehouse name\n",
    "    2.date - date\n",
    "    3.orders - number of customer orders attributed to the warehouse\n",
    "    4.holiday_name - name of public holiday if any\n",
    "    5.holiday - 0/1 indicating the presence of holidays\n",
    "    6.shutdown - warehouse shutdown or limitation due to operations (not provided in test)\n",
    "    7.mini_shutdown - warehouse shutdown or limitation due to operations (not provided in test)\n",
    "    8.shops_closed - public holiday with most of the shops or large part of shops closed\n",
    "    9.winter_school_holidays - school holidays\n",
    "    10.school_holidays - school holidays\n",
    "    11.blackout - warehouse shutdown or limitation due to operations (not provided in test)\n",
    "    12.mov_change - a change in minimum order value indicating potential change in customer behaviour (not provided in test)\n",
    "    13.frankfurt_shutdown - warehouse shutdown or limitation due to operations (not provided in test)\n",
    "    14.precipitation - precipitation in mm around the location of the warehouse which correlates with location of the customers (not provided in test)\n",
    "    15.snow - snowfall in mm around the location of the warehouse which correlates with location of the customers (not provided in test)\n",
    "    16.user_activity_1 - user activity on the website (not provided in test)\n",
    "    17.user_activity_2 - user activity on the website (not provided in test)\n",
    "    18.id - row id consisting of warehouse name and date\n"
   ]
  },
  {
   "cell_type": "code",
   "execution_count": 132,
   "metadata": {},
   "outputs": [
    {
     "name": "stdout",
     "output_type": "stream",
     "text": [
      "<class 'pandas.core.frame.DataFrame'>\n",
      "RangeIndex: 7340 entries, 0 to 7339\n",
      "Data columns (total 18 columns):\n",
      " #   Column                  Non-Null Count  Dtype  \n",
      "---  ------                  --------------  -----  \n",
      " 0   warehouse               7340 non-null   object \n",
      " 1   date                    7340 non-null   object \n",
      " 2   orders                  7340 non-null   float64\n",
      " 3   holiday_name            218 non-null    object \n",
      " 4   holiday                 7340 non-null   int64  \n",
      " 5   shutdown                7340 non-null   int64  \n",
      " 6   mini_shutdown           7340 non-null   int64  \n",
      " 7   shops_closed            7340 non-null   int64  \n",
      " 8   winter_school_holidays  7340 non-null   int64  \n",
      " 9   school_holidays         7340 non-null   int64  \n",
      " 10  blackout                7340 non-null   int64  \n",
      " 11  mov_change              7340 non-null   float64\n",
      " 12  frankfurt_shutdown      7340 non-null   int64  \n",
      " 13  precipitation           7070 non-null   float64\n",
      " 14  snow                    7070 non-null   float64\n",
      " 15  user_activity_1         7340 non-null   float64\n",
      " 16  user_activity_2         7340 non-null   float64\n",
      " 17  id                      7340 non-null   object \n",
      "dtypes: float64(6), int64(8), object(4)\n",
      "memory usage: 1.0+ MB\n"
     ]
    }
   ],
   "source": [
    "train.info()"
   ]
  },
  {
   "cell_type": "code",
   "execution_count": 133,
   "metadata": {},
   "outputs": [
    {
     "name": "stdout",
     "output_type": "stream",
     "text": [
      "<class 'pandas.core.frame.DataFrame'>\n",
      "RangeIndex: 13307 entries, 0 to 13306\n",
      "Data columns (total 15 columns):\n",
      " #   Column                  Non-Null Count  Dtype  \n",
      "---  ------                  --------------  -----  \n",
      " 0   date                    13307 non-null  object \n",
      " 1   holiday_name            563 non-null    object \n",
      " 2   holiday                 13307 non-null  int64  \n",
      " 3   shutdown                13307 non-null  int64  \n",
      " 4   mini_shutdown           13307 non-null  int64  \n",
      " 5   warehouse_limited       13307 non-null  int64  \n",
      " 6   shops_closed            13307 non-null  int64  \n",
      " 7   winter_school_holidays  13307 non-null  int64  \n",
      " 8   school_holidays         13307 non-null  int64  \n",
      " 9   blackout                13307 non-null  int64  \n",
      " 10  mov_change              13307 non-null  float64\n",
      " 11  frankfurt_shutdown      13307 non-null  int64  \n",
      " 12  precipitation           11199 non-null  float64\n",
      " 13  snow                    11199 non-null  float64\n",
      " 14  warehouse               13307 non-null  object \n",
      "dtypes: float64(3), int64(9), object(3)\n",
      "memory usage: 1.5+ MB\n"
     ]
    }
   ],
   "source": [
    "train_calendar.info()"
   ]
  },
  {
   "cell_type": "code",
   "execution_count": 134,
   "metadata": {},
   "outputs": [
    {
     "name": "stdout",
     "output_type": "stream",
     "text": [
      "<class 'pandas.core.frame.DataFrame'>\n",
      "RangeIndex: 397 entries, 0 to 396\n",
      "Data columns (total 8 columns):\n",
      " #   Column                  Non-Null Count  Dtype \n",
      "---  ------                  --------------  ----- \n",
      " 0   warehouse               397 non-null    object\n",
      " 1   date                    397 non-null    object\n",
      " 2   holiday_name            17 non-null     object\n",
      " 3   holiday                 397 non-null    int64 \n",
      " 4   shops_closed            397 non-null    int64 \n",
      " 5   winter_school_holidays  397 non-null    int64 \n",
      " 6   school_holidays         397 non-null    int64 \n",
      " 7   id                      397 non-null    object\n",
      "dtypes: int64(4), object(4)\n",
      "memory usage: 24.9+ KB\n"
     ]
    }
   ],
   "source": [
    "test.info()"
   ]
  },
  {
   "cell_type": "code",
   "execution_count": 135,
   "metadata": {},
   "outputs": [
    {
     "name": "stdout",
     "output_type": "stream",
     "text": [
      "<class 'pandas.core.frame.DataFrame'>\n",
      "RangeIndex: 1869 entries, 0 to 1868\n",
      "Data columns (total 7 columns):\n",
      " #   Column                  Non-Null Count  Dtype \n",
      "---  ------                  --------------  ----- \n",
      " 0   date                    1869 non-null   object\n",
      " 1   holiday_name            69 non-null     object\n",
      " 2   holiday                 1869 non-null   int64 \n",
      " 3   shops_closed            1869 non-null   int64 \n",
      " 4   winter_school_holidays  1869 non-null   int64 \n",
      " 5   school_holidays         1869 non-null   int64 \n",
      " 6   warehouse               1869 non-null   object\n",
      "dtypes: int64(4), object(3)\n",
      "memory usage: 102.3+ KB\n"
     ]
    }
   ],
   "source": [
    "test_calendar.info()"
   ]
  },
  {
   "cell_type": "markdown",
   "metadata": {},
   "source": [
    "#### NO duplicate data in train and train_calendar dataset"
   ]
  },
  {
   "cell_type": "code",
   "execution_count": 136,
   "metadata": {},
   "outputs": [
    {
     "name": "stdout",
     "output_type": "stream",
     "text": [
      "Empty DataFrame\n",
      "Columns: [warehouse, date, orders, holiday_name, holiday, shutdown, mini_shutdown, shops_closed, winter_school_holidays, school_holidays, blackout, mov_change, frankfurt_shutdown, precipitation, snow, user_activity_1, user_activity_2, id]\n",
      "Index: []\n",
      "Empty DataFrame\n",
      "Columns: [date, holiday_name, holiday, shutdown, mini_shutdown, warehouse_limited, shops_closed, winter_school_holidays, school_holidays, blackout, mov_change, frankfurt_shutdown, precipitation, snow, warehouse]\n",
      "Index: []\n"
     ]
    }
   ],
   "source": [
    "# check wether train,train_calender has duplicate data\n",
    "print(train[train.duplicated()])\n",
    "print(train_calendar[train_calendar.duplicated()])"
   ]
  },
  {
   "cell_type": "markdown",
   "metadata": {},
   "source": [
    "#### Train dataset don't have warehouse_limited, train_calendar don't have oders(critical target), website_activity_1,website_activity_2, and id"
   ]
  },
  {
   "cell_type": "markdown",
   "metadata": {},
   "source": [
    "#### Train dataset id is actually warehouse_date, so before join train and train_calendar, create id in train_calendar (join on id)"
   ]
  },
  {
   "cell_type": "code",
   "execution_count": 137,
   "metadata": {},
   "outputs": [
    {
     "data": {
      "text/plain": [
       "True    7340\n",
       "Name: count, dtype: int64"
      ]
     },
     "execution_count": 137,
     "metadata": {},
     "output_type": "execute_result"
    }
   ],
   "source": [
    "# check wether id = warehouse + date in train\n",
    "warehouse_date = train['warehouse'] + '_' + train['date']\n",
    "torf = warehouse_date == train['id']\n",
    "torf.value_counts()"
   ]
  },
  {
   "cell_type": "code",
   "execution_count": 138,
   "metadata": {},
   "outputs": [],
   "source": [
    "# create a new columns id in train_calendar\n",
    "id = train_calendar['warehouse'] + '_' + train_calendar['date']\n",
    "train_calendar['id'] = id"
   ]
  },
  {
   "cell_type": "markdown",
   "metadata": {},
   "source": [
    "#### New dataset for train_calendar1(it has critical target :orders, it also has website_activity_1, website_activity_2, and id )"
   ]
  },
  {
   "cell_type": "code",
   "execution_count": 139,
   "metadata": {},
   "outputs": [
    {
     "name": "stdout",
     "output_type": "stream",
     "text": [
      "<class 'pandas.core.frame.DataFrame'>\n",
      "RangeIndex: 13307 entries, 0 to 13306\n",
      "Data columns (total 19 columns):\n",
      " #   Column                  Non-Null Count  Dtype  \n",
      "---  ------                  --------------  -----  \n",
      " 0   orders                  7340 non-null   float64\n",
      " 1   user_activity_1         7340 non-null   float64\n",
      " 2   user_activity_2         7340 non-null   float64\n",
      " 3   id                      13307 non-null  object \n",
      " 4   date                    13307 non-null  object \n",
      " 5   holiday_name            563 non-null    object \n",
      " 6   holiday                 13307 non-null  int64  \n",
      " 7   shutdown                13307 non-null  int64  \n",
      " 8   mini_shutdown           13307 non-null  int64  \n",
      " 9   warehouse_limited       13307 non-null  int64  \n",
      " 10  shops_closed            13307 non-null  int64  \n",
      " 11  winter_school_holidays  13307 non-null  int64  \n",
      " 12  school_holidays         13307 non-null  int64  \n",
      " 13  blackout                13307 non-null  int64  \n",
      " 14  mov_change              13307 non-null  float64\n",
      " 15  frankfurt_shutdown      13307 non-null  int64  \n",
      " 16  precipitation           11199 non-null  float64\n",
      " 17  snow                    11199 non-null  float64\n",
      " 18  warehouse               13307 non-null  object \n",
      "dtypes: float64(6), int64(9), object(4)\n",
      "memory usage: 1.9+ MB\n"
     ]
    }
   ],
   "source": [
    "# join the dataset fully join on id\n",
    "train_calendar1 = pd.merge(train, train_calendar, how = 'outer', on = 'id', suffixes= ('_remove',''))\n",
    "train_calendar1.drop([i for i in train_calendar1.columns if '_remove' in i], axis = 1, inplace = True)\n",
    "train_calendar1.info()"
   ]
  },
  {
   "cell_type": "markdown",
   "metadata": {},
   "source": [
    "#### edit new dataset in train_calendar1(remove orders which is empty), and change it to name: train_1( train_1 has new columns: warehouse_limited)"
   ]
  },
  {
   "cell_type": "code",
   "execution_count": 140,
   "metadata": {},
   "outputs": [],
   "source": [
    "condition = train_calendar1['orders'].isnull()\n",
    "train_1 = train_calendar1[~condition]"
   ]
  },
  {
   "cell_type": "markdown",
   "metadata": {},
   "source": [
    "#### Add day, month, and year in new dataset train_1"
   ]
  },
  {
   "cell_type": "code",
   "execution_count": 158,
   "metadata": {},
   "outputs": [],
   "source": [
    "# transform date string to date format\n",
    "date = [datetime.strptime(i, '%Y-%m-%d')for i in train_1['date']]\n",
    "# extract year, month, day in date\n",
    "year = [i.year for i in date]\n",
    "month = [i.month for i in date]\n",
    "day = [i.day for i in date]\n",
    "# add year , month , day to train_1 \n",
    "train_1.loc[:,'year'] = year\n",
    "train_1.loc[:,'month'] = month\n",
    "train_1.loc[:,'day'] = day"
   ]
  },
  {
   "cell_type": "code",
   "execution_count": 142,
   "metadata": {},
   "outputs": [
    {
     "data": {
      "text/plain": [
       "warehouse\n",
       "Brno_1         1193\n",
       "Prague_1       1193\n",
       "Prague_2       1193\n",
       "Prague_3       1193\n",
       "Budapest_1     1154\n",
       "Munich_1        785\n",
       "Frankfurt_1     629\n",
       "Name: count, dtype: int64"
      ]
     },
     "execution_count": 142,
     "metadata": {},
     "output_type": "execute_result"
    }
   ],
   "source": [
    "train_1['warehouse'].value_counts()"
   ]
  },
  {
   "cell_type": "markdown",
   "metadata": {},
   "source": [
    "#### build train dataset for different warehouse"
   ]
  },
  {
   "cell_type": "code",
   "execution_count": 156,
   "metadata": {},
   "outputs": [],
   "source": [
    "Brno1_train = train_1[train_1['warehouse'] == 'Brno_1'].reset_index(drop = True)\n",
    "Prague1_train = train_1[train_1['warehouse'] == 'Prague_1'].reset_index(drop = True)\n",
    "Prague2_train = train_1[train_1['warehouse'] == 'Prague_2'].reset_index(drop = True)\n",
    "Prague3_train = train_1[train_1['warehouse'] == 'Prague_3'].reset_index(drop = True)\n",
    "Budapest1_train = train_1[train_1['warehouse'] == 'Budapest_1'].reset_index(drop = True)\n",
    "Munich1_train = train_1[train_1['warehouse'] == 'Munich_1'].reset_index(drop = True)\n",
    "Frankfurt1_train = train_1[train_1['warehouse'] == 'Frankurt_1'].reset_index(drop = True)"
   ]
  },
  {
   "cell_type": "markdown",
   "metadata": {},
   "source": []
  },
  {
   "cell_type": "code",
   "execution_count": 157,
   "metadata": {},
   "outputs": [
    {
     "name": "stdout",
     "output_type": "stream",
     "text": [
      "<class 'pandas.core.frame.DataFrame'>\n",
      "RangeIndex: 1193 entries, 0 to 1192\n",
      "Data columns (total 22 columns):\n",
      " #   Column                  Non-Null Count  Dtype  \n",
      "---  ------                  --------------  -----  \n",
      " 0   orders                  1193 non-null   float64\n",
      " 1   user_activity_1         1193 non-null   float64\n",
      " 2   user_activity_2         1193 non-null   float64\n",
      " 3   id                      1193 non-null   object \n",
      " 4   date                    1193 non-null   object \n",
      " 5   holiday_name            43 non-null     object \n",
      " 6   holiday                 1193 non-null   int64  \n",
      " 7   shutdown                1193 non-null   int64  \n",
      " 8   mini_shutdown           1193 non-null   int64  \n",
      " 9   warehouse_limited       1193 non-null   int64  \n",
      " 10  shops_closed            1193 non-null   int64  \n",
      " 11  winter_school_holidays  1193 non-null   int64  \n",
      " 12  school_holidays         1193 non-null   int64  \n",
      " 13  blackout                1193 non-null   int64  \n",
      " 14  mov_change              1193 non-null   float64\n",
      " 15  frankfurt_shutdown      1193 non-null   int64  \n",
      " 16  precipitation           1193 non-null   float64\n",
      " 17  snow                    1193 non-null   float64\n",
      " 18  warehouse               1193 non-null   object \n",
      " 19  year                    1193 non-null   int64  \n",
      " 20  month                   1193 non-null   int64  \n",
      " 21  day                     1193 non-null   int64  \n",
      "dtypes: float64(6), int64(12), object(4)\n",
      "memory usage: 205.2+ KB\n"
     ]
    }
   ],
   "source": [
    "Brno1_train.info()"
   ]
  },
  {
   "cell_type": "code",
   "execution_count": 159,
   "metadata": {},
   "outputs": [
    {
     "data": {
      "text/html": [
       "<div>\n",
       "<style scoped>\n",
       "    .dataframe tbody tr th:only-of-type {\n",
       "        vertical-align: middle;\n",
       "    }\n",
       "\n",
       "    .dataframe tbody tr th {\n",
       "        vertical-align: top;\n",
       "    }\n",
       "\n",
       "    .dataframe thead th {\n",
       "        text-align: right;\n",
       "    }\n",
       "</style>\n",
       "<table border=\"1\" class=\"dataframe\">\n",
       "  <thead>\n",
       "    <tr style=\"text-align: right;\">\n",
       "      <th></th>\n",
       "      <th>warehouse</th>\n",
       "      <th>date</th>\n",
       "      <th>orders</th>\n",
       "      <th>holiday_name</th>\n",
       "      <th>holiday</th>\n",
       "      <th>shutdown</th>\n",
       "      <th>mini_shutdown</th>\n",
       "      <th>shops_closed</th>\n",
       "      <th>winter_school_holidays</th>\n",
       "      <th>school_holidays</th>\n",
       "      <th>blackout</th>\n",
       "      <th>mov_change</th>\n",
       "      <th>frankfurt_shutdown</th>\n",
       "      <th>precipitation</th>\n",
       "      <th>snow</th>\n",
       "      <th>user_activity_1</th>\n",
       "      <th>user_activity_2</th>\n",
       "      <th>id</th>\n",
       "    </tr>\n",
       "  </thead>\n",
       "  <tbody>\n",
       "    <tr>\n",
       "      <th>5932</th>\n",
       "      <td>Frankfurt_1</td>\n",
       "      <td>2023-05-17</td>\n",
       "      <td>1507.0</td>\n",
       "      <td>NaN</td>\n",
       "      <td>0</td>\n",
       "      <td>0</td>\n",
       "      <td>0</td>\n",
       "      <td>0</td>\n",
       "      <td>0</td>\n",
       "      <td>0</td>\n",
       "      <td>0</td>\n",
       "      <td>1.0</td>\n",
       "      <td>1</td>\n",
       "      <td>0.0</td>\n",
       "      <td>0.0</td>\n",
       "      <td>813.0</td>\n",
       "      <td>6335.0</td>\n",
       "      <td>Frankfurt_1_2023-05-17</td>\n",
       "    </tr>\n",
       "    <tr>\n",
       "      <th>5933</th>\n",
       "      <td>Frankfurt_1</td>\n",
       "      <td>2023-05-19</td>\n",
       "      <td>1183.0</td>\n",
       "      <td>NaN</td>\n",
       "      <td>0</td>\n",
       "      <td>0</td>\n",
       "      <td>0</td>\n",
       "      <td>0</td>\n",
       "      <td>0</td>\n",
       "      <td>0</td>\n",
       "      <td>0</td>\n",
       "      <td>1.0</td>\n",
       "      <td>1</td>\n",
       "      <td>0.0</td>\n",
       "      <td>0.0</td>\n",
       "      <td>802.0</td>\n",
       "      <td>6254.0</td>\n",
       "      <td>Frankfurt_1_2023-05-19</td>\n",
       "    </tr>\n",
       "  </tbody>\n",
       "</table>\n",
       "</div>"
      ],
      "text/plain": [
       "        warehouse        date  orders holiday_name  holiday  shutdown  \\\n",
       "5932  Frankfurt_1  2023-05-17  1507.0          NaN        0         0   \n",
       "5933  Frankfurt_1  2023-05-19  1183.0          NaN        0         0   \n",
       "\n",
       "      mini_shutdown  shops_closed  winter_school_holidays  school_holidays  \\\n",
       "5932              0             0                       0                0   \n",
       "5933              0             0                       0                0   \n",
       "\n",
       "      blackout  mov_change  frankfurt_shutdown  precipitation  snow  \\\n",
       "5932         0         1.0                   1            0.0   0.0   \n",
       "5933         0         1.0                   1            0.0   0.0   \n",
       "\n",
       "      user_activity_1  user_activity_2                      id  \n",
       "5932            813.0           6335.0  Frankfurt_1_2023-05-17  \n",
       "5933            802.0           6254.0  Frankfurt_1_2023-05-19  "
      ]
     },
     "execution_count": 159,
     "metadata": {},
     "output_type": "execute_result"
    }
   ],
   "source": [
    "train[train['frankfurt_shutdown']==1]"
   ]
  },
  {
   "cell_type": "code",
   "execution_count": null,
   "metadata": {},
   "outputs": [],
   "source": []
  }
 ],
 "metadata": {
  "kernelspec": {
   "display_name": "pythontest1",
   "language": "python",
   "name": "python3"
  },
  "language_info": {
   "codemirror_mode": {
    "name": "ipython",
    "version": 3
   },
   "file_extension": ".py",
   "mimetype": "text/x-python",
   "name": "python",
   "nbconvert_exporter": "python",
   "pygments_lexer": "ipython3",
   "version": "3.11.4"
  }
 },
 "nbformat": 4,
 "nbformat_minor": 2
}
