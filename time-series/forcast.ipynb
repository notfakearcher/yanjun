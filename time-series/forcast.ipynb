{
 "cells": [
  {
   "cell_type": "markdown",
   "metadata": {},
   "source": [
    "# Library"
   ]
  },
  {
   "cell_type": "code",
   "execution_count": 79,
   "metadata": {},
   "outputs": [],
   "source": [
    "import pandas as pd\n",
    "import numpy as np\n",
    "import seaborn as sns\n",
    "import matplotlib.pyplot as plt\n",
    "from datetime import datetime"
   ]
  },
  {
   "cell_type": "markdown",
   "metadata": {},
   "source": [
    "# Dataset"
   ]
  },
  {
   "cell_type": "code",
   "execution_count": 3,
   "metadata": {},
   "outputs": [],
   "source": [
    "path_train = \"C:/Users/julia/Downloads/forecasting/train.csv\"\n",
    "path_test = \"C:/Users/julia/Downloads/forecasting/test.csv\"\n",
    "path_train_calendar = \"C:/Users/julia/Downloads/forecasting/train_calendar.csv\"\n",
    "path_test_calendar = \"C:/Users/julia/Downloads/forecasting/test_calendar.csv\"\n",
    "# train dataset \n",
    "train = pd.read_csv(path_train)\n",
    "train_calendar = pd.read_csv(path_train_calendar)\n",
    "test = pd.read_csv(path_test)\n",
    "test_calendar = pd.read_csv(path_test_calendar)"
   ]
  },
  {
   "cell_type": "markdown",
   "metadata": {},
   "source": [
    "### Train_calendar and Test_calendar Explaination\n",
    "    train_calendar.csv - a calendar for the training set containing data about holidays or warehouse specific events, some columns are already in the train data but there are additional rows in this file for dates where some warehouses could be closed due to public holiday or Sunday (and therefore they are not in the train set)"
   ]
  },
  {
   "cell_type": "markdown",
   "metadata": {},
   "source": [
    "### Dataset explaination\n",
    "\n",
    "    1.warehouse - warehouse name\n",
    "    2.date - date\n",
    "    3.orders - number of customer orders attributed to the warehouse\n",
    "    4.holiday_name - name of public holiday if any\n",
    "    5.holiday - 0/1 indicating the presence of holidays\n",
    "    6.shutdown - warehouse shutdown or limitation due to operations (not provided in test)\n",
    "    7.mini_shutdown - warehouse shutdown or limitation due to operations (not provided in test)\n",
    "    8.shops_closed - public holiday with most of the shops or large part of shops closed\n",
    "    9.winter_school_holidays - school holidays\n",
    "    10.school_holidays - school holidays\n",
    "    11.blackout - warehouse shutdown or limitation due to operations (not provided in test)\n",
    "    12.mov_change - a change in minimum order value indicating potential change in customer behaviour (not provided in test)\n",
    "    13.frankfurt_shutdown - warehouse shutdown or limitation due to operations (not provided in test)\n",
    "    14.precipitation - precipitation in mm around the location of the warehouse which correlates with location of the customers (not provided in test)\n",
    "    15.snow - snowfall in mm around the location of the warehouse which correlates with location of the customers (not provided in test)\n",
    "    16.user_activity_1 - user activity on the website (not provided in test)\n",
    "    17.user_activity_2 - user activity on the website (not provided in test)\n",
    "    18.id - row id consisting of warehouse name and date\n"
   ]
  },
  {
   "cell_type": "code",
   "execution_count": 10,
   "metadata": {},
   "outputs": [
    {
     "name": "stdout",
     "output_type": "stream",
     "text": [
      "<class 'pandas.core.frame.DataFrame'>\n",
      "RangeIndex: 7340 entries, 0 to 7339\n",
      "Data columns (total 18 columns):\n",
      " #   Column                  Non-Null Count  Dtype  \n",
      "---  ------                  --------------  -----  \n",
      " 0   warehouse               7340 non-null   object \n",
      " 1   date                    7340 non-null   object \n",
      " 2   orders                  7340 non-null   float64\n",
      " 3   holiday_name            218 non-null    object \n",
      " 4   holiday                 7340 non-null   int64  \n",
      " 5   shutdown                7340 non-null   int64  \n",
      " 6   mini_shutdown           7340 non-null   int64  \n",
      " 7   shops_closed            7340 non-null   int64  \n",
      " 8   winter_school_holidays  7340 non-null   int64  \n",
      " 9   school_holidays         7340 non-null   int64  \n",
      " 10  blackout                7340 non-null   int64  \n",
      " 11  mov_change              7340 non-null   float64\n",
      " 12  frankfurt_shutdown      7340 non-null   int64  \n",
      " 13  precipitation           7070 non-null   float64\n",
      " 14  snow                    7070 non-null   float64\n",
      " 15  user_activity_1         7340 non-null   float64\n",
      " 16  user_activity_2         7340 non-null   float64\n",
      " 17  id                      7340 non-null   object \n",
      "dtypes: float64(6), int64(8), object(4)\n",
      "memory usage: 1.0+ MB\n"
     ]
    }
   ],
   "source": [
    "train.info()"
   ]
  },
  {
   "cell_type": "code",
   "execution_count": 6,
   "metadata": {},
   "outputs": [
    {
     "name": "stdout",
     "output_type": "stream",
     "text": [
      "<class 'pandas.core.frame.DataFrame'>\n",
      "RangeIndex: 13307 entries, 0 to 13306\n",
      "Data columns (total 15 columns):\n",
      " #   Column                  Non-Null Count  Dtype  \n",
      "---  ------                  --------------  -----  \n",
      " 0   date                    13307 non-null  object \n",
      " 1   holiday_name            563 non-null    object \n",
      " 2   holiday                 13307 non-null  int64  \n",
      " 3   shutdown                13307 non-null  int64  \n",
      " 4   mini_shutdown           13307 non-null  int64  \n",
      " 5   warehouse_limited       13307 non-null  int64  \n",
      " 6   shops_closed            13307 non-null  int64  \n",
      " 7   winter_school_holidays  13307 non-null  int64  \n",
      " 8   school_holidays         13307 non-null  int64  \n",
      " 9   blackout                13307 non-null  int64  \n",
      " 10  mov_change              13307 non-null  float64\n",
      " 11  frankfurt_shutdown      13307 non-null  int64  \n",
      " 12  precipitation           11199 non-null  float64\n",
      " 13  snow                    11199 non-null  float64\n",
      " 14  warehouse               13307 non-null  object \n",
      "dtypes: float64(3), int64(9), object(3)\n",
      "memory usage: 1.5+ MB\n"
     ]
    }
   ],
   "source": [
    "train_calendar.info()"
   ]
  },
  {
   "cell_type": "code",
   "execution_count": 7,
   "metadata": {},
   "outputs": [
    {
     "name": "stdout",
     "output_type": "stream",
     "text": [
      "<class 'pandas.core.frame.DataFrame'>\n",
      "RangeIndex: 397 entries, 0 to 396\n",
      "Data columns (total 8 columns):\n",
      " #   Column                  Non-Null Count  Dtype \n",
      "---  ------                  --------------  ----- \n",
      " 0   warehouse               397 non-null    object\n",
      " 1   date                    397 non-null    object\n",
      " 2   holiday_name            17 non-null     object\n",
      " 3   holiday                 397 non-null    int64 \n",
      " 4   shops_closed            397 non-null    int64 \n",
      " 5   winter_school_holidays  397 non-null    int64 \n",
      " 6   school_holidays         397 non-null    int64 \n",
      " 7   id                      397 non-null    object\n",
      "dtypes: int64(4), object(4)\n",
      "memory usage: 24.9+ KB\n"
     ]
    }
   ],
   "source": [
    "test.info()"
   ]
  },
  {
   "cell_type": "code",
   "execution_count": 8,
   "metadata": {},
   "outputs": [
    {
     "name": "stdout",
     "output_type": "stream",
     "text": [
      "<class 'pandas.core.frame.DataFrame'>\n",
      "RangeIndex: 1869 entries, 0 to 1868\n",
      "Data columns (total 7 columns):\n",
      " #   Column                  Non-Null Count  Dtype \n",
      "---  ------                  --------------  ----- \n",
      " 0   date                    1869 non-null   object\n",
      " 1   holiday_name            69 non-null     object\n",
      " 2   holiday                 1869 non-null   int64 \n",
      " 3   shops_closed            1869 non-null   int64 \n",
      " 4   winter_school_holidays  1869 non-null   int64 \n",
      " 5   school_holidays         1869 non-null   int64 \n",
      " 6   warehouse               1869 non-null   object\n",
      "dtypes: int64(4), object(3)\n",
      "memory usage: 102.3+ KB\n"
     ]
    }
   ],
   "source": [
    "test_calendar.info()"
   ]
  },
  {
   "cell_type": "markdown",
   "metadata": {},
   "source": [
    "#### NO duplicate data in train and train_calendar dataset"
   ]
  },
  {
   "cell_type": "code",
   "execution_count": 19,
   "metadata": {},
   "outputs": [
    {
     "name": "stdout",
     "output_type": "stream",
     "text": [
      "Empty DataFrame\n",
      "Columns: [warehouse, date, orders, holiday_name, holiday, shutdown, mini_shutdown, shops_closed, winter_school_holidays, school_holidays, blackout, mov_change, frankfurt_shutdown, precipitation, snow, user_activity_1, user_activity_2, id]\n",
      "Index: []\n",
      "Empty DataFrame\n",
      "Columns: [date, holiday_name, holiday, shutdown, mini_shutdown, warehouse_limited, shops_closed, winter_school_holidays, school_holidays, blackout, mov_change, frankfurt_shutdown, precipitation, snow, warehouse]\n",
      "Index: []\n"
     ]
    }
   ],
   "source": [
    "# check wether train,train_calender has duplicate data\n",
    "print(train[train.duplicated()])\n",
    "print(train_calendar[train_calendar.duplicated()])"
   ]
  },
  {
   "cell_type": "markdown",
   "metadata": {},
   "source": [
    "#### Train dataset don't have warehouse_limited, train_calendar don't have oders(critical target), website_activity_1,website_activity_2, and id"
   ]
  },
  {
   "cell_type": "markdown",
   "metadata": {},
   "source": [
    "#### Train dataset id is actually warehouse_date, so before join train and train_calendar, create id in train_calendar (join on id)"
   ]
  },
  {
   "cell_type": "code",
   "execution_count": 40,
   "metadata": {},
   "outputs": [
    {
     "data": {
      "text/plain": [
       "True    7340\n",
       "Name: count, dtype: int64"
      ]
     },
     "execution_count": 40,
     "metadata": {},
     "output_type": "execute_result"
    }
   ],
   "source": [
    "# check wether id = warehouse + date in train\n",
    "warehouse_date = train['warehouse'] + '_' + train['date']\n",
    "torf = warehouse_date == train['id']\n",
    "torf.value_counts()"
   ]
  },
  {
   "cell_type": "code",
   "execution_count": 62,
   "metadata": {},
   "outputs": [],
   "source": [
    "# create a new columns id in train_calendar\n",
    "id = train_calendar['warehouse'] + '_' + train_calendar['date']\n",
    "train_calendar['id'] = id"
   ]
  },
  {
   "cell_type": "markdown",
   "metadata": {},
   "source": [
    "#### New dataset for train_calendar1(it has critical target :orders, it also has website_activity_1, website_activity_2, and id )"
   ]
  },
  {
   "cell_type": "code",
   "execution_count": 108,
   "metadata": {},
   "outputs": [
    {
     "name": "stdout",
     "output_type": "stream",
     "text": [
      "<class 'pandas.core.frame.DataFrame'>\n",
      "RangeIndex: 13307 entries, 0 to 13306\n",
      "Data columns (total 19 columns):\n",
      " #   Column                  Non-Null Count  Dtype  \n",
      "---  ------                  --------------  -----  \n",
      " 0   orders                  7340 non-null   float64\n",
      " 1   user_activity_1         7340 non-null   float64\n",
      " 2   user_activity_2         7340 non-null   float64\n",
      " 3   id                      13307 non-null  object \n",
      " 4   date                    13307 non-null  object \n",
      " 5   holiday_name            563 non-null    object \n",
      " 6   holiday                 13307 non-null  int64  \n",
      " 7   shutdown                13307 non-null  int64  \n",
      " 8   mini_shutdown           13307 non-null  int64  \n",
      " 9   warehouse_limited       13307 non-null  int64  \n",
      " 10  shops_closed            13307 non-null  int64  \n",
      " 11  winter_school_holidays  13307 non-null  int64  \n",
      " 12  school_holidays         13307 non-null  int64  \n",
      " 13  blackout                13307 non-null  int64  \n",
      " 14  mov_change              13307 non-null  float64\n",
      " 15  frankfurt_shutdown      13307 non-null  int64  \n",
      " 16  precipitation           11199 non-null  float64\n",
      " 17  snow                    11199 non-null  float64\n",
      " 18  warehouse               13307 non-null  object \n",
      "dtypes: float64(6), int64(9), object(4)\n",
      "memory usage: 1.9+ MB\n"
     ]
    }
   ],
   "source": [
    "# join the dataset fully join on id\n",
    "train_calendar1 = pd.merge(train, train_calendar, how = 'outer', on = 'id', suffixes= ('_remove',''))\n",
    "train_calendar1.drop([i for i in train_calendar1.columns if '_remove' in i], axis = 1, inplace = True)\n",
    "train_calendar1.info()"
   ]
  },
  {
   "cell_type": "markdown",
   "metadata": {},
   "source": [
    "#### edit new dataset in train_calendar1(remove orders which is empty), and change it to name: train_1( train_1 has new columns: warehouse_limited)"
   ]
  },
  {
   "cell_type": "code",
   "execution_count": 122,
   "metadata": {},
   "outputs": [],
   "source": [
    "condition = train_calendar1['orders'].isnull()\n",
    "train_1 = train_calendar1[~condition]"
   ]
  },
  {
   "cell_type": "markdown",
   "metadata": {},
   "source": [
    "#### Add day, month, and year in new dataset train_1"
   ]
  },
  {
   "cell_type": "code",
   "execution_count": 121,
   "metadata": {},
   "outputs": [],
   "source": [
    "# transform date string to date format\n",
    "date = [datetime.strptime(i, '%Y-%m-%d')for i in train_1['date']]\n",
    "# extract year, month, day in date\n",
    "year = [i.year for i in date]\n",
    "month = [i.month for i in date]\n",
    "day = [i.day for i in date]\n",
    "# add year , month , day to train_1 \n",
    "train_1.loc[:,'year'] = year\n",
    "train_1.loc[:,'month'] = month\n",
    "train_1.loc[:,'day'] = day"
   ]
  },
  {
   "cell_type": "code",
   "execution_count": 123,
   "metadata": {},
   "outputs": [
    {
     "data": {
      "text/plain": [
       "warehouse\n",
       "Brno_1         1193\n",
       "Prague_1       1193\n",
       "Prague_2       1193\n",
       "Prague_3       1193\n",
       "Budapest_1     1154\n",
       "Munich_1        785\n",
       "Frankfurt_1     629\n",
       "Name: count, dtype: int64"
      ]
     },
     "execution_count": 123,
     "metadata": {},
     "output_type": "execute_result"
    }
   ],
   "source": [
    "train_1['warehouse'].value_counts()"
   ]
  },
  {
   "cell_type": "markdown",
   "metadata": {},
   "source": [
    "#### build train dataset for different warehouse"
   ]
  },
  {
   "cell_type": "code",
   "execution_count": 129,
   "metadata": {},
   "outputs": [],
   "source": [
    "Brno1_train = train_1[train_1['warehouse'] == 'Brno_1']\n",
    "Prague1_train = train_1[train_1['warehouse'] == 'Prague_1']\n",
    "Prague2_train = train_1[train_1['warehouse'] == 'Prague_2']\n",
    "Prague3_train = train_1[train_1['warehouse'] == 'Prague_3']\n",
    "Budapest1_train = train_1[train_1['warehouse'] == 'Budapest_1']\n",
    "Munich1_train = train_1[train_1['warehouse'] == 'Munich_1']\n",
    "Frankfurt1_train = train_1[train_1['warehouse'] == 'Frankurt_1']\n"
   ]
  }
 ],
 "metadata": {
  "kernelspec": {
   "display_name": "pythontest1",
   "language": "python",
   "name": "python3"
  },
  "language_info": {
   "codemirror_mode": {
    "name": "ipython",
    "version": 3
   },
   "file_extension": ".py",
   "mimetype": "text/x-python",
   "name": "python",
   "nbconvert_exporter": "python",
   "pygments_lexer": "ipython3",
   "version": "3.11.4"
  }
 },
 "nbformat": 4,
 "nbformat_minor": 2
}
