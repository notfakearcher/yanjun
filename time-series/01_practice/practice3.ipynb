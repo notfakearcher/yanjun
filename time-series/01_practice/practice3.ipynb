{
 "cells": [
  {
   "cell_type": "markdown",
   "metadata": {},
   "source": [
    "# Import Library"
   ]
  },
  {
   "cell_type": "code",
   "execution_count": 44,
   "metadata": {},
   "outputs": [],
   "source": [
    "import pandas as pd\n",
    "import numpy as np\n",
    "from datetime import datetime\n",
    "import yfinance as yf\n",
    "import matplotlib.pyplot as plt"
   ]
  },
  {
   "cell_type": "code",
   "execution_count": 45,
   "metadata": {},
   "outputs": [
    {
     "name": "stderr",
     "output_type": "stream",
     "text": [
      "[*********************100%%**********************]  1 of 1 completed\n"
     ]
    }
   ],
   "source": [
    "start_date = datetime(2005, 1, 1)\n",
    "end_date = datetime(2021, 1, 1)\n",
    "\n",
    "df = yf.download(\n",
    "  'SPY', \n",
    "  start = start_date,\n",
    "  end = end_date\n",
    ")"
   ]
  },
  {
   "cell_type": "code",
   "execution_count": 46,
   "metadata": {},
   "outputs": [
    {
     "data": {
      "text/html": [
       "<div>\n",
       "<style scoped>\n",
       "    .dataframe tbody tr th:only-of-type {\n",
       "        vertical-align: middle;\n",
       "    }\n",
       "\n",
       "    .dataframe tbody tr th {\n",
       "        vertical-align: top;\n",
       "    }\n",
       "\n",
       "    .dataframe thead th {\n",
       "        text-align: right;\n",
       "    }\n",
       "</style>\n",
       "<table border=\"1\" class=\"dataframe\">\n",
       "  <thead>\n",
       "    <tr style=\"text-align: right;\">\n",
       "      <th></th>\n",
       "      <th>Open</th>\n",
       "      <th>High</th>\n",
       "      <th>Low</th>\n",
       "      <th>Close</th>\n",
       "      <th>Adj Close</th>\n",
       "      <th>Volume</th>\n",
       "    </tr>\n",
       "    <tr>\n",
       "      <th>Date</th>\n",
       "      <th></th>\n",
       "      <th></th>\n",
       "      <th></th>\n",
       "      <th></th>\n",
       "      <th></th>\n",
       "      <th></th>\n",
       "    </tr>\n",
       "  </thead>\n",
       "  <tbody>\n",
       "    <tr>\n",
       "      <th>2005-01-03</th>\n",
       "      <td>121.559998</td>\n",
       "      <td>121.760002</td>\n",
       "      <td>119.900002</td>\n",
       "      <td>120.300003</td>\n",
       "      <td>83.364349</td>\n",
       "      <td>55748000</td>\n",
       "    </tr>\n",
       "    <tr>\n",
       "      <th>2005-01-04</th>\n",
       "      <td>120.459999</td>\n",
       "      <td>120.540001</td>\n",
       "      <td>118.440002</td>\n",
       "      <td>118.830002</td>\n",
       "      <td>82.345726</td>\n",
       "      <td>69167600</td>\n",
       "    </tr>\n",
       "    <tr>\n",
       "      <th>2005-01-05</th>\n",
       "      <td>118.739998</td>\n",
       "      <td>119.250000</td>\n",
       "      <td>118.000000</td>\n",
       "      <td>118.010002</td>\n",
       "      <td>81.777451</td>\n",
       "      <td>65667300</td>\n",
       "    </tr>\n",
       "    <tr>\n",
       "      <th>2005-01-06</th>\n",
       "      <td>118.440002</td>\n",
       "      <td>119.150002</td>\n",
       "      <td>118.260002</td>\n",
       "      <td>118.610001</td>\n",
       "      <td>82.193237</td>\n",
       "      <td>47814700</td>\n",
       "    </tr>\n",
       "    <tr>\n",
       "      <th>2005-01-07</th>\n",
       "      <td>118.970001</td>\n",
       "      <td>119.230003</td>\n",
       "      <td>118.129997</td>\n",
       "      <td>118.440002</td>\n",
       "      <td>82.075439</td>\n",
       "      <td>55847700</td>\n",
       "    </tr>\n",
       "    <tr>\n",
       "      <th>...</th>\n",
       "      <td>...</td>\n",
       "      <td>...</td>\n",
       "      <td>...</td>\n",
       "      <td>...</td>\n",
       "      <td>...</td>\n",
       "      <td>...</td>\n",
       "    </tr>\n",
       "    <tr>\n",
       "      <th>2020-12-24</th>\n",
       "      <td>368.079987</td>\n",
       "      <td>369.029999</td>\n",
       "      <td>367.450012</td>\n",
       "      <td>369.000000</td>\n",
       "      <td>351.874725</td>\n",
       "      <td>26457900</td>\n",
       "    </tr>\n",
       "    <tr>\n",
       "      <th>2020-12-28</th>\n",
       "      <td>371.739990</td>\n",
       "      <td>372.589996</td>\n",
       "      <td>371.070007</td>\n",
       "      <td>372.170013</td>\n",
       "      <td>354.897644</td>\n",
       "      <td>39000400</td>\n",
       "    </tr>\n",
       "    <tr>\n",
       "      <th>2020-12-29</th>\n",
       "      <td>373.809998</td>\n",
       "      <td>374.000000</td>\n",
       "      <td>370.829987</td>\n",
       "      <td>371.459991</td>\n",
       "      <td>354.220551</td>\n",
       "      <td>53680500</td>\n",
       "    </tr>\n",
       "    <tr>\n",
       "      <th>2020-12-30</th>\n",
       "      <td>372.339996</td>\n",
       "      <td>373.100006</td>\n",
       "      <td>371.570007</td>\n",
       "      <td>371.989990</td>\n",
       "      <td>354.725983</td>\n",
       "      <td>49455300</td>\n",
       "    </tr>\n",
       "    <tr>\n",
       "      <th>2020-12-31</th>\n",
       "      <td>371.779999</td>\n",
       "      <td>374.660004</td>\n",
       "      <td>371.230011</td>\n",
       "      <td>373.880005</td>\n",
       "      <td>356.528229</td>\n",
       "      <td>78520700</td>\n",
       "    </tr>\n",
       "  </tbody>\n",
       "</table>\n",
       "<p>4028 rows × 6 columns</p>\n",
       "</div>"
      ],
      "text/plain": [
       "                  Open        High         Low       Close   Adj Close  \\\n",
       "Date                                                                     \n",
       "2005-01-03  121.559998  121.760002  119.900002  120.300003   83.364349   \n",
       "2005-01-04  120.459999  120.540001  118.440002  118.830002   82.345726   \n",
       "2005-01-05  118.739998  119.250000  118.000000  118.010002   81.777451   \n",
       "2005-01-06  118.440002  119.150002  118.260002  118.610001   82.193237   \n",
       "2005-01-07  118.970001  119.230003  118.129997  118.440002   82.075439   \n",
       "...                ...         ...         ...         ...         ...   \n",
       "2020-12-24  368.079987  369.029999  367.450012  369.000000  351.874725   \n",
       "2020-12-28  371.739990  372.589996  371.070007  372.170013  354.897644   \n",
       "2020-12-29  373.809998  374.000000  370.829987  371.459991  354.220551   \n",
       "2020-12-30  372.339996  373.100006  371.570007  371.989990  354.725983   \n",
       "2020-12-31  371.779999  374.660004  371.230011  373.880005  356.528229   \n",
       "\n",
       "              Volume  \n",
       "Date                  \n",
       "2005-01-03  55748000  \n",
       "2005-01-04  69167600  \n",
       "2005-01-05  65667300  \n",
       "2005-01-06  47814700  \n",
       "2005-01-07  55847700  \n",
       "...              ...  \n",
       "2020-12-24  26457900  \n",
       "2020-12-28  39000400  \n",
       "2020-12-29  53680500  \n",
       "2020-12-30  49455300  \n",
       "2020-12-31  78520700  \n",
       "\n",
       "[4028 rows x 6 columns]"
      ]
     },
     "execution_count": 46,
     "metadata": {},
     "output_type": "execute_result"
    }
   ],
   "source": [
    "df"
   ]
  },
  {
   "cell_type": "code",
   "execution_count": 47,
   "metadata": {},
   "outputs": [
    {
     "data": {
      "text/plain": [
       "Text(0.5, 0, 'Date')"
      ]
     },
     "execution_count": 47,
     "metadata": {},
     "output_type": "execute_result"
    },
    {
     "data": {
      "image/png": "[encoded data removed]",
      "text/plain": [
       "<Figure size 640x480 with 1 Axes>"
      ]
     },
     "metadata": {},
     "output_type": "display_data"
    }
   ],
   "source": [
    "plt.title('Opening price between {} and {}'.format(start_date.date().isoformat(), end_date.date().isoformat()))\n",
    "df['Open'].plot()\n",
    "plt.ylabel('Price')\n",
    "plt.xlabel('Date')"
   ]
  },
  {
   "cell_type": "code",
   "execution_count": 48,
   "metadata": {},
   "outputs": [
    {
     "ename": "TypeError",
     "evalue": "Indexing a Series with DataFrame is not supported, use the appropriate DataFrame column",
     "output_type": "error",
     "traceback": [
      "\u001b[1;31m---------------------------------------------------------------------------\u001b[0m",
      "\u001b[1;31mTypeError\u001b[0m                                 Traceback (most recent call last)",
      "Cell \u001b[1;32mIn[48], line 3\u001b[0m\n\u001b[0;32m      1\u001b[0m \u001b[38;5;66;03m# resample the data to weekly data and make each year consistent\u001b[39;00m\n\u001b[0;32m      2\u001b[0m df1 \u001b[38;5;241m=\u001b[39m df\u001b[38;5;241m.\u001b[39mreset_index()\u001b[38;5;241m.\u001b[39mresample(\u001b[38;5;124m'\u001b[39m\u001b[38;5;124mW\u001b[39m\u001b[38;5;124m'\u001b[39m, on \u001b[38;5;241m=\u001b[39m \u001b[38;5;124m'\u001b[39m\u001b[38;5;124mDate\u001b[39m\u001b[38;5;124m'\u001b[39m)[\u001b[38;5;124m'\u001b[39m\u001b[38;5;124mOpen\u001b[39m\u001b[38;5;124m'\u001b[39m]\u001b[38;5;241m.\u001b[39mmean()\n\u001b[1;32m----> 3\u001b[0m df1 \u001b[38;5;241m=\u001b[39m \u001b[43mdf1\u001b[49m\u001b[43m[\u001b[49m\u001b[43mdf\u001b[49m\u001b[43m]\u001b[49m\n",
      "File \u001b[1;32mc:\\Users\\julia\\miniconda3\\envs\\pythontest1\\Lib\\site-packages\\pandas\\core\\series.py:1007\u001b[0m, in \u001b[0;36mSeries.__getitem__\u001b[1;34m(self, key)\u001b[0m\n\u001b[0;32m   1004\u001b[0m     key \u001b[38;5;241m=\u001b[39m np\u001b[38;5;241m.\u001b[39masarray(key, dtype\u001b[38;5;241m=\u001b[39m\u001b[38;5;28mbool\u001b[39m)\n\u001b[0;32m   1005\u001b[0m     \u001b[38;5;28;01mreturn\u001b[39;00m \u001b[38;5;28mself\u001b[39m\u001b[38;5;241m.\u001b[39m_get_values(key)\n\u001b[1;32m-> 1007\u001b[0m \u001b[38;5;28;01mreturn\u001b[39;00m \u001b[38;5;28;43mself\u001b[39;49m\u001b[38;5;241;43m.\u001b[39;49m\u001b[43m_get_with\u001b[49m\u001b[43m(\u001b[49m\u001b[43mkey\u001b[49m\u001b[43m)\u001b[49m\n",
      "File \u001b[1;32mc:\\Users\\julia\\miniconda3\\envs\\pythontest1\\Lib\\site-packages\\pandas\\core\\series.py:1017\u001b[0m, in \u001b[0;36mSeries._get_with\u001b[1;34m(self, key)\u001b[0m\n\u001b[0;32m   1015\u001b[0m     \u001b[38;5;28;01mreturn\u001b[39;00m \u001b[38;5;28mself\u001b[39m\u001b[38;5;241m.\u001b[39m_slice(slobj)\n\u001b[0;32m   1016\u001b[0m \u001b[38;5;28;01melif\u001b[39;00m \u001b[38;5;28misinstance\u001b[39m(key, ABCDataFrame):\n\u001b[1;32m-> 1017\u001b[0m     \u001b[38;5;28;01mraise\u001b[39;00m \u001b[38;5;167;01mTypeError\u001b[39;00m(\n\u001b[0;32m   1018\u001b[0m         \u001b[38;5;124m\"\u001b[39m\u001b[38;5;124mIndexing a Series with DataFrame is not \u001b[39m\u001b[38;5;124m\"\u001b[39m\n\u001b[0;32m   1019\u001b[0m         \u001b[38;5;124m\"\u001b[39m\u001b[38;5;124msupported, use the appropriate DataFrame column\u001b[39m\u001b[38;5;124m\"\u001b[39m\n\u001b[0;32m   1020\u001b[0m     )\n\u001b[0;32m   1021\u001b[0m \u001b[38;5;28;01melif\u001b[39;00m \u001b[38;5;28misinstance\u001b[39m(key, \u001b[38;5;28mtuple\u001b[39m):\n\u001b[0;32m   1022\u001b[0m     \u001b[38;5;28;01mreturn\u001b[39;00m \u001b[38;5;28mself\u001b[39m\u001b[38;5;241m.\u001b[39m_get_values_tuple(key)\n",
      "\u001b[1;31mTypeError\u001b[0m: Indexing a Series with DataFrame is not supported, use the appropriate DataFrame column"
     ]
    }
   ],
   "source": [
    "# resample the data to weekly data and make each year consistent\n",
    "df1 = df.reset_index().resample('W', on = 'Date')['Open'].mean()\n",
    "df1 = df1[df]"
   ]
  },
  {
   "cell_type": "code",
   "execution_count": null,
   "metadata": {},
   "outputs": [
    {
     "name": "stderr",
     "output_type": "stream",
     "text": [
      "C:\\Users\\julia\\AppData\\Local\\Temp\\ipykernel_22408\\648574031.py:1: FutureWarning: weekofyear and week have been deprecated, please use DatetimeIndex.isocalendar().week instead, which returns a Series. To exactly reproduce the behavior of week and weekofyear and return an Index, you may call pd.Int64Index(idx.isocalendar().week)\n",
      "  df1 = df1[df1.index.week < 53]\n"
     ]
    },
    {
     "data": {
      "text/plain": [
       "Date\n",
       "2005-01-09    119.634000\n",
       "2005-01-16    118.398000\n",
       "2005-01-23    118.290001\n",
       "2005-01-30    117.200000\n",
       "2005-02-06    118.663998\n",
       "                 ...    \n",
       "2020-11-29    361.114998\n",
       "2020-12-06    365.444000\n",
       "2020-12-13    367.577997\n",
       "2020-12-20    369.754004\n",
       "2020-12-27    367.384995\n",
       "Name: Open, Length: 832, dtype: float64"
      ]
     },
     "execution_count": 25,
     "metadata": {},
     "output_type": "execute_result"
    }
   ],
   "source": [
    "# df1 = df1[df1.index.week < 53]\n",
    "df1"
   ]
  },
  {
   "cell_type": "code",
   "execution_count": null,
   "metadata": {},
   "outputs": [
    {
     "data": {
      "text/plain": [
       "Date\n",
       "2005-01-09     1\n",
       "2005-01-16     2\n",
       "2005-01-23     3\n",
       "2005-01-30     4\n",
       "2005-02-06     5\n",
       "              ..\n",
       "2020-11-29    48\n",
       "2020-12-06    49\n",
       "2020-12-13    50\n",
       "2020-12-20    51\n",
       "2020-12-27    52\n",
       "Name: week, Length: 832, dtype: UInt32"
      ]
     },
     "execution_count": 27,
     "metadata": {},
     "output_type": "execute_result"
    }
   ],
   "source": [
    "cond = df1.index.isocalendar().week\n",
    "cond"
   ]
  }
 ],
 "metadata": {
  "kernelspec": {
   "display_name": "pythontest1",
   "language": "python",
   "name": "python3"
  },
  "language_info": {
   "codemirror_mode": {
    "name": "ipython",
    "version": 3
   },
   "file_extension": ".py",
   "mimetype": "text/x-python",
   "name": "python",
   "nbconvert_exporter": "python",
   "pygments_lexer": "ipython3",
   "version": "3.11.4"
  }
 },
 "nbformat": 4,
 "nbformat_minor": 2
}
