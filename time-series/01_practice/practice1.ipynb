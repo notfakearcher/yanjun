{
 "cells": [
  {
   "cell_type": "markdown",
   "metadata": {},
   "source": [
    "# Import Libraries"
   ]
  },
  {
   "cell_type": "code",
   "execution_count": 64,
   "metadata": {},
   "outputs": [],
   "source": [
    "import pandas as pd\n",
    "import numpy as np\n",
    "from datetime import datetime\n",
    "import matplotlib.pyplot as plt\n"
   ]
  },
  {
   "cell_type": "markdown",
   "metadata": {},
   "source": [
    "# Import dataset"
   ]
  },
  {
   "cell_type": "code",
   "execution_count": 63,
   "metadata": {},
   "outputs": [
    {
     "name": "stdout",
     "output_type": "stream",
     "text": [
      "<class 'pandas.core.frame.DataFrame'>\n",
      "RangeIndex: 331 entries, 0 to 330\n",
      "Data columns (total 4 columns):\n",
      " #   Column                                                        Non-Null Count  Dtype  \n",
      "---  ------                                                        --------------  -----  \n",
      " 0   Entity                                                        331 non-null    object \n",
      " 1   Year                                                          331 non-null    int64  \n",
      " 2   Smoke (Fouquet and DPCC (2011))                               301 non-null    float64\n",
      " 3   Suspended Particulate Matter (SPM) (Fouquet and DPCC (2011))  331 non-null    float64\n",
      "dtypes: float64(2), int64(1), object(1)\n",
      "memory usage: 10.5+ KB\n"
     ]
    }
   ],
   "source": [
    "path = 'https://raw.githubusercontent.com/owid/owid-datasets/master/datasets/Air%20pollution%20by%20city%20-%20Fouquet%20and%20DPCC%20(2011)/Air%20pollution%20by%20city%20-%20Fouquet%20and%20DPCC%20(2011).csv'\n",
    "pollution = pd.read_csv(path)\n",
    "pollution.info()\n"
   ]
  },
  {
   "cell_type": "code",
   "execution_count": 65,
   "metadata": {},
   "outputs": [
    {
     "data": {
      "text/plain": [
       "Entity                                                           0\n",
       "Year                                                             0\n",
       "Smoke (Fouquet and DPCC (2011))                                 30\n",
       "Suspended Particulate Matter (SPM) (Fouquet and DPCC (2011))     0\n",
       "dtype: int64"
      ]
     },
     "execution_count": 65,
     "metadata": {},
     "output_type": "execute_result"
    }
   ],
   "source": [
    "pollution.isnull().sum()"
   ]
  },
  {
   "cell_type": "code",
   "execution_count": 67,
   "metadata": {},
   "outputs": [
    {
     "data": {
      "text/html": [
       "<div>\n",
       "<style scoped>\n",
       "    .dataframe tbody tr th:only-of-type {\n",
       "        vertical-align: middle;\n",
       "    }\n",
       "\n",
       "    .dataframe tbody tr th {\n",
       "        vertical-align: top;\n",
       "    }\n",
       "\n",
       "    .dataframe thead th {\n",
       "        text-align: right;\n",
       "    }\n",
       "</style>\n",
       "<table border=\"1\" class=\"dataframe\">\n",
       "  <thead>\n",
       "    <tr style=\"text-align: right;\">\n",
       "      <th></th>\n",
       "      <th>Entity</th>\n",
       "      <th>Year</th>\n",
       "      <th>Smoke (Fouquet and DPCC (2011))</th>\n",
       "      <th>Suspended Particulate Matter (SPM) (Fouquet and DPCC (2011))</th>\n",
       "    </tr>\n",
       "  </thead>\n",
       "  <tbody>\n",
       "    <tr>\n",
       "      <th>14</th>\n",
       "      <td>London</td>\n",
       "      <td>1700</td>\n",
       "      <td>142.857143</td>\n",
       "      <td>259.740260</td>\n",
       "    </tr>\n",
       "    <tr>\n",
       "      <th>15</th>\n",
       "      <td>London</td>\n",
       "      <td>1701</td>\n",
       "      <td>144.285714</td>\n",
       "      <td>262.337662</td>\n",
       "    </tr>\n",
       "    <tr>\n",
       "      <th>16</th>\n",
       "      <td>London</td>\n",
       "      <td>1702</td>\n",
       "      <td>145.714286</td>\n",
       "      <td>264.935065</td>\n",
       "    </tr>\n",
       "    <tr>\n",
       "      <th>17</th>\n",
       "      <td>London</td>\n",
       "      <td>1703</td>\n",
       "      <td>147.142857</td>\n",
       "      <td>267.532467</td>\n",
       "    </tr>\n",
       "    <tr>\n",
       "      <th>18</th>\n",
       "      <td>London</td>\n",
       "      <td>1704</td>\n",
       "      <td>148.571429</td>\n",
       "      <td>270.129870</td>\n",
       "    </tr>\n",
       "    <tr>\n",
       "      <th>...</th>\n",
       "      <td>...</td>\n",
       "      <td>...</td>\n",
       "      <td>...</td>\n",
       "      <td>...</td>\n",
       "    </tr>\n",
       "    <tr>\n",
       "      <th>310</th>\n",
       "      <td>London</td>\n",
       "      <td>1996</td>\n",
       "      <td>14.300000</td>\n",
       "      <td>26.000000</td>\n",
       "    </tr>\n",
       "    <tr>\n",
       "      <th>311</th>\n",
       "      <td>London</td>\n",
       "      <td>1997</td>\n",
       "      <td>13.750000</td>\n",
       "      <td>25.000000</td>\n",
       "    </tr>\n",
       "    <tr>\n",
       "      <th>312</th>\n",
       "      <td>London</td>\n",
       "      <td>1998</td>\n",
       "      <td>13.750000</td>\n",
       "      <td>25.000000</td>\n",
       "    </tr>\n",
       "    <tr>\n",
       "      <th>313</th>\n",
       "      <td>London</td>\n",
       "      <td>1999</td>\n",
       "      <td>13.750000</td>\n",
       "      <td>25.000000</td>\n",
       "    </tr>\n",
       "    <tr>\n",
       "      <th>314</th>\n",
       "      <td>London</td>\n",
       "      <td>2000</td>\n",
       "      <td>13.750000</td>\n",
       "      <td>25.000000</td>\n",
       "    </tr>\n",
       "  </tbody>\n",
       "</table>\n",
       "<p>301 rows × 4 columns</p>\n",
       "</div>"
      ],
      "text/plain": [
       "     Entity  Year  Smoke (Fouquet and DPCC (2011))  \\\n",
       "14   London  1700                       142.857143   \n",
       "15   London  1701                       144.285714   \n",
       "16   London  1702                       145.714286   \n",
       "17   London  1703                       147.142857   \n",
       "18   London  1704                       148.571429   \n",
       "..      ...   ...                              ...   \n",
       "310  London  1996                        14.300000   \n",
       "311  London  1997                        13.750000   \n",
       "312  London  1998                        13.750000   \n",
       "313  London  1999                        13.750000   \n",
       "314  London  2000                        13.750000   \n",
       "\n",
       "     Suspended Particulate Matter (SPM) (Fouquet and DPCC (2011))  \n",
       "14                                          259.740260             \n",
       "15                                          262.337662             \n",
       "16                                          264.935065             \n",
       "17                                          267.532467             \n",
       "18                                          270.129870             \n",
       "..                                                 ...             \n",
       "310                                          26.000000             \n",
       "311                                          25.000000             \n",
       "312                                          25.000000             \n",
       "313                                          25.000000             \n",
       "314                                          25.000000             \n",
       "\n",
       "[301 rows x 4 columns]"
      ]
     },
     "execution_count": 67,
     "metadata": {},
     "output_type": "execute_result"
    }
   ],
   "source": [
    "pollution1 = pollution.copy()\n",
    "pollution1 = pollution1.dropna()\n",
    "pollution1= pollution1.reset_index(drop = )"
   ]
  }
 ],
 "metadata": {
  "kernelspec": {
   "display_name": "pythontest1",
   "language": "python",
   "name": "python3"
  },
  "language_info": {
   "codemirror_mode": {
    "name": "ipython",
    "version": 3
   },
   "file_extension": ".py",
   "mimetype": "text/x-python",
   "name": "python",
   "nbconvert_exporter": "python",
   "pygments_lexer": "ipython3",
   "version": "3.11.4"
  }
 },
 "nbformat": 4,
 "nbformat_minor": 2
}
