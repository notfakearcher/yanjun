{
 "cells": [
  {
   "cell_type": "markdown",
   "metadata": {},
   "source": [
    "# Imputation"
   ]
  },
  {
   "cell_type": "markdown",
   "metadata": {},
   "source": [
    "## import Library"
   ]
  },
  {
   "cell_type": "code",
   "execution_count": 102,
   "metadata": {},
   "outputs": [],
   "source": [
    "import numpy as np\n",
    "import pandas as pd\n",
    "from sklearn.impute import SimpleImputer"
   ]
  },
  {
   "cell_type": "code",
   "execution_count": 103,
   "metadata": {},
   "outputs": [
    {
     "data": {
      "text/plain": [
       "[[1, nan, 3], [nan, nan, 6], [nan, 9, 3]]"
      ]
     },
     "execution_count": 103,
     "metadata": {},
     "output_type": "execute_result"
    }
   ],
   "source": [
    "m = [[1,np.nan,3],[np.nan,np.nan,6],[np.nan,9,3]]\n",
    "m"
   ]
  },
  {
   "cell_type": "code",
   "execution_count": 104,
   "metadata": {},
   "outputs": [],
   "source": [
    "imp_mean = SimpleImputer(missing_values= np.nan, strategy= 'mean')\n",
    "imp_mean.fit(m)\n",
    "df = [[np.nan, 1,np.nan],[4, 0, 6], [np.nan, 2, np.nan]]"
   ]
  },
  {
   "cell_type": "code",
   "execution_count": 105,
   "metadata": {},
   "outputs": [],
   "source": [
    "p = imp_mean.transform(df)\n",
    "# replace the missing data with the mean of orignal data of each columns not the current data "
   ]
  },
  {
   "cell_type": "markdown",
   "metadata": {},
   "source": [
    "# Holidays "
   ]
  },
  {
   "cell_type": "markdown",
   "metadata": {},
   "source": [
    "## Import Library"
   ]
  },
  {
   "cell_type": "code",
   "execution_count": 106,
   "metadata": {},
   "outputs": [],
   "source": [
    "from workalendar.europe.united_kingdom import UnitedKingdom"
   ]
  },
  {
   "cell_type": "code",
   "execution_count": 107,
   "metadata": {},
   "outputs": [
    {
     "data": {
      "text/plain": [
       "[(datetime.date(2024, 1, 1), 'New year'),\n",
       " (datetime.date(2024, 3, 29), 'Good Friday'),\n",
       " (datetime.date(2024, 3, 31), 'Easter Sunday'),\n",
       " (datetime.date(2024, 4, 1), 'Easter Monday'),\n",
       " (datetime.date(2024, 5, 6), 'Early May Bank Holiday'),\n",
       " (datetime.date(2024, 5, 27), 'Spring Bank Holiday'),\n",
       " (datetime.date(2024, 8, 26), 'Late Summer Bank Holiday'),\n",
       " (datetime.date(2024, 12, 25), 'Christmas Day'),\n",
       " (datetime.date(2024, 12, 26), 'Boxing Day')]"
      ]
     },
     "execution_count": 107,
     "metadata": {},
     "output_type": "execute_result"
    }
   ],
   "source": [
    "UnitedKingdom().holidays()"
   ]
  },
  {
   "cell_type": "code",
   "execution_count": 108,
   "metadata": {},
   "outputs": [],
   "source": [
    "from typing import List\n",
    "from dateutil.relativedelta import relativedelta, TH\n",
    "import datetime\n",
    "from workalendar.usa import California"
   ]
  },
  {
   "cell_type": "code",
   "execution_count": 109,
   "metadata": {},
   "outputs": [],
   "source": [
    "class holidays:\n",
    "  def __init__(self, year):\n",
    "    self.year = year\n",
    "  \n",
    "  \n",
    "  def create_custom_holidays(self) -> List:\n",
    "    self.new_holidays = datetime.datetime(self.year, 11,1) + relativedelta(weekday= TH(+4)) +datetime.timedelta(days = 1)\n",
    "    self.custom_hlidays = California().holidays()\n",
    "    self.custom_hlidays.append((self.new_holidays.date(),'Black Friday'))\n",
    "    # return {k : v for (k, v) in custom_hlidays}\n",
    "    return self.custom_hlidays\n",
    "  \n",
    "  def get_holidays_date(self) -> List:\n",
    "    self.holidays_list = [u for (u, v) in self.create_custom_holidays()]\n",
    "    return self.holidays_list\n",
    "  \n",
    "  def is_holiday(self, current_date: datetime.date):\n",
    "    \"\"\"Determine if we have a holiday\"\"\"\n",
    "    if current_date in self.get_holidays_date():\n",
    "      return True\n",
    "    else :\n",
    "      return False\n",
    "  \n",
    "  "
   ]
  },
  {
   "cell_type": "code",
   "execution_count": 110,
   "metadata": {},
   "outputs": [
    {
     "data": {
      "text/plain": [
       "True"
      ]
     },
     "execution_count": 110,
     "metadata": {},
     "output_type": "execute_result"
    }
   ],
   "source": [
    "today = datetime.date(2024, 1, 15)\n",
    "ho = holidays(2024)\n",
    "ho.create_custom_holidays()\n",
    "ho.get_holidays_date()\n",
    "ho.is_holiday(today)\n"
   ]
  },
  {
   "cell_type": "markdown",
   "metadata": {},
   "source": [
    "# Date Annotation"
   ]
  },
  {
   "cell_type": "code",
   "execution_count": 111,
   "metadata": {},
   "outputs": [
    {
     "data": {
      "text/plain": [
       "(0, 31)"
      ]
     },
     "execution_count": 111,
     "metadata": {},
     "output_type": "execute_result"
    }
   ],
   "source": [
    "import calendar\n",
    "calendar.monthrange(2024,1)"
   ]
  },
  {
   "cell_type": "code",
   "execution_count": 112,
   "metadata": {},
   "outputs": [],
   "source": [
    "def year_anchor(current_date : datetime.date):\n",
    "  return (\n",
    "    (current_date - datetime.date(current_date.year, 1, 1)).days,\n",
    "    (datetime.date(current_date.year, 12, 31) - current_date).days\n",
    "  )"
   ]
  },
  {
   "cell_type": "code",
   "execution_count": 113,
   "metadata": {},
   "outputs": [],
   "source": [
    "now = datetime.date.today()"
   ]
  },
  {
   "cell_type": "code",
   "execution_count": null,
   "metadata": {},
   "outputs": [],
   "source": []
  },
  {
   "cell_type": "code",
   "execution_count": 114,
   "metadata": {},
   "outputs": [
    {
     "data": {
      "text/plain": [
       "(79, 286)"
      ]
     },
     "execution_count": 114,
     "metadata": {},
     "output_type": "execute_result"
    }
   ],
   "source": [
    "year_anchor(now)"
   ]
  },
  {
   "cell_type": "code",
   "execution_count": 115,
   "metadata": {},
   "outputs": [
    {
     "data": {
      "text/plain": [
       "15"
      ]
     },
     "execution_count": 115,
     "metadata": {},
     "output_type": "execute_result"
    }
   ],
   "source": [
    "calendar.monthcalendar(now.year, now.month)[2][calendar.FRIDAY]"
   ]
  },
  {
   "cell_type": "code",
   "execution_count": 116,
   "metadata": {},
   "outputs": [],
   "source": [
    "def get_last_friday(current_date: datetime.date, weekday = calendar.FRIDAY):\n",
    "  return max(week[weekday] for week in calendar.monthcalendar(current_date.year, current_date.month))"
   ]
  },
  {
   "cell_type": "code",
   "execution_count": 117,
   "metadata": {},
   "outputs": [
    {
     "data": {
      "text/plain": [
       "29"
      ]
     },
     "execution_count": 117,
     "metadata": {},
     "output_type": "execute_result"
    }
   ],
   "source": [
    "get_last_friday(now)"
   ]
  },
  {
   "cell_type": "markdown",
   "metadata": {},
   "source": [
    "## Season"
   ]
  },
  {
   "cell_type": "code",
   "execution_count": 118,
   "metadata": {},
   "outputs": [],
   "source": [
    "YEAR = 2021\n",
    "seasons = [\n",
    "  ('winter', (datetime.date(YEAR, 1, 1), datetime.date(YEAR, 3, 20))),\n",
    "  ('spring', (datetime.date(YEAR, 3, 21), datetime.date(YEAR, 6, 20))),\n",
    "  ('summer', (datetime.date(YEAR, 6, 21), datetime.date(YEAR, 9, 22))),\n",
    "  ('autumn', (datetime.date(YEAR, 9, 23), datetime.date(YEAR, 12, 20))),\n",
    "  ('winter', (datetime.date(YEAR, 12, 21), datetime.date(YEAR, 12, 31)))\n",
    "]\n",
    "\n",
    "\n",
    "\n",
    "\n",
    "def is_in_interval(current_date: datetime.date, seasons):\n",
    "  # return next(season for (season , (start, end)) in seasons if start <= current_date.replace(year = YEAR) <= end) \n",
    "  \n",
    "  \n",
    "  \n",
    "  \n",
    "  # season_list = [season for (season , (start, end)) in seasons]\n",
    "  for i,j in enumerate(seasons):\n",
    "    if j[1][0] <= current_date.replace(year = YEAR) <= j[1][1] :\n",
    "      return j[0]\n",
    "    else:\n",
    "      return False\n",
    "  \n",
    "    \n",
    "    \n",
    "    "
   ]
  },
  {
   "cell_type": "code",
   "execution_count": 119,
   "metadata": {},
   "outputs": [],
   "source": [
    "now1 = datetime.date.today()"
   ]
  },
  {
   "cell_type": "code",
   "execution_count": 120,
   "metadata": {},
   "outputs": [
    {
     "data": {
      "text/plain": [
       "datetime.date(2024, 3, 20)"
      ]
     },
     "execution_count": 120,
     "metadata": {},
     "output_type": "execute_result"
    }
   ],
   "source": [
    "now1"
   ]
  },
  {
   "cell_type": "code",
   "execution_count": 121,
   "metadata": {},
   "outputs": [
    {
     "data": {
      "text/plain": [
       "'winter'"
      ]
     },
     "execution_count": 121,
     "metadata": {},
     "output_type": "execute_result"
    }
   ],
   "source": [
    "is_in_interval(now1, seasons)"
   ]
  },
  {
   "cell_type": "markdown",
   "metadata": {},
   "source": [
    "# Automated Feature Extraction"
   ]
  },
  {
   "cell_type": "code",
   "execution_count": 122,
   "metadata": {},
   "outputs": [],
   "source": [
    "import featuretools as ft\n",
    "from featuretools.primitives import Minute, Hour, Day, Month, Year, Weekday"
   ]
  },
  {
   "cell_type": "code",
   "execution_count": 123,
   "metadata": {},
   "outputs": [
    {
     "data": {
      "text/html": [
       "<div>\n",
       "<style scoped>\n",
       "    .dataframe tbody tr th:only-of-type {\n",
       "        vertical-align: middle;\n",
       "    }\n",
       "\n",
       "    .dataframe tbody tr th {\n",
       "        vertical-align: top;\n",
       "    }\n",
       "\n",
       "    .dataframe thead th {\n",
       "        text-align: right;\n",
       "    }\n",
       "</style>\n",
       "<table border=\"1\" class=\"dataframe\">\n",
       "  <thead>\n",
       "    <tr style=\"text-align: right;\">\n",
       "      <th></th>\n",
       "      <th>Time</th>\n",
       "      <th>Target</th>\n",
       "    </tr>\n",
       "  </thead>\n",
       "  <tbody>\n",
       "    <tr>\n",
       "      <th>0</th>\n",
       "      <td>2014-01-01 01:41:50</td>\n",
       "      <td>0</td>\n",
       "    </tr>\n",
       "    <tr>\n",
       "      <th>1</th>\n",
       "      <td>2014-01-01 02:06:50</td>\n",
       "      <td>0</td>\n",
       "    </tr>\n",
       "    <tr>\n",
       "      <th>2</th>\n",
       "      <td>2014-01-01 02:31:50</td>\n",
       "      <td>0</td>\n",
       "    </tr>\n",
       "    <tr>\n",
       "      <th>3</th>\n",
       "      <td>2014-01-01 02:56:50</td>\n",
       "      <td>0</td>\n",
       "    </tr>\n",
       "    <tr>\n",
       "      <th>4</th>\n",
       "      <td>2014-01-01 03:21:50</td>\n",
       "      <td>1</td>\n",
       "    </tr>\n",
       "  </tbody>\n",
       "</table>\n",
       "</div>"
      ],
      "text/plain": [
       "                  Time  Target\n",
       "0  2014-01-01 01:41:50       0\n",
       "1  2014-01-01 02:06:50       0\n",
       "2  2014-01-01 02:31:50       0\n",
       "3  2014-01-01 02:56:50       0\n",
       "4  2014-01-01 03:21:50       1"
      ]
     },
     "execution_count": 123,
     "metadata": {},
     "output_type": "execute_result"
    }
   ],
   "source": [
    "data = pd.DataFrame(\n",
    "  {'Time':['2014-01-01 01:41:50',\n",
    "           '2014-01-01 02:06:50',\n",
    "           '2014-01-01 02:31:50',\n",
    "           '2014-01-01 02:56:50',\n",
    "           '2014-01-01 03:21:50'],\n",
    "   \n",
    "    'Target': [0, 0, 0, 0, 1]\n",
    "  }\n",
    ")\n",
    "data"
   ]
  },
  {
   "cell_type": "code",
   "execution_count": 124,
   "metadata": {},
   "outputs": [],
   "source": [
    "from datetime import datetime"
   ]
  },
  {
   "cell_type": "code",
   "execution_count": 125,
   "metadata": {},
   "outputs": [],
   "source": [
    "data['index'] = data.index"
   ]
  },
  {
   "cell_type": "code",
   "execution_count": 126,
   "metadata": {},
   "outputs": [],
   "source": [
    "# data.Time = data.Time.apply(lambda x: datetime.strptime(str(x), '%Y-%m-%d %H:%M:%S'))"
   ]
  },
  {
   "cell_type": "code",
   "execution_count": 127,
   "metadata": {},
   "outputs": [
    {
     "data": {
      "text/plain": [
       "Entityset: My EntitySet\n",
       "  DataFrames:\n",
       "    data_name [Rows: 5, Columns: 3]\n",
       "  Relationships:\n",
       "    No relationships"
      ]
     },
     "execution_count": 127,
     "metadata": {},
     "output_type": "execute_result"
    }
   ],
   "source": [
    "es = ft.EntitySet('My EntitySet')\n",
    "es.add_dataframe(\n",
    "  dataframe = data,\n",
    "  dataframe_name = 'data_name', \n",
    "  index = 'index', \n",
    "  time_index = 'Time'\n",
    ")\n",
    "es"
   ]
  },
  {
   "cell_type": "code",
   "execution_count": 130,
   "metadata": {},
   "outputs": [],
   "source": [
    "fm, features = ft.dfs(\n",
    "  entityset= es, \n",
    "  dataframes = data,\n",
    "  target_dataframe_name = 'data_name',\n",
    "  max_depth = 1,\n",
    "  trans_primitives= [Minute, Hour, Day, Month, Year, Weekday])"
   ]
  },
  {
   "cell_type": "code",
   "execution_count": 131,
   "metadata": {},
   "outputs": [
    {
     "data": {
      "text/html": [
       "<div>\n",
       "<style scoped>\n",
       "    .dataframe tbody tr th:only-of-type {\n",
       "        vertical-align: middle;\n",
       "    }\n",
       "\n",
       "    .dataframe tbody tr th {\n",
       "        vertical-align: top;\n",
       "    }\n",
       "\n",
       "    .dataframe thead th {\n",
       "        text-align: right;\n",
       "    }\n",
       "</style>\n",
       "<table border=\"1\" class=\"dataframe\">\n",
       "  <thead>\n",
       "    <tr style=\"text-align: right;\">\n",
       "      <th></th>\n",
       "      <th>Target</th>\n",
       "      <th>DAY(Time)</th>\n",
       "      <th>HOUR(Time)</th>\n",
       "      <th>MINUTE(Time)</th>\n",
       "      <th>MONTH(Time)</th>\n",
       "      <th>WEEKDAY(Time)</th>\n",
       "      <th>YEAR(Time)</th>\n",
       "    </tr>\n",
       "    <tr>\n",
       "      <th>index</th>\n",
       "      <th></th>\n",
       "      <th></th>\n",
       "      <th></th>\n",
       "      <th></th>\n",
       "      <th></th>\n",
       "      <th></th>\n",
       "      <th></th>\n",
       "    </tr>\n",
       "  </thead>\n",
       "  <tbody>\n",
       "    <tr>\n",
       "      <th>0</th>\n",
       "      <td>0</td>\n",
       "      <td>1</td>\n",
       "      <td>1</td>\n",
       "      <td>41</td>\n",
       "      <td>1</td>\n",
       "      <td>2</td>\n",
       "      <td>2014</td>\n",
       "    </tr>\n",
       "    <tr>\n",
       "      <th>1</th>\n",
       "      <td>0</td>\n",
       "      <td>1</td>\n",
       "      <td>2</td>\n",
       "      <td>6</td>\n",
       "      <td>1</td>\n",
       "      <td>2</td>\n",
       "      <td>2014</td>\n",
       "    </tr>\n",
       "    <tr>\n",
       "      <th>2</th>\n",
       "      <td>0</td>\n",
       "      <td>1</td>\n",
       "      <td>2</td>\n",
       "      <td>31</td>\n",
       "      <td>1</td>\n",
       "      <td>2</td>\n",
       "      <td>2014</td>\n",
       "    </tr>\n",
       "    <tr>\n",
       "      <th>3</th>\n",
       "      <td>0</td>\n",
       "      <td>1</td>\n",
       "      <td>2</td>\n",
       "      <td>56</td>\n",
       "      <td>1</td>\n",
       "      <td>2</td>\n",
       "      <td>2014</td>\n",
       "    </tr>\n",
       "    <tr>\n",
       "      <th>4</th>\n",
       "      <td>1</td>\n",
       "      <td>1</td>\n",
       "      <td>3</td>\n",
       "      <td>21</td>\n",
       "      <td>1</td>\n",
       "      <td>2</td>\n",
       "      <td>2014</td>\n",
       "    </tr>\n",
       "  </tbody>\n",
       "</table>\n",
       "</div>"
      ],
      "text/plain": [
       "       Target DAY(Time) HOUR(Time) MINUTE(Time) MONTH(Time) WEEKDAY(Time)  \\\n",
       "index                                                                       \n",
       "0           0         1          1           41           1             2   \n",
       "1           0         1          2            6           1             2   \n",
       "2           0         1          2           31           1             2   \n",
       "3           0         1          2           56           1             2   \n",
       "4           1         1          3           21           1             2   \n",
       "\n",
       "      YEAR(Time)  \n",
       "index             \n",
       "0           2014  \n",
       "1           2014  \n",
       "2           2014  \n",
       "3           2014  \n",
       "4           2014  "
      ]
     },
     "execution_count": 131,
     "metadata": {},
     "output_type": "execute_result"
    }
   ],
   "source": [
    "fm"
   ]
  },
  {
   "cell_type": "code",
   "execution_count": null,
   "metadata": {},
   "outputs": [],
   "source": []
  }
 ],
 "metadata": {
  "kernelspec": {
   "display_name": "pythontest1",
   "language": "python",
   "name": "python3"
  },
  "language_info": {
   "codemirror_mode": {
    "name": "ipython",
    "version": 3
   },
   "file_extension": ".py",
   "mimetype": "text/x-python",
   "name": "python",
   "nbconvert_exporter": "python",
   "pygments_lexer": "ipython3",
   "version": "3.11.4"
  }
 },
 "nbformat": 4,
 "nbformat_minor": 2
}
