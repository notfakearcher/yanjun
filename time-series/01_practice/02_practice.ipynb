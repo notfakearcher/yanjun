{
 "cells": [
  {
   "cell_type": "markdown",
   "metadata": {},
   "source": [
    "# Imputation"
   ]
  },
  {
   "cell_type": "markdown",
   "metadata": {},
   "source": [
    "## import Library"
   ]
  },
  {
   "cell_type": "code",
   "execution_count": 467,
   "metadata": {},
   "outputs": [],
   "source": [
    "import numpy as np\n",
    "import pandas as pd\n",
    "from sklearn.impute import SimpleImputer"
   ]
  },
  {
   "cell_type": "code",
   "execution_count": 468,
   "metadata": {},
   "outputs": [
    {
     "data": {
      "text/plain": [
       "[[1, nan, 3], [nan, nan, 6], [nan, 9, 3]]"
      ]
     },
     "execution_count": 468,
     "metadata": {},
     "output_type": "execute_result"
    }
   ],
   "source": [
    "m = [[1,np.nan,3],[np.nan,np.nan,6],[np.nan,9,3]]\n",
    "m"
   ]
  },
  {
   "cell_type": "code",
   "execution_count": 469,
   "metadata": {},
   "outputs": [],
   "source": [
    "imp_mean = SimpleImputer(missing_values= np.nan, strategy= 'mean')\n",
    "imp_mean.fit(m)\n",
    "df = [[np.nan, 1,np.nan],[4, 0, 6], [np.nan, 2, np.nan]]"
   ]
  },
  {
   "cell_type": "code",
   "execution_count": 470,
   "metadata": {},
   "outputs": [],
   "source": [
    "p = imp_mean.transform(df)\n",
    "# replace the missing data with the mean of orignal data of each columns not the current data "
   ]
  },
  {
   "cell_type": "markdown",
   "metadata": {},
   "source": [
    "# Holidays "
   ]
  },
  {
   "cell_type": "markdown",
   "metadata": {},
   "source": [
    "## Import Library"
   ]
  },
  {
   "cell_type": "code",
   "execution_count": 471,
   "metadata": {},
   "outputs": [],
   "source": [
    "from workalendar.europe.united_kingdom import UnitedKingdom"
   ]
  },
  {
   "cell_type": "code",
   "execution_count": 472,
   "metadata": {},
   "outputs": [
    {
     "data": {
      "text/plain": [
       "[(datetime.date(2024, 1, 1), 'New year'),\n",
       " (datetime.date(2024, 3, 29), 'Good Friday'),\n",
       " (datetime.date(2024, 3, 31), 'Easter Sunday'),\n",
       " (datetime.date(2024, 4, 1), 'Easter Monday'),\n",
       " (datetime.date(2024, 5, 6), 'Early May Bank Holiday'),\n",
       " (datetime.date(2024, 5, 27), 'Spring Bank Holiday'),\n",
       " (datetime.date(2024, 8, 26), 'Late Summer Bank Holiday'),\n",
       " (datetime.date(2024, 12, 25), 'Christmas Day'),\n",
       " (datetime.date(2024, 12, 26), 'Boxing Day')]"
      ]
     },
     "execution_count": 472,
     "metadata": {},
     "output_type": "execute_result"
    }
   ],
   "source": [
    "UnitedKingdom().holidays()"
   ]
  },
  {
   "cell_type": "code",
   "execution_count": 473,
   "metadata": {},
   "outputs": [],
   "source": [
    "from typing import List\n",
    "from dateutil.relativedelta import relativedelta, TH\n",
    "import datetime\n",
    "from workalendar.usa import California"
   ]
  },
  {
   "cell_type": "code",
   "execution_count": 474,
   "metadata": {},
   "outputs": [],
   "source": [
    "class holidays:\n",
    "  def __init__(self, year):\n",
    "    self.year = year\n",
    "  \n",
    "  \n",
    "  def create_custom_holidays(self) -> List:\n",
    "    self.new_holidays = datetime.datetime(self.year, 11,1) + relativedelta(weekday= TH(+4)) +datetime.timedelta(days = 1)\n",
    "    self.custom_hlidays = California().holidays()\n",
    "    self.custom_hlidays.append((self.new_holidays.date(),'Black Friday'))\n",
    "    # return {k : v for (k, v) in custom_hlidays}\n",
    "    return self.custom_hlidays\n",
    "  \n",
    "  def get_holidays_date(self) -> List:\n",
    "    self.holidays_list = [u for (u, v) in self.create_custom_holidays()]\n",
    "    return self.holidays_list\n",
    "  \n",
    "  def is_holiday(self, current_date: datetime.date):\n",
    "    \"\"\"Determine if we have a holiday\"\"\"\n",
    "    if current_date in self.get_holidays_date():\n",
    "      return True\n",
    "    else :\n",
    "      return False\n",
    "  \n",
    "  "
   ]
  },
  {
   "cell_type": "code",
   "execution_count": 475,
   "metadata": {},
   "outputs": [
    {
     "data": {
      "text/plain": [
       "True"
      ]
     },
     "execution_count": 475,
     "metadata": {},
     "output_type": "execute_result"
    }
   ],
   "source": [
    "today = datetime.date(2024, 1, 15)\n",
    "ho = holidays(2024)\n",
    "ho.create_custom_holidays()\n",
    "ho.get_holidays_date()\n",
    "ho.is_holiday(today)\n"
   ]
  },
  {
   "cell_type": "markdown",
   "metadata": {},
   "source": [
    "# Date Annotation"
   ]
  },
  {
   "cell_type": "code",
   "execution_count": 476,
   "metadata": {},
   "outputs": [
    {
     "data": {
      "text/plain": [
       "(0, 31)"
      ]
     },
     "execution_count": 476,
     "metadata": {},
     "output_type": "execute_result"
    }
   ],
   "source": [
    "import calendar\n",
    "calendar.monthrange(2024,1)"
   ]
  },
  {
   "cell_type": "code",
   "execution_count": 477,
   "metadata": {},
   "outputs": [],
   "source": [
    "def year_anchor(current_date : datetime.date):\n",
    "  return (\n",
    "    (current_date - datetime.date(current_date.year, 1, 1)).days,\n",
    "    (datetime.date(current_date.year, 12, 31) - current_date).days\n",
    "  )"
   ]
  },
  {
   "cell_type": "code",
   "execution_count": 478,
   "metadata": {},
   "outputs": [],
   "source": [
    "now = datetime.date.today()"
   ]
  },
  {
   "cell_type": "code",
   "execution_count": null,
   "metadata": {},
   "outputs": [],
   "source": []
  },
  {
   "cell_type": "code",
   "execution_count": 479,
   "metadata": {},
   "outputs": [
    {
     "data": {
      "text/plain": [
       "(79, 286)"
      ]
     },
     "execution_count": 479,
     "metadata": {},
     "output_type": "execute_result"
    }
   ],
   "source": [
    "year_anchor(now)"
   ]
  },
  {
   "cell_type": "code",
   "execution_count": 480,
   "metadata": {},
   "outputs": [
    {
     "data": {
      "text/plain": [
       "15"
      ]
     },
     "execution_count": 480,
     "metadata": {},
     "output_type": "execute_result"
    }
   ],
   "source": [
    "calendar.monthcalendar(now.year, now.month)[2][calendar.FRIDAY]"
   ]
  },
  {
   "cell_type": "code",
   "execution_count": 481,
   "metadata": {},
   "outputs": [],
   "source": [
    "def get_last_friday(current_date: datetime.date, weekday = calendar.FRIDAY):\n",
    "  return max(week[weekday] for week in calendar.monthcalendar(current_date.year, current_date.month))"
   ]
  },
  {
   "cell_type": "code",
   "execution_count": 482,
   "metadata": {},
   "outputs": [
    {
     "data": {
      "text/plain": [
       "29"
      ]
     },
     "execution_count": 482,
     "metadata": {},
     "output_type": "execute_result"
    }
   ],
   "source": [
    "get_last_friday(now)"
   ]
  },
  {
   "cell_type": "markdown",
   "metadata": {},
   "source": [
    "## Season"
   ]
  },
  {
   "cell_type": "code",
   "execution_count": 483,
   "metadata": {},
   "outputs": [],
   "source": [
    "YEAR = 2021\n",
    "seasons = [\n",
    "  ('winter', (datetime.date(YEAR, 1, 1), datetime.date(YEAR, 3, 20))),\n",
    "  ('spring', (datetime.date(YEAR, 3, 21), datetime.date(YEAR, 6, 20))),\n",
    "  ('summer', (datetime.date(YEAR, 6, 21), datetime.date(YEAR, 9, 22))),\n",
    "  ('autumn', (datetime.date(YEAR, 9, 23), datetime.date(YEAR, 12, 20))),\n",
    "  ('winter', (datetime.date(YEAR, 12, 21), datetime.date(YEAR, 12, 31)))\n",
    "]\n",
    "\n",
    "\n",
    "\n",
    "\n",
    "def is_in_interval(current_date: datetime.date, seasons):\n",
    "  # return next(season for (season , (start, end)) in seasons if start <= current_date.replace(year = YEAR) <= end) \n",
    "  \n",
    "  \n",
    "  \n",
    "  \n",
    "  # season_list = [season for (season , (start, end)) in seasons]\n",
    "  for i,j in enumerate(seasons):\n",
    "    if j[1][0] <= current_date.replace(year = YEAR) <= j[1][1] :\n",
    "      return j[0]\n",
    "    else:\n",
    "      return False\n",
    "  \n",
    "    \n",
    "    \n",
    "    "
   ]
  },
  {
   "cell_type": "code",
   "execution_count": 484,
   "metadata": {},
   "outputs": [],
   "source": [
    "now1 = datetime.date.today()"
   ]
  },
  {
   "cell_type": "code",
   "execution_count": 485,
   "metadata": {},
   "outputs": [
    {
     "data": {
      "text/plain": [
       "datetime.date(2024, 3, 20)"
      ]
     },
     "execution_count": 485,
     "metadata": {},
     "output_type": "execute_result"
    }
   ],
   "source": [
    "now1"
   ]
  },
  {
   "cell_type": "code",
   "execution_count": 486,
   "metadata": {},
   "outputs": [
    {
     "data": {
      "text/plain": [
       "'winter'"
      ]
     },
     "execution_count": 486,
     "metadata": {},
     "output_type": "execute_result"
    }
   ],
   "source": [
    "is_in_interval(now1, seasons)"
   ]
  },
  {
   "cell_type": "markdown",
   "metadata": {},
   "source": [
    "# Automated Feature Extraction"
   ]
  },
  {
   "cell_type": "code",
   "execution_count": 505,
   "metadata": {},
   "outputs": [],
   "source": [
    "import featuretools as ft\n",
    "from featuretools.primitives import Minute, Hour, Day, Month, Year, Weekday"
   ]
  },
  {
   "cell_type": "code",
   "execution_count": 510,
   "metadata": {},
   "outputs": [
    {
     "data": {
      "text/html": [
       "<div>\n",
       "<style scoped>\n",
       "    .dataframe tbody tr th:only-of-type {\n",
       "        vertical-align: middle;\n",
       "    }\n",
       "\n",
       "    .dataframe tbody tr th {\n",
       "        vertical-align: top;\n",
       "    }\n",
       "\n",
       "    .dataframe thead th {\n",
       "        text-align: right;\n",
       "    }\n",
       "</style>\n",
       "<table border=\"1\" class=\"dataframe\">\n",
       "  <thead>\n",
       "    <tr style=\"text-align: right;\">\n",
       "      <th></th>\n",
       "      <th>Time</th>\n",
       "      <th>Target</th>\n",
       "    </tr>\n",
       "  </thead>\n",
       "  <tbody>\n",
       "    <tr>\n",
       "      <th>0</th>\n",
       "      <td>2014-01-01 01:41:50</td>\n",
       "      <td>0</td>\n",
       "    </tr>\n",
       "    <tr>\n",
       "      <th>1</th>\n",
       "      <td>2014-01-01 02:06:50</td>\n",
       "      <td>0</td>\n",
       "    </tr>\n",
       "    <tr>\n",
       "      <th>2</th>\n",
       "      <td>2014-01-01 02:31:50</td>\n",
       "      <td>0</td>\n",
       "    </tr>\n",
       "    <tr>\n",
       "      <th>3</th>\n",
       "      <td>2014-01-01 02:56:50</td>\n",
       "      <td>0</td>\n",
       "    </tr>\n",
       "    <tr>\n",
       "      <th>4</th>\n",
       "      <td>2014-01-01 03:21:50</td>\n",
       "      <td>1</td>\n",
       "    </tr>\n",
       "  </tbody>\n",
       "</table>\n",
       "</div>"
      ],
      "text/plain": [
       "                  Time  Target\n",
       "0  2014-01-01 01:41:50       0\n",
       "1  2014-01-01 02:06:50       0\n",
       "2  2014-01-01 02:31:50       0\n",
       "3  2014-01-01 02:56:50       0\n",
       "4  2014-01-01 03:21:50       1"
      ]
     },
     "execution_count": 510,
     "metadata": {},
     "output_type": "execute_result"
    }
   ],
   "source": [
    "data = pd.DataFrame(\n",
    "  {'Time':['2014-01-01 01:41:50',\n",
    "           '2014-01-01 02:06:50',\n",
    "           '2014-01-01 02:31:50',\n",
    "           '2014-01-01 02:56:50',\n",
    "           '2014-01-01 03:21:50'],\n",
    "   \n",
    "    'Target': [0, 0, 0, 0, 1]\n",
    "  }\n",
    ")\n",
    "data"
   ]
  },
  {
   "cell_type": "code",
   "execution_count": 511,
   "metadata": {},
   "outputs": [],
   "source": [
    "from datetime import datetime"
   ]
  },
  {
   "cell_type": "code",
   "execution_count": 512,
   "metadata": {},
   "outputs": [],
   "source": [
    "data['index'] = data.index"
   ]
  },
  {
   "cell_type": "code",
   "execution_count": 498,
   "metadata": {},
   "outputs": [],
   "source": [
    "# data.Time = data.Time.apply(lambda x: datetime.strptime(str(x), '%Y-%m-%d %H:%M:%S'))"
   ]
  },
  {
   "cell_type": "code",
   "execution_count": 533,
   "metadata": {},
   "outputs": [
    {
     "name": "stderr",
     "output_type": "stream",
     "text": [
      "c:\\Users\\julia\\miniconda3\\envs\\pythontest1\\Lib\\site-packages\\featuretools\\entityset\\entityset.py:754: UserWarning: A Woodwork-initialized DataFrame was provided, so the following parameters were ignored: index, time_index\n",
      "  warnings.warn(\n"
     ]
    },
    {
     "data": {
      "text/plain": [
       "Entityset: My EntitySet\n",
       "  DataFrames:\n",
       "    data_name [Rows: 5, Columns: 3]\n",
       "  Relationships:\n",
       "    No relationships"
      ]
     },
     "execution_count": 533,
     "metadata": {},
     "output_type": "execute_result"
    }
   ],
   "source": [
    "es = ft.EntitySet('My EntitySet')\n",
    "es.add_dataframe(\n",
    "  dataframe = data,\n",
    "  dataframe_name = 'data_name', \n",
    "  index = 'Time',\n",
    "  time_index = 'Time'\n",
    ")\n",
    "es"
   ]
  },
  {
   "cell_type": "code",
   "execution_count": 532,
   "metadata": {},
   "outputs": [
    {
     "ename": "KeyError",
     "evalue": "'Provided target dataframe None does not exist in My EntitySet'",
     "output_type": "error",
     "traceback": [
      "\u001b[1;31m---------------------------------------------------------------------------\u001b[0m",
      "\u001b[1;31mKeyError\u001b[0m                                  Traceback (most recent call last)",
      "Cell \u001b[1;32mIn[532], line 1\u001b[0m\n\u001b[1;32m----> 1\u001b[0m fm, features \u001b[38;5;241m=\u001b[39m \u001b[43mft\u001b[49m\u001b[38;5;241;43m.\u001b[39;49m\u001b[43mdfs\u001b[49m\u001b[43m(\u001b[49m\u001b[43mentityset\u001b[49m\u001b[38;5;241;43m=\u001b[39;49m\u001b[43m \u001b[49m\u001b[43mes\u001b[49m\u001b[43m,\u001b[49m\u001b[43m \u001b[49m\u001b[43mtrans_primitives\u001b[49m\u001b[38;5;241;43m=\u001b[39;49m\u001b[43m \u001b[49m\u001b[43m[\u001b[49m\u001b[43mMinute\u001b[49m\u001b[43m,\u001b[49m\u001b[43m \u001b[49m\u001b[43mHour\u001b[49m\u001b[43m,\u001b[49m\u001b[43m \u001b[49m\u001b[43mDay\u001b[49m\u001b[43m,\u001b[49m\u001b[43m \u001b[49m\u001b[43mMonth\u001b[49m\u001b[43m,\u001b[49m\u001b[43m \u001b[49m\u001b[43mYear\u001b[49m\u001b[43m,\u001b[49m\u001b[43m \u001b[49m\u001b[43mWeekday\u001b[49m\u001b[43m]\u001b[49m\u001b[43m)\u001b[49m\n",
      "File \u001b[1;32mc:\\Users\\julia\\miniconda3\\envs\\pythontest1\\Lib\\site-packages\\featuretools\\utils\\entry_point.py:39\u001b[0m, in \u001b[0;36mentry_point.<locals>.inner_function.<locals>.function_wrapper\u001b[1;34m(*args, **kwargs)\u001b[0m\n\u001b[0;32m     37\u001b[0m     \u001b[38;5;28;01mfor\u001b[39;00m ep \u001b[38;5;129;01min\u001b[39;00m entry_points:\n\u001b[0;32m     38\u001b[0m         ep\u001b[38;5;241m.\u001b[39mon_error(error\u001b[38;5;241m=\u001b[39me, runtime\u001b[38;5;241m=\u001b[39mruntime)\n\u001b[1;32m---> 39\u001b[0m     \u001b[38;5;28;01mraise\u001b[39;00m e\n\u001b[0;32m     41\u001b[0m \u001b[38;5;66;03m# send return value\u001b[39;00m\n\u001b[0;32m     42\u001b[0m \u001b[38;5;28;01mfor\u001b[39;00m ep \u001b[38;5;129;01min\u001b[39;00m entry_points:\n",
      "File \u001b[1;32mc:\\Users\\julia\\miniconda3\\envs\\pythontest1\\Lib\\site-packages\\featuretools\\utils\\entry_point.py:32\u001b[0m, in \u001b[0;36mentry_point.<locals>.inner_function.<locals>.function_wrapper\u001b[1;34m(*args, **kwargs)\u001b[0m\n\u001b[0;32m     29\u001b[0m \u001b[38;5;28;01mtry\u001b[39;00m:\n\u001b[0;32m     30\u001b[0m     \u001b[38;5;66;03m# call function\u001b[39;00m\n\u001b[0;32m     31\u001b[0m     start \u001b[38;5;241m=\u001b[39m time\u001b[38;5;241m.\u001b[39mtime()\n\u001b[1;32m---> 32\u001b[0m     return_value \u001b[38;5;241m=\u001b[39m \u001b[43mfunc\u001b[49m\u001b[43m(\u001b[49m\u001b[38;5;241;43m*\u001b[39;49m\u001b[43margs\u001b[49m\u001b[43m,\u001b[49m\u001b[43m \u001b[49m\u001b[38;5;241;43m*\u001b[39;49m\u001b[38;5;241;43m*\u001b[39;49m\u001b[43mkwargs\u001b[49m\u001b[43m)\u001b[49m\n\u001b[0;32m     33\u001b[0m     runtime \u001b[38;5;241m=\u001b[39m time\u001b[38;5;241m.\u001b[39mtime() \u001b[38;5;241m-\u001b[39m start\n\u001b[0;32m     34\u001b[0m \u001b[38;5;28;01mexcept\u001b[39;00m \u001b[38;5;167;01mException\u001b[39;00m \u001b[38;5;28;01mas\u001b[39;00m e:\n",
      "File \u001b[1;32mc:\\Users\\julia\\miniconda3\\envs\\pythontest1\\Lib\\site-packages\\featuretools\\synthesis\\dfs.py:245\u001b[0m, in \u001b[0;36mdfs\u001b[1;34m(dataframes, relationships, entityset, target_dataframe_name, cutoff_time, instance_ids, agg_primitives, trans_primitives, groupby_trans_primitives, allowed_paths, max_depth, ignore_dataframes, ignore_columns, primitive_options, seed_features, drop_contains, drop_exact, where_primitives, max_features, cutoff_time_in_index, save_progress, features_only, training_window, approximate, chunk_size, n_jobs, dask_kwargs, verbose, return_types, progress_callback, include_cutoff_time)\u001b[0m\n\u001b[0;32m    242\u001b[0m \u001b[38;5;28;01mif\u001b[39;00m \u001b[38;5;129;01mnot\u001b[39;00m \u001b[38;5;28misinstance\u001b[39m(entityset, EntitySet):\n\u001b[0;32m    243\u001b[0m     entityset \u001b[38;5;241m=\u001b[39m EntitySet(\u001b[38;5;124m\"\u001b[39m\u001b[38;5;124mdfs\u001b[39m\u001b[38;5;124m\"\u001b[39m, dataframes, relationships)\n\u001b[1;32m--> 245\u001b[0m dfs_object \u001b[38;5;241m=\u001b[39m \u001b[43mDeepFeatureSynthesis\u001b[49m\u001b[43m(\u001b[49m\n\u001b[0;32m    246\u001b[0m \u001b[43m    \u001b[49m\u001b[43mtarget_dataframe_name\u001b[49m\u001b[43m,\u001b[49m\n\u001b[0;32m    247\u001b[0m \u001b[43m    \u001b[49m\u001b[43mentityset\u001b[49m\u001b[43m,\u001b[49m\n\u001b[0;32m    248\u001b[0m \u001b[43m    \u001b[49m\u001b[43magg_primitives\u001b[49m\u001b[38;5;241;43m=\u001b[39;49m\u001b[43magg_primitives\u001b[49m\u001b[43m,\u001b[49m\n\u001b[0;32m    249\u001b[0m \u001b[43m    \u001b[49m\u001b[43mtrans_primitives\u001b[49m\u001b[38;5;241;43m=\u001b[39;49m\u001b[43mtrans_primitives\u001b[49m\u001b[43m,\u001b[49m\n\u001b[0;32m    250\u001b[0m \u001b[43m    \u001b[49m\u001b[43mgroupby_trans_primitives\u001b[49m\u001b[38;5;241;43m=\u001b[39;49m\u001b[43mgroupby_trans_primitives\u001b[49m\u001b[43m,\u001b[49m\n\u001b[0;32m    251\u001b[0m \u001b[43m    \u001b[49m\u001b[43mmax_depth\u001b[49m\u001b[38;5;241;43m=\u001b[39;49m\u001b[43mmax_depth\u001b[49m\u001b[43m,\u001b[49m\n\u001b[0;32m    252\u001b[0m \u001b[43m    \u001b[49m\u001b[43mwhere_primitives\u001b[49m\u001b[38;5;241;43m=\u001b[39;49m\u001b[43mwhere_primitives\u001b[49m\u001b[43m,\u001b[49m\n\u001b[0;32m    253\u001b[0m \u001b[43m    \u001b[49m\u001b[43mallowed_paths\u001b[49m\u001b[38;5;241;43m=\u001b[39;49m\u001b[43mallowed_paths\u001b[49m\u001b[43m,\u001b[49m\n\u001b[0;32m    254\u001b[0m \u001b[43m    \u001b[49m\u001b[43mdrop_exact\u001b[49m\u001b[38;5;241;43m=\u001b[39;49m\u001b[43mdrop_exact\u001b[49m\u001b[43m,\u001b[49m\n\u001b[0;32m    255\u001b[0m \u001b[43m    \u001b[49m\u001b[43mdrop_contains\u001b[49m\u001b[38;5;241;43m=\u001b[39;49m\u001b[43mdrop_contains\u001b[49m\u001b[43m,\u001b[49m\n\u001b[0;32m    256\u001b[0m \u001b[43m    \u001b[49m\u001b[43mignore_dataframes\u001b[49m\u001b[38;5;241;43m=\u001b[39;49m\u001b[43mignore_dataframes\u001b[49m\u001b[43m,\u001b[49m\n\u001b[0;32m    257\u001b[0m \u001b[43m    \u001b[49m\u001b[43mignore_columns\u001b[49m\u001b[38;5;241;43m=\u001b[39;49m\u001b[43mignore_columns\u001b[49m\u001b[43m,\u001b[49m\n\u001b[0;32m    258\u001b[0m \u001b[43m    \u001b[49m\u001b[43mprimitive_options\u001b[49m\u001b[38;5;241;43m=\u001b[39;49m\u001b[43mprimitive_options\u001b[49m\u001b[43m,\u001b[49m\n\u001b[0;32m    259\u001b[0m \u001b[43m    \u001b[49m\u001b[43mmax_features\u001b[49m\u001b[38;5;241;43m=\u001b[39;49m\u001b[43mmax_features\u001b[49m\u001b[43m,\u001b[49m\n\u001b[0;32m    260\u001b[0m \u001b[43m    \u001b[49m\u001b[43mseed_features\u001b[49m\u001b[38;5;241;43m=\u001b[39;49m\u001b[43mseed_features\u001b[49m\u001b[43m,\u001b[49m\n\u001b[0;32m    261\u001b[0m \u001b[43m\u001b[49m\u001b[43m)\u001b[49m\n\u001b[0;32m    263\u001b[0m features \u001b[38;5;241m=\u001b[39m dfs_object\u001b[38;5;241m.\u001b[39mbuild_features(verbose\u001b[38;5;241m=\u001b[39mverbose, return_types\u001b[38;5;241m=\u001b[39mreturn_types)\n\u001b[0;32m    265\u001b[0m trans, agg, groupby, where \u001b[38;5;241m=\u001b[39m _categorize_features(features)\n",
      "File \u001b[1;32mc:\\Users\\julia\\miniconda3\\envs\\pythontest1\\Lib\\site-packages\\featuretools\\synthesis\\deep_feature_synthesis.py:157\u001b[0m, in \u001b[0;36mDeepFeatureSynthesis.__init__\u001b[1;34m(self, target_dataframe_name, entityset, agg_primitives, trans_primitives, where_primitives, groupby_trans_primitives, max_depth, max_features, allowed_paths, ignore_dataframes, ignore_columns, primitive_options, seed_features, drop_contains, drop_exact, where_stacking_limit)\u001b[0m\n\u001b[0;32m    152\u001b[0m     es_name \u001b[38;5;241m=\u001b[39m entityset\u001b[38;5;241m.\u001b[39mid \u001b[38;5;129;01mor\u001b[39;00m \u001b[38;5;124m\"\u001b[39m\u001b[38;5;124mentity set\u001b[39m\u001b[38;5;124m\"\u001b[39m\n\u001b[0;32m    153\u001b[0m     msg \u001b[38;5;241m=\u001b[39m \u001b[38;5;124m\"\u001b[39m\u001b[38;5;124mProvided target dataframe \u001b[39m\u001b[38;5;132;01m%s\u001b[39;00m\u001b[38;5;124m does not exist in \u001b[39m\u001b[38;5;132;01m%s\u001b[39;00m\u001b[38;5;124m\"\u001b[39m \u001b[38;5;241m%\u001b[39m (\n\u001b[0;32m    154\u001b[0m         target_dataframe_name,\n\u001b[0;32m    155\u001b[0m         es_name,\n\u001b[0;32m    156\u001b[0m     )\n\u001b[1;32m--> 157\u001b[0m     \u001b[38;5;28;01mraise\u001b[39;00m \u001b[38;5;167;01mKeyError\u001b[39;00m(msg)\n\u001b[0;32m    159\u001b[0m \u001b[38;5;66;03m# Multiple calls to dfs() should start with a fresh cache\u001b[39;00m\n\u001b[0;32m    160\u001b[0m feature_cache\u001b[38;5;241m.\u001b[39mclear_all()\n",
      "\u001b[1;31mKeyError\u001b[0m: 'Provided target dataframe None does not exist in My EntitySet'"
     ]
    }
   ],
   "source": [
    "fm, features = ft.dfs(entityset= es, trans_primitives= [Minute, Hour, Day, Month, Year, Weekday])"
   ]
  },
  {
   "cell_type": "code",
   "execution_count": 520,
   "metadata": {},
   "outputs": [
    {
     "data": {
      "text/plain": [
       "[<Feature: Target>,\n",
       " <Feature: DAY(Time)>,\n",
       " <Feature: HOUR(Time)>,\n",
       " <Feature: MINUTE(Time)>,\n",
       " <Feature: MONTH(Time)>,\n",
       " <Feature: WEEKDAY(Time)>,\n",
       " <Feature: YEAR(Time)>]"
      ]
     },
     "execution_count": 520,
     "metadata": {},
     "output_type": "execute_result"
    }
   ],
   "source": [
    "features"
   ]
  }
 ],
 "metadata": {
  "kernelspec": {
   "display_name": "pythontest1",
   "language": "python",
   "name": "python3"
  },
  "language_info": {
   "codemirror_mode": {
    "name": "ipython",
    "version": 3
   },
   "file_extension": ".py",
   "mimetype": "text/x-python",
   "name": "python",
   "nbconvert_exporter": "python",
   "pygments_lexer": "ipython3",
   "version": "3.11.4"
  }
 },
 "nbformat": 4,
 "nbformat_minor": 2
}
