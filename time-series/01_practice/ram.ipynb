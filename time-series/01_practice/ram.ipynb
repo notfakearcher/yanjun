{
 "cells": [
  {
   "cell_type": "code",
   "execution_count": 3,
   "metadata": {},
   "outputs": [],
   "source": [
    "import pandas as pd\n",
    "import numpy as np\n",
    "import string\n",
    "import random\n"
   ]
  },
  {
   "cell_type": "code",
   "execution_count": 4,
   "metadata": {},
   "outputs": [
    {
     "name": "stdout",
     "output_type": "stream",
     "text": [
      "T!J99l\\=R\n"
     ]
    }
   ],
   "source": [
    "password_char = string.ascii_letters + string.punctuation + string.digits\n",
    "length = int(input('Enter the length of the password: '))\n",
    "password = ''\n",
    "for i in range(0, length):\n",
    "  password = password +random.choice(password_char)\n",
    "print(password)"
   ]
  },
  {
   "cell_type": "code",
   "execution_count": 5,
   "metadata": {},
   "outputs": [
    {
     "name": "stdout",
     "output_type": "stream",
     "text": [
      "I\n",
      "am\n",
      "doing\n",
      "good\n"
     ]
    }
   ],
   "source": [
    "# split the words in the reply sentence \n",
    "sectence = input('how are u doing? ')\n",
    "words = sectence.split(sep = ' ')\n",
    "for word in words:\n",
    "  print(word)"
   ]
  }
 ],
 "metadata": {
  "kernelspec": {
   "display_name": "pythontest1",
   "language": "python",
   "name": "python3"
  },
  "language_info": {
   "codemirror_mode": {
    "name": "ipython",
    "version": 3
   },
   "file_extension": ".py",
   "mimetype": "text/x-python",
   "name": "python",
   "nbconvert_exporter": "python",
   "pygments_lexer": "ipython3",
   "version": "3.11.4"
  }
 },
 "nbformat": 4,
 "nbformat_minor": 2
}
