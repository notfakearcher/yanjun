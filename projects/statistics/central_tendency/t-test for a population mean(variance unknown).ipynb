{
 "cells": [
  {
   "cell_type": "markdown",
   "metadata": {},
   "source": [
    "# T-test popluation Mean (Variance unknown)"
   ]
  },
  {
   "cell_type": "markdown",
   "metadata": {},
   "source": [
    "## Overview"
   ]
  },
  {
   "cell_type": "markdown",
   "metadata": {},
   "source": [
    "The goal of this test is to determine if there is a significant difference between an assumed population mean $(\\mu_0)$ and sample mean $(\\bar{x})$"
   ]
  },
  {
   "cell_type": "markdown",
   "metadata": {},
   "source": [
    "## Limitation"
   ]
  },
  {
   "cell_type": "markdown",
   "metadata": {},
   "source": [
    "This test assume the population is normally distributed \n",
    "If popolation is not normally distributed then test is approximate"
   ]
  },
  {
   "cell_type": "markdown",
   "metadata": {},
   "source": [
    "## Example Problem"
   ]
  },
  {
   "cell_type": "markdown",
   "metadata": {},
   "source": [
    "My husband assumes : a specific type of penguins from 'region a ' have an average height of 30 inches.\\\n",
    "Select a sample of 15 of these penguins and find out that the mean height is 35 inches, with\\\n",
    "standard deviation of 1.5 inches. Is that assume correct? Or is that estimation significantly\\\n",
    "higher or lower than the average?\n",
    "\n",
    "Let's solve in python"
   ]
  },
  {
   "cell_type": "markdown",
   "metadata": {},
   "source": [
    "## Step 0: Import libraries "
   ]
  },
  {
   "cell_type": "code",
   "execution_count": 35,
   "metadata": {},
   "outputs": [],
   "source": [
    "import numpy as np\n",
    "import scipy.stats as ss"
   ]
  },
  {
   "cell_type": "markdown",
   "metadata": {},
   "source": [
    "## Step 1: Establish Hypothesis"
   ]
  },
  {
   "cell_type": "markdown",
   "metadata": {},
   "source": [
    "Null Hypothesis $(H_0)$ : $\\mu = \\mu_0$ \\\n",
    "Alternative Hypothesis $(H_1)$ : $\\mu \\ne \\mu_0$"
   ]
  },
  {
   "cell_type": "markdown",
   "metadata": {},
   "source": [
    "## Step 2: Compute Test statistics"
   ]
  },
  {
   "cell_type": "code",
   "execution_count": 36,
   "metadata": {},
   "outputs": [
    {
     "data": {
      "text/plain": [
       "-25.82"
      ]
     },
     "execution_count": 36,
     "metadata": {},
     "output_type": "execute_result"
    }
   ],
   "source": [
    "#  population mean \n",
    "mu_0 = 30\n",
    "\n",
    "\n",
    "#  sample size\n",
    "n = 15\n",
    "\n",
    "#  sample mean \n",
    "x_bar = 20\n",
    "\n",
    "#  sample standard deviation \n",
    "std = 1.5\n",
    "#  sample average deviation from population mean\n",
    "mean_deviation = x_bar - mu_0\n",
    "\n",
    "# stander error \n",
    "se = std/ np.sqrt(n)\n",
    "\n",
    "#  test statistic (t- statistic)\n",
    "t_statistic = mean_deviation / se\n",
    "t_statistic = t_statistic.round(2)\n",
    "\n",
    "\n",
    "\n",
    "t_statistic \n",
    "\n"
   ]
  },
  {
   "cell_type": "markdown",
   "metadata": {},
   "source": [
    "## Step3: Determine Critical t-values"
   ]
  },
  {
   "cell_type": "code",
   "execution_count": 37,
   "metadata": {},
   "outputs": [
    {
     "data": {
      "text/plain": [
       "2.14"
      ]
     },
     "execution_count": 37,
     "metadata": {},
     "output_type": "execute_result"
    }
   ],
   "source": [
    "#  assume alpha (type I - error level ) = 5%\n",
    "alpha = 0.05\n",
    "\n",
    "# degree of fredom \n",
    "nu = n - 1\n",
    "\n",
    "# lower- tail  probablity \n",
    "q = 1- alpha / 2\n",
    "\n",
    "# probality that raw score (x) > t-statistic \n",
    "t_critical = ss.t.ppf(q = q, df = nu).round(2)\n",
    "\n",
    "t_critical"
   ]
  },
  {
   "cell_type": "markdown",
   "metadata": {},
   "source": [
    "## Step4: Establish Rejection Region"
   ]
  },
  {
   "cell_type": "markdown",
   "metadata": {},
   "source": [
    "Reject Null hypothesis if |t_statistic| < t_critical"
   ]
  },
  {
   "cell_type": "markdown",
   "metadata": {},
   "source": [
    "## Step 5: Conclusion"
   ]
  },
  {
   "cell_type": "code",
   "execution_count": 47,
   "metadata": {},
   "outputs": [
    {
     "name": "stdout",
     "output_type": "stream",
     "text": [
      "At a significant level alpha = 0.05, given a sample size of n = 15, sample average = 34.5, and sample standard deviation = 1.5 , \n",
      "we reject  null hypothesis that average region a penguin height is equal to 30\n"
     ]
    }
   ],
   "source": [
    "if np.abs(t_statistic) > np.abs(t_critical) :\n",
    "  decision = 'reject '\n",
    "else:\n",
    "  decision = 'fail to reject'\n",
    "\n",
    "# state conclusion\n",
    "txt = f'At a significant level alpha = {alpha}, given a sample size of n = {n}, sample average = {x_bar}, and sample standard deviation = {std} , \\n\\\n",
    "we {decision} null hypothesis that average region a penguin height is equal to {mu_0}'\n",
    "\n",
    "print(txt)"
   ]
  },
  {
   "cell_type": "markdown",
   "metadata": {},
   "source": [
    "## Convert Code to Function"
   ]
  },
  {
   "cell_type": "code",
   "execution_count": 54,
   "metadata": {},
   "outputs": [],
   "source": [
    "def ya_t_test_population_mean(mu_0, n, x_bar, std, alpha):\n",
    "  #  sample average deviation from population mean\n",
    "  mean_deviation = x_bar - mu_0\n",
    "\n",
    "  # stander error \n",
    "  se = std/ np.sqrt(n)\n",
    "\n",
    "  #  test statistic (t- statistic)\n",
    "  t_statistic = mean_deviation / se\n",
    "  t_statistic = t_statistic.round(2)\n",
    "  \n",
    "  # degree of fredom \n",
    "  nu = n - 1\n",
    "\n",
    "  # lower- tail  probablity \n",
    "  q = 1- alpha / 2\n",
    "\n",
    "  # probality that raw score (x) > t-statistic \n",
    "  t_critical = ss.t.ppf(q = q, df = nu).round(2)\n",
    "  \n",
    "  if np.abs(t_statistic) > np.abs(t_critical) :\n",
    "    decision = 'reject '\n",
    "  else:\n",
    "    decision = 'fail to reject'\n",
    "\n",
    "  # state conclusion\n",
    "  txt = f'At a significant level alpha = {alpha}, given a sample size of n = {n}, sample average = {x_bar}, and sample standard deviation = {std} , \\n\\\n",
    " we {decision} null hypothesis that average region a penguin height is equal to {mu_0}'\n",
    "\n",
    "  print(txt)"
   ]
  },
  {
   "cell_type": "markdown",
   "metadata": {},
   "source": [
    "## Test the fuction"
   ]
  },
  {
   "cell_type": "code",
   "execution_count": 53,
   "metadata": {},
   "outputs": [
    {
     "name": "stdout",
     "output_type": "stream",
     "text": [
      "At a significant level alpha = 0.05, given a sample size of n = 15, sample average = 29.0, and sample standard deviation = 1.5 , \n",
      " we reject  null hypothesis that average region a penguin height is equal to 30\n",
      "At a significant level alpha = 0.05, given a sample size of n = 15, sample average = 29.1, and sample standard deviation = 1.5 , \n",
      " we reject  null hypothesis that average region a penguin height is equal to 30\n",
      "At a significant level alpha = 0.05, given a sample size of n = 15, sample average = 29.2, and sample standard deviation = 1.5 , \n",
      " we fail to reject null hypothesis that average region a penguin height is equal to 30\n",
      "At a significant level alpha = 0.05, given a sample size of n = 15, sample average = 29.3, and sample standard deviation = 1.5 , \n",
      " we fail to reject null hypothesis that average region a penguin height is equal to 30\n",
      "At a significant level alpha = 0.05, given a sample size of n = 15, sample average = 29.4, and sample standard deviation = 1.5 , \n",
      " we fail to reject null hypothesis that average region a penguin height is equal to 30\n",
      "At a significant level alpha = 0.05, given a sample size of n = 15, sample average = 29.5, and sample standard deviation = 1.5 , \n",
      " we fail to reject null hypothesis that average region a penguin height is equal to 30\n",
      "At a significant level alpha = 0.05, given a sample size of n = 15, sample average = 29.6, and sample standard deviation = 1.5 , \n",
      " we fail to reject null hypothesis that average region a penguin height is equal to 30\n",
      "At a significant level alpha = 0.05, given a sample size of n = 15, sample average = 29.7, and sample standard deviation = 1.5 , \n",
      " we fail to reject null hypothesis that average region a penguin height is equal to 30\n",
      "At a significant level alpha = 0.05, given a sample size of n = 15, sample average = 29.8, and sample standard deviation = 1.5 , \n",
      " we fail to reject null hypothesis that average region a penguin height is equal to 30\n",
      "At a significant level alpha = 0.05, given a sample size of n = 15, sample average = 29.9, and sample standard deviation = 1.5 , \n",
      " we fail to reject null hypothesis that average region a penguin height is equal to 30\n"
     ]
    }
   ],
   "source": [
    "for x_bar in np.arange(29, 30, 0.1):\n",
    "  ya_t_test_population_mean(mu_0, n, x_bar.round(2), std, alpha)"
   ]
  },
  {
   "cell_type": "code",
   "execution_count": 43,
   "metadata": {},
   "outputs": [
    {
     "name": "stdout",
     "output_type": "stream",
     "text": [
      "At a significant level alpha = 0.05, given a sample size of n = 15, we reject  null hypothesis that average region a penguin height is equal to 30\n"
     ]
    }
   ],
   "source": [
    "ya_t_test_population_mean(mu_0, n, x_bar, std, alpha)"
   ]
  }
 ],
 "metadata": {
  "kernelspec": {
   "display_name": "pythontest1",
   "language": "python",
   "name": "python3"
  },
  "language_info": {
   "codemirror_mode": {
    "name": "ipython",
    "version": 3
   },
   "file_extension": ".py",
   "mimetype": "text/x-python",
   "name": "python",
   "nbconvert_exporter": "python",
   "pygments_lexer": "ipython3",
   "version": "3.11.4"
  }
 },
 "nbformat": 4,
 "nbformat_minor": 2
}
