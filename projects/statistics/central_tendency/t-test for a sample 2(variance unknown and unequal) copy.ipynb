{
 "cells": [
  {
   "cell_type": "markdown",
   "metadata": {},
   "source": [
    "# T-test 2 popluation Mean (Variance unknown and Unequal)"
   ]
  },
  {
   "cell_type": "markdown",
   "metadata": {},
   "source": [
    "## Overview"
   ]
  },
  {
   "cell_type": "markdown",
   "metadata": {},
   "source": [
    "The goal of this test is to determine if there is a significant difference between two assumed population means $(\\mu_1)$  and $(\\mu_2)$"
   ]
  },
  {
   "cell_type": "markdown",
   "metadata": {},
   "source": [
    "## Limitation"
   ]
  },
  {
   "cell_type": "markdown",
   "metadata": {},
   "source": [
    "(1) This test assume both population are normally distributed \n",
    "If popolation are not normally distributed then test is approximate \n",
    "\n",
    "(2) This test is only measures if $\\mu_1 = \\mu_2$ and $\\mu_1 \\ne \\mu_2$"
   ]
  },
  {
   "cell_type": "markdown",
   "metadata": {},
   "source": [
    "## Example Problem"
   ]
  },
  {
   "cell_type": "markdown",
   "metadata": {},
   "source": [
    "My huasband would like to buy a penguin, however he can't decide which species to buy. He cares about the speed at which the penguin can walk, \\\n",
    "but I told him they all can walk but very slow and it doesn't matter. He insist , so we observe 10 penguin from Apecies A and then 13 from \\\n",
    "species B in terms of their speed over 5 meters. The results are as follows :\n",
    "\n",
    "Species A : average speed = 0.67 m/s, standard deviation = 0.3 m/s, \\\n",
    "Species B : average speed = 0.58 m/s, standard deviation = 0.6 m/s \n",
    "\n",
    "Does it really matter which penguin we get?\n",
    "\n",
    "Let's solve in python"
   ]
  },
  {
   "cell_type": "markdown",
   "metadata": {},
   "source": [
    "## Step 0: Import libraries "
   ]
  },
  {
   "cell_type": "code",
   "execution_count": 2,
   "metadata": {},
   "outputs": [],
   "source": [
    "import numpy as np\n",
    "import scipy.stats as ss"
   ]
  },
  {
   "cell_type": "markdown",
   "metadata": {},
   "source": [
    "## Step 1: Establish Hypothesis"
   ]
  },
  {
   "cell_type": "markdown",
   "metadata": {},
   "source": [
    "Null Hypothesis $(H_0)$ : $\\mu_1 = \\mu_2$ \\\n",
    "Alternative Hypothesis $(H_1)$ : $\\mu_2 \\gt \\mu_1$  \n",
    "\n",
    "Null Hypothesis $(H_0)$ : $\\mu_1 - \\mu_2$  = 0 \\\n",
    "Alternative Hypothesis $(H_1)$ : $(\\mu_2 - \\mu_1) \\gt 0$ "
   ]
  },
  {
   "cell_type": "markdown",
   "metadata": {},
   "source": [
    "## Step 2: Compute Test statistics"
   ]
  },
  {
   "cell_type": "code",
   "execution_count": 3,
   "metadata": {},
   "outputs": [
    {
     "data": {
      "text/plain": [
       "-0.34"
      ]
     },
     "execution_count": 3,
     "metadata": {},
     "output_type": "execute_result"
    }
   ],
   "source": [
    "#  sample 1 size\n",
    "n1 = 10\n",
    "#  sample 2 size\n",
    "n2 = 13\n",
    "\n",
    "#  sample 1 mean \n",
    "x_bar_1 = 0.67\n",
    "\n",
    "#  sample 2 mean \n",
    "x_bar_2 = 0.58\n",
    "\n",
    "#  sample 1 standard deviation \n",
    "std1 = 0.3\n",
    "\n",
    "#  sample 2 standard deviation \n",
    "std2 = 0.6\n",
    "\n",
    "#  difference in sample mean\n",
    "mean_difference = x_bar_2 - x_bar_1\n",
    "\n",
    "# stander error \n",
    "a = (std1/np.sqrt(n1)) \n",
    "b = (std2/np.sqrt(n2))\n",
    "se = a + b\n",
    "\n",
    "#  test statistic (t- statistic)\n",
    "t_statistic = mean_difference / se\n",
    "t_statistic = t_statistic.round(2)\n",
    "\n",
    "\n",
    "\n",
    "t_statistic \n",
    "\n"
   ]
  },
  {
   "cell_type": "markdown",
   "metadata": {},
   "source": [
    "## Step3: Determine Critical t-values"
   ]
  },
  {
   "cell_type": "code",
   "execution_count": 9,
   "metadata": {},
   "outputs": [
    {
     "data": {
      "text/plain": [
       "2.0"
      ]
     },
     "execution_count": 9,
     "metadata": {},
     "output_type": "execute_result"
    }
   ],
   "source": [
    "#  assume alpha (type I - error level ) = 5%\n",
    "alpha = 0.05\n",
    "\n",
    "# degree of fredom \n",
    "part_1 = np.power(se ,4)\n",
    "part_21 = np.power(std1, 4) / (np.power(n1, 3) - np.power(n1, 2))\n",
    "part_22 = np.power(std2, 4) / (np.power(n2, 3) - np.power(n2, 2))\n",
    "nu = part_1 / (part_21 +part_22)\n",
    "\n",
    "# lower- tail  probablity (1 - tailed test)\n",
    "q = 1- alpha / 2\n",
    "\n",
    "# probality that raw score (x) > t-statistic \n",
    "t_critical = ss.t.ppf(q = q, df = nu).round(2)\n",
    "\n",
    "t_critical"
   ]
  },
  {
   "cell_type": "markdown",
   "metadata": {},
   "source": [
    "## Step4: Establish Rejection Region"
   ]
  },
  {
   "cell_type": "markdown",
   "metadata": {},
   "source": [
    "Reject Null hypothesis if |t_statistic| < t_critical"
   ]
  },
  {
   "cell_type": "markdown",
   "metadata": {},
   "source": [
    "## Step 5: Conclusion"
   ]
  },
  {
   "cell_type": "code",
   "execution_count": 10,
   "metadata": {},
   "outputs": [
    {
     "name": "stdout",
     "output_type": "stream",
     "text": [
      "Given all statistical circumstance around the problem we fail to reject null hypothesis so it deos not matter which penguin we buy\n"
     ]
    }
   ],
   "source": [
    "if np.abs(t_statistic) > np.abs(t_critical) :\n",
    "  decision = 'reject  null hypothesis so it matter which penguin we buy'\n",
    "else:\n",
    "  decision = 'fail to reject null hypothesis so it deos not matter which penguin we buy'\n",
    "  claim = 'equal to'\n",
    "# state conclusion\n",
    "txt = f'Given all statistical circumstance around the problem we {decision}'\n",
    "\n",
    "print(txt)"
   ]
  },
  {
   "cell_type": "markdown",
   "metadata": {},
   "source": [
    "## Convert Code to Function"
   ]
  },
  {
   "cell_type": "code",
   "execution_count": 13,
   "metadata": {},
   "outputs": [],
   "source": [
    "def ya_t_test_population_mean(x_bar_1, x_bar_2, n1, n2, std1, std2, alpha):\n",
    "  #  difference in sample mean\n",
    "  mean_difference = x_bar_2 - x_bar_1\n",
    "\n",
    "  # stander error \n",
    "  a = (std1/np.sqrt(n1)) \n",
    "  b = (std2/np.sqrt(n2))\n",
    "  se = a + b\n",
    "\n",
    "  #  test statistic (t- statistic)\n",
    "  t_statistic = mean_difference / se\n",
    "  t_statistic = t_statistic.round(2)\n",
    "  \n",
    "  #  assume alpha (type I - error level ) = 5%\n",
    "  alpha = 0.05\n",
    "\n",
    "  # degree of fredom \n",
    "  part_1 = np.power(se ,4)\n",
    "  part_21 = np.power(std1, 4) / (np.power(n1, 3) - np.power(n1, 2))\n",
    "  part_22 = np.power(std2, 4) / (np.power(n2, 3) - np.power(n2, 2))\n",
    "  nu = part_1 / (part_21 +part_22)\n",
    "\n",
    "  # lower- tail  probablity (1 - tailed test)\n",
    "  q = 1- alpha / 2\n",
    "\n",
    "  # probality that raw score (x) > t-statistic \n",
    "  t_critical = ss.t.ppf(q = q, df = nu).round(2)\n",
    "  \n",
    "  if np.abs(t_statistic) > np.abs(t_critical) :\n",
    "    decision = 'reject  null hypothesis so it matter which penguin we buy'\n",
    "  else:\n",
    "    decision = 'fail to reject null hypothesis so it deos not matter which penguin we buy'\n",
    "    claim = 'equal to'\n",
    "  # state conclusion\n",
    "  txt = f'Given all statistical circumstance around the problem we {decision}'\n",
    "\n",
    "  print(txt)"
   ]
  },
  {
   "cell_type": "markdown",
   "metadata": {},
   "source": [
    "## Test the fuction"
   ]
  },
  {
   "cell_type": "code",
   "execution_count": 14,
   "metadata": {},
   "outputs": [
    {
     "name": "stdout",
     "output_type": "stream",
     "text": [
      "Given all statistical circumstance around the problem we fail to reject null hypothesis so it deos not matter which penguin we buy\n"
     ]
    }
   ],
   "source": [
    "ya_t_test_population_mean(x_bar_1, x_bar_2, n1, n2, std1, std2, alpha)"
   ]
  }
 ],
 "metadata": {
  "kernelspec": {
   "display_name": "pythontest1",
   "language": "python",
   "name": "python3"
  },
  "language_info": {
   "codemirror_mode": {
    "name": "ipython",
    "version": 3
   },
   "file_extension": ".py",
   "mimetype": "text/x-python",
   "name": "python",
   "nbconvert_exporter": "python",
   "pygments_lexer": "ipython3",
   "version": "3.11.4"
  }
 },
 "nbformat": 4,
 "nbformat_minor": 2
}
