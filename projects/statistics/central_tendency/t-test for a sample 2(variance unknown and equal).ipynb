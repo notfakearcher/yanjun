{
 "cells": [
  {
   "cell_type": "markdown",
   "metadata": {},
   "source": [
    "# T-test 2 popluation Mean (Variance unknown and Equal)"
   ]
  },
  {
   "cell_type": "markdown",
   "metadata": {},
   "source": [
    "## Overview"
   ]
  },
  {
   "cell_type": "markdown",
   "metadata": {},
   "source": [
    "The goal of this test is to determine if there is a significant difference between two assumed population means $(\\mu_1)$  and $(\\mu_2)$"
   ]
  },
  {
   "cell_type": "markdown",
   "metadata": {},
   "source": [
    "## Limitation"
   ]
  },
  {
   "cell_type": "markdown",
   "metadata": {},
   "source": [
    "This test assume both population are normally distributed \n",
    "If popolation are not normally distributed then test is approximate"
   ]
  },
  {
   "cell_type": "markdown",
   "metadata": {},
   "source": [
    "## Example Problem"
   ]
  },
  {
   "cell_type": "markdown",
   "metadata": {},
   "source": [
    "My husband assumes : a specific type of penguins from 'region a ' has a different average height compared with penginus from rigon B.\\\n",
    "I collect a sample of 20 penguin from both rigons as follows. The mean height of penguin from rigon A is 37 inches, with standard deviation of 0.8 inches.\\\n",
    "The mean height of penguin from rigon B is 40 inches, with standard deviation of 0.8 inches. Is my husband assumption correct?\\\n",
    "\n",
    "\n",
    "Let's solve in python"
   ]
  },
  {
   "cell_type": "markdown",
   "metadata": {},
   "source": [
    "## Step 0: Import libraries "
   ]
  },
  {
   "cell_type": "code",
   "execution_count": 1,
   "metadata": {},
   "outputs": [],
   "source": [
    "import numpy as np\n",
    "import scipy.stats as ss"
   ]
  },
  {
   "cell_type": "markdown",
   "metadata": {},
   "source": [
    "## Step 1: Establish Hypothesis"
   ]
  },
  {
   "cell_type": "markdown",
   "metadata": {},
   "source": [
    "Null Hypothesis $(H_0)$ : $\\mu_1 = \\mu_2$ \\\n",
    "Alternative Hypothesis $(H_1)$ : $\\mu_2 \\gt \\mu_1$  \n",
    "\n",
    "Null Hypothesis $(H_0)$ : $\\mu_1 - \\mu_2$  = 0 \\\n",
    "Alternative Hypothesis $(H_1)$ : $(\\mu_2 - \\mu_1) \\gt 0$ "
   ]
  },
  {
   "cell_type": "markdown",
   "metadata": {},
   "source": [
    "## Step 2: Compute Test statistics"
   ]
  },
  {
   "cell_type": "code",
   "execution_count": 10,
   "metadata": {},
   "outputs": [
    {
     "data": {
      "text/plain": [
       "11.86"
      ]
     },
     "execution_count": 10,
     "metadata": {},
     "output_type": "execute_result"
    }
   ],
   "source": [
    "#  sample 1 size\n",
    "n1 = 20\n",
    "#  sample 2 size\n",
    "n2 = 20\n",
    "\n",
    "#  sample 1 mean \n",
    "x_bar_1 = 37\n",
    "\n",
    "#  sample 2 mean \n",
    "x_bar_2 = 40\n",
    "\n",
    "#  sample standard deviation \n",
    "a = (1/n1) + (1/n2)\n",
    "std = 0.8\n",
    "\n",
    "#  difference in sample mean\n",
    "mean_difference = x_bar_2 - x_bar_1\n",
    "\n",
    "# stander error \n",
    "se = std * np.sqrt(a)\n",
    "\n",
    "#  test statistic (t- statistic)\n",
    "t_statistic = mean_difference / se\n",
    "t_statistic = t_statistic.round(2)\n",
    "\n",
    "\n",
    "\n",
    "t_statistic \n",
    "\n"
   ]
  },
  {
   "cell_type": "markdown",
   "metadata": {},
   "source": [
    "## Step3: Determine Critical t-values"
   ]
  },
  {
   "cell_type": "code",
   "execution_count": 15,
   "metadata": {},
   "outputs": [
    {
     "data": {
      "text/plain": [
       "1.69"
      ]
     },
     "execution_count": 15,
     "metadata": {},
     "output_type": "execute_result"
    }
   ],
   "source": [
    "#  assume alpha (type I - error level ) = 5%\n",
    "alpha = 0.05\n",
    "\n",
    "# degree of fredom \n",
    "nu = n1 + n2 -2\n",
    "\n",
    "# lower- tail  probablity (1 - tailed test)\n",
    "q = 1- alpha \n",
    "\n",
    "# probality that raw score (x) > t-statistic \n",
    "t_critical = ss.t.ppf(q = q, df = nu).round(2)\n",
    "\n",
    "t_critical"
   ]
  },
  {
   "cell_type": "markdown",
   "metadata": {},
   "source": [
    "## Step4: Establish Rejection Region"
   ]
  },
  {
   "cell_type": "markdown",
   "metadata": {},
   "source": [
    "Reject Null hypothesis if |t_statistic| < t_critical"
   ]
  },
  {
   "cell_type": "markdown",
   "metadata": {},
   "source": [
    "## Step 5: Conclusion"
   ]
  },
  {
   "cell_type": "code",
   "execution_count": 24,
   "metadata": {},
   "outputs": [
    {
     "name": "stdout",
     "output_type": "stream",
     "text": [
      "At a significant level alpha = 0.05, given a sample size of n1 = 20, n2 = 20, sample average = 37 and 40,\n",
      "and sample 1 and sample 2 standard deviation = 0.8 ,we reject  null hypothesis that average penguin height from region A is greater\n",
      "than average penguin height from region B. We state that region B penguin height is greater than  region B penguin height \n"
     ]
    }
   ],
   "source": [
    "if np.abs(t_statistic) > np.abs(t_critical) :\n",
    "  decision = 'reject '\n",
    "  claim = 'greater than '\n",
    "else:\n",
    "  decision = 'fail to reject'\n",
    "  claim = 'equal to'\n",
    "# state conclusion\n",
    "txt = f'At a significant level alpha = {alpha}, given a sample size of n1 = {n1}, n2 = {n2}, sample average = {x_bar_1} and {x_bar_2},\\n\\\n",
    "and sample 1 and sample 2 standard deviation = {std} ,we {decision} null hypothesis that average penguin height from region A is greater\\n\\\n",
    "than average penguin height from region B. We state that region B penguin height is {claim} region B penguin height '\n",
    "\n",
    "print(txt)"
   ]
  },
  {
   "cell_type": "markdown",
   "metadata": {},
   "source": [
    "## Convert Code to Function"
   ]
  },
  {
   "cell_type": "code",
   "execution_count": 27,
   "metadata": {},
   "outputs": [],
   "source": [
    "def ya_t_test_population_mean(x_bar_1, x_bar_2, n1, n2, std, alpha):\n",
    "    #  difference in sample mean\n",
    "  mean_difference = x_bar_2 - x_bar_1\n",
    "\n",
    "  # stander error \n",
    "  se = std * np.sqrt(a)\n",
    "\n",
    "  #  test statistic (t- statistic)\n",
    "  t_statistic = mean_difference / se\n",
    "  t_statistic = t_statistic.round(2)\n",
    "  #  assume alpha (type I - error level ) = 5%\n",
    "  alpha = 0.05\n",
    "\n",
    "  # degree of fredom \n",
    "  nu = n1 + n2 -2\n",
    "\n",
    "  # lower- tail  probablity (1 - tailed test)\n",
    "  q = 1- alpha \n",
    "\n",
    "  # probality that raw score (x) > t-statistic \n",
    "  t_critical = ss.t.ppf(q = q, df = nu).round(2)\n",
    "  \n",
    "  \n",
    "  if np.abs(t_statistic) > np.abs(t_critical) :\n",
    "    decision = 'reject '\n",
    "    claim = 'greater than '\n",
    "  else:\n",
    "    decision = 'fail to reject'\n",
    "    claim = 'equal to'\n",
    "  # state conclusion\n",
    "  txt = f'    At a significant level alpha = {alpha}, given a sample size of n1 = {n1}, n2 = {n2}, sample average = {x_bar_1} and {x_bar_2},\\n\\\n",
    "  and sample 1 and sample 2 standard deviation = {std} ,we {decision} null hypothesis that average penguin height from region A is greater\\n\\\n",
    "  than average penguin height from region B. We state that region B penguin height is {claim} region B penguin height '\n",
    "\n",
    "  print(txt)"
   ]
  },
  {
   "cell_type": "markdown",
   "metadata": {},
   "source": [
    "## Test the fuction"
   ]
  },
  {
   "cell_type": "code",
   "execution_count": 28,
   "metadata": {},
   "outputs": [
    {
     "name": "stdout",
     "output_type": "stream",
     "text": [
      "    At a significant level alpha = 0.05, given a sample size of n1 = 20, n2 = 20, sample average = 37 and 40,\n",
      "  and sample 1 and sample 2 standard deviation = 0.8 ,we reject  null hypothesis that average penguin height from region A is greater\n",
      "  than average penguin height from region B. We state that region B penguin height is greater than  region B penguin height \n"
     ]
    }
   ],
   "source": [
    "ya_t_test_population_mean(x_bar_1, x_bar_2, n1, n2, std, alpha)"
   ]
  }
 ],
 "metadata": {
  "kernelspec": {
   "display_name": "pythontest1",
   "language": "python",
   "name": "python3"
  },
  "language_info": {
   "codemirror_mode": {
    "name": "ipython",
    "version": 3
   },
   "file_extension": ".py",
   "mimetype": "text/x-python",
   "name": "python",
   "nbconvert_exporter": "python",
   "pygments_lexer": "ipython3",
   "version": "3.11.4"
  }
 },
 "nbformat": 4,
 "nbformat_minor": 2
}
