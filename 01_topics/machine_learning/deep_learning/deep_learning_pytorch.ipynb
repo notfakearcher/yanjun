{
 "cells": [
  {
   "cell_type": "code",
   "execution_count": 43,
   "metadata": {},
   "outputs": [],
   "source": [
    "import matplotlib.pyplot as plt\n",
    "import pandas as pd\n",
    "import sklearn\n",
    "import seaborn\n",
    "import torch\n",
    "import numpy as np"
   ]
  },
  {
   "cell_type": "code",
   "execution_count": 44,
   "metadata": {},
   "outputs": [
    {
     "name": "stdout",
     "output_type": "stream",
     "text": [
      "tensor([4, 5, 6], dtype=torch.int32)\n",
      "tensor([1, 2, 3])\n"
     ]
    }
   ],
   "source": [
    "# form a tensor(multi-dimension matrix, which will sent to the model)\n",
    "np.set_printoptions(precision=5)\n",
    "a = [1,2,3]\n",
    "b = np.array([4, 5, 6], dtype= np.int32)\n",
    "t_a = torch.tensor(a)\n",
    "t_b = torch.from_numpy(b)\n",
    "print(t_b)\n",
    "print(t_a)"
   ]
  },
  {
   "cell_type": "code",
   "execution_count": 45,
   "metadata": {},
   "outputs": [
    {
     "data": {
      "text/plain": [
       "torch.Size([2, 3])"
      ]
     },
     "execution_count": 45,
     "metadata": {},
     "output_type": "execute_result"
    }
   ],
   "source": [
    "t_ones = torch.ones((2,3),dtype = int)\n",
    "t_ones.shape"
   ]
  },
  {
   "cell_type": "code",
   "execution_count": 46,
   "metadata": {},
   "outputs": [
    {
     "name": "stdout",
     "output_type": "stream",
     "text": [
      "tensor([[1, 1, 1],\n",
      "        [1, 1, 1]])\n"
     ]
    }
   ],
   "source": [
    "print(t_ones)"
   ]
  },
  {
   "cell_type": "code",
   "execution_count": 47,
   "metadata": {},
   "outputs": [
    {
     "name": "stdout",
     "output_type": "stream",
     "text": [
      "tensor([[0.6826, 0.3051, 0.4635],\n",
      "        [0.4550, 0.5725, 0.4980]])\n"
     ]
    }
   ],
   "source": [
    "# form a random tensor\n",
    "rand_tensor = torch.rand(2,3)\n",
    "print(rand_tensor)"
   ]
  },
  {
   "cell_type": "markdown",
   "metadata": {},
   "source": [
    "# Manipulate torch type"
   ]
  },
  {
   "cell_type": "code",
   "execution_count": 48,
   "metadata": {},
   "outputs": [
    {
     "name": "stdout",
     "output_type": "stream",
     "text": [
      "torch.int64\n"
     ]
    }
   ],
   "source": [
    "# change torch dtype\n",
    "t_a_new = t_a.to(torch.int64)\n",
    "print(t_a.dtype)\n"
   ]
  },
  {
   "cell_type": "code",
   "execution_count": 49,
   "metadata": {},
   "outputs": [],
   "source": [
    "t = torch.rand(2,3)"
   ]
  },
  {
   "cell_type": "code",
   "execution_count": 50,
   "metadata": {},
   "outputs": [
    {
     "data": {
      "text/plain": [
       "tensor([[0.3398, 0.7718],\n",
       "        [0.5239, 0.0112],\n",
       "        [0.7981, 0.8100]])"
      ]
     },
     "execution_count": 50,
     "metadata": {},
     "output_type": "execute_result"
    }
   ],
   "source": [
    "t = torch.rand(2,3)\n",
    "t_tr = torch.transpose(t, 0, 1)\n",
    "t_tr"
   ]
  },
  {
   "cell_type": "code",
   "execution_count": 51,
   "metadata": {},
   "outputs": [
    {
     "data": {
      "text/plain": [
       "torch.Size([5, 6])"
      ]
     },
     "execution_count": 51,
     "metadata": {},
     "output_type": "execute_result"
    }
   ],
   "source": [
    "# reshape a tensor (from 1 dimension to 2 dimension):\n",
    "t = torch.zeros(30)\n",
    "t_reshape = t.reshape(5,6)\n",
    "t_reshape.shape"
   ]
  },
  {
   "cell_type": "code",
   "execution_count": 52,
   "metadata": {},
   "outputs": [
    {
     "name": "stdout",
     "output_type": "stream",
     "text": [
      "torch.Size([1, 2, 1, 4])\n"
     ]
    }
   ],
   "source": [
    "# remove the unnecessary dimensions\n",
    "t = torch.zeros(1,2,1,4,1)\n",
    "t_sqz = torch.squeeze(t, 4)\n",
    "print(t_sqz.shape)"
   ]
  },
  {
   "cell_type": "markdown",
   "metadata": {},
   "source": [
    "# Apply mathematical operations"
   ]
  },
  {
   "cell_type": "code",
   "execution_count": 53,
   "metadata": {},
   "outputs": [
    {
     "data": {
      "text/plain": [
       "tensor([[ 0.8590,  0.7056],\n",
       "        [-0.3406, -1.2720],\n",
       "        [-1.1948,  0.0250],\n",
       "        [-0.7627,  1.3969],\n",
       "        [-0.3245,  0.2879]])"
      ]
     },
     "execution_count": 53,
     "metadata": {},
     "output_type": "execute_result"
    }
   ],
   "source": [
    "torch.manual_seed(1)\n",
    "t1 = 2 * torch.rand(5,2) - 1\n",
    "t2 = torch.normal(mean = 0, std = 1, size = (5, 2))\n",
    "t2"
   ]
  },
  {
   "cell_type": "code",
   "execution_count": 54,
   "metadata": {},
   "outputs": [
    {
     "data": {
      "text/plain": [
       "tensor([[ 0.4426, -0.3114],\n",
       "        [ 0.0660, -0.5970],\n",
       "        [ 1.1249,  0.0150],\n",
       "        [ 0.1569,  0.7107],\n",
       "        [-0.0451, -0.0352]])"
      ]
     },
     "execution_count": 54,
     "metadata": {},
     "output_type": "execute_result"
    }
   ],
   "source": [
    "t3 = torch.multiply(t1, t2)\n",
    "t3"
   ]
  },
  {
   "cell_type": "code",
   "execution_count": 55,
   "metadata": {},
   "outputs": [
    {
     "data": {
      "text/plain": [
       "tensor([-0.1373,  0.2028])"
      ]
     },
     "execution_count": 55,
     "metadata": {},
     "output_type": "execute_result"
    }
   ],
   "source": [
    "t4 = torch.mean(t1, axis = 0)\n",
    "t4"
   ]
  },
  {
   "cell_type": "code",
   "execution_count": 56,
   "metadata": {},
   "outputs": [
    {
     "name": "stdout",
     "output_type": "stream",
     "text": [
      "tensor([[ 0.1312,  0.3860, -0.6267, -1.0096, -0.2943],\n",
      "        [ 0.1647, -0.5310,  0.2434,  0.8035,  0.1980],\n",
      "        [-0.3855, -0.4422,  1.1399,  1.5558,  0.4781],\n",
      "        [ 0.1822, -0.5771,  0.2585,  0.8676,  0.2132],\n",
      "        [ 0.0330,  0.1084, -0.1692, -0.2771, -0.0804]])\n"
     ]
    }
   ],
   "source": [
    "t5 = torch.matmul(t1, torch.transpose(t2, 0, 1))\n",
    "print(t5)"
   ]
  },
  {
   "cell_type": "code",
   "execution_count": 57,
   "metadata": {},
   "outputs": [
    {
     "name": "stdout",
     "output_type": "stream",
     "text": [
      "tensor([0.6785, 0.5078, 1.1162, 0.5488, 0.1853])\n"
     ]
    }
   ],
   "source": [
    "# calculate the norm of a matrix\n",
    "norm_t1 = torch.linalg.norm(t1, ord = 2, dim = 1)\n",
    "print(norm_t1)"
   ]
  },
  {
   "cell_type": "markdown",
   "metadata": {},
   "source": [
    "## Split , stack, and concatenate tensors"
   ]
  },
  {
   "cell_type": "code",
   "execution_count": 58,
   "metadata": {},
   "outputs": [
    {
     "name": "stdout",
     "output_type": "stream",
     "text": [
      "tensor([0.7576, 0.2793, 0.4031, 0.7347, 0.0293, 0.7999])\n"
     ]
    },
    {
     "data": {
      "text/plain": [
       "[array([0.75763, 0.27931, 0.40307], dtype=float32),\n",
       " array([0.73468, 0.02928, 0.79986], dtype=float32)]"
      ]
     },
     "execution_count": 58,
     "metadata": {},
     "output_type": "execute_result"
    }
   ],
   "source": [
    "torch.manual_seed(1)\n",
    "t = torch.rand(6)\n",
    "print(t)\n",
    "t_split = torch.chunk(t,chunks = 2)\n",
    "[item.numpy() for item in t_split]"
   ]
  },
  {
   "cell_type": "code",
   "execution_count": 59,
   "metadata": {},
   "outputs": [
    {
     "data": {
      "text/plain": [
       "[array([0.6147 , 0.38101, 0.63711], dtype=float32),\n",
       " array([0.47446, 0.71359], dtype=float32)]"
      ]
     },
     "execution_count": 59,
     "metadata": {},
     "output_type": "execute_result"
    }
   ],
   "source": [
    "torch.manual_seed(2)\n",
    "t = torch.rand(5)\n",
    "t_split1 = torch.split(t,split_size_or_sections = (3,2))\n",
    "\n",
    "[item.numpy() for item in t_split1]"
   ]
  },
  {
   "cell_type": "code",
   "execution_count": 60,
   "metadata": {},
   "outputs": [
    {
     "name": "stdout",
     "output_type": "stream",
     "text": [
      "tensor([1., 1., 1., 0., 0., 0.])\n"
     ]
    }
   ],
   "source": [
    "A = torch.ones(3)\n",
    "B = torch.zeros(3)\n",
    "C = torch.cat([A, B], axis = 0)\n",
    "print(C)\n"
   ]
  },
  {
   "cell_type": "code",
   "execution_count": 61,
   "metadata": {},
   "outputs": [
    {
     "data": {
      "text/plain": [
       "tensor([[1., 0.],\n",
       "        [1., 0.],\n",
       "        [1., 0.]])"
      ]
     },
     "execution_count": 61,
     "metadata": {},
     "output_type": "execute_result"
    }
   ],
   "source": [
    "A = torch.ones(3)\n",
    "B = torch.zeros(3)\n",
    "C = torch.stack([A, B], axis = 1)\n",
    "C"
   ]
  },
  {
   "cell_type": "markdown",
   "metadata": {},
   "source": [
    "# Builiding input piplines in PyTorch "
   ]
  },
  {
   "cell_type": "markdown",
   "metadata": {},
   "source": [
    "# Create a PyTorch Dataloader from existing tensors"
   ]
  },
  {
   "cell_type": "code",
   "execution_count": 62,
   "metadata": {},
   "outputs": [],
   "source": [
    "from torch.utils.data import DataLoader\n",
    "t = torch.arange(6, dtype = torch.float32)\n",
    "data_loader = DataLoader(t)\n"
   ]
  },
  {
   "cell_type": "code",
   "execution_count": 63,
   "metadata": {},
   "outputs": [
    {
     "name": "stdout",
     "output_type": "stream",
     "text": [
      "tensor([0.])\n",
      "tensor([1.])\n",
      "tensor([2.])\n",
      "tensor([3.])\n",
      "tensor([4.])\n",
      "tensor([5.])\n"
     ]
    }
   ],
   "source": [
    "for i in data_loader:\n",
    "  print(i)"
   ]
  },
  {
   "cell_type": "code",
   "execution_count": 64,
   "metadata": {},
   "outputs": [
    {
     "name": "stdout",
     "output_type": "stream",
     "text": [
      "batch0: tensor([0., 1., 2., 3.])\n",
      "batch1: tensor([4., 5.])\n"
     ]
    }
   ],
   "source": [
    "# create a batch from this dataset \n",
    "data_loader = DataLoader(t, batch_size= 4, drop_last= False)\n",
    "for i, j in enumerate(data_loader):\n",
    "  print(f'batch{i}: {j}')\n",
    "  "
   ]
  },
  {
   "cell_type": "markdown",
   "metadata": {},
   "source": [
    "## Combining two tensors into a dataset"
   ]
  },
  {
   "cell_type": "code",
   "execution_count": 65,
   "metadata": {},
   "outputs": [],
   "source": [
    "torch.manual_seed(1)\n",
    "t_x = torch.rand([4,3], dtype = torch.float32)\n",
    "t_y = torch.arange(4)"
   ]
  },
  {
   "cell_type": "code",
   "execution_count": 66,
   "metadata": {},
   "outputs": [
    {
     "data": {
      "text/plain": [
       "tensor([[0.7576, 0.2793, 0.4031],\n",
       "        [0.7347, 0.0293, 0.7999],\n",
       "        [0.3971, 0.7544, 0.5695],\n",
       "        [0.4388, 0.6387, 0.5247]])"
      ]
     },
     "execution_count": 66,
     "metadata": {},
     "output_type": "execute_result"
    }
   ],
   "source": [
    "t_x"
   ]
  },
  {
   "cell_type": "code",
   "execution_count": 114,
   "metadata": {},
   "outputs": [],
   "source": [
    "# set a Dataset class\n",
    "from torch.utils.data import Dataset\n",
    "class JointDataset():\n",
    "  def __init__(self, x, y):\n",
    "    self.x = x\n",
    "    self.y = y\n",
    "  \n",
    "  def __len__(self):\n",
    "    return len(self.x)\n",
    "  \n",
    "  def __getitem__(self, idx):\n",
    "    return self.x[idx], self.y[idx]"
   ]
  },
  {
   "cell_type": "code",
   "execution_count": 115,
   "metadata": {},
   "outputs": [],
   "source": [
    "joint_dataset = JointDataset(t_x, t_y)\n",
    "# joint_dataset.__getitem__(3)"
   ]
  },
  {
   "cell_type": "code",
   "execution_count": 116,
   "metadata": {},
   "outputs": [
    {
     "name": "stdout",
     "output_type": "stream",
     "text": [
      "x:  tensor([0.7576, 0.2793, 0.4031]) y:  tensor(0)\n",
      "x:  tensor([0.7347, 0.0293, 0.7999]) y:  tensor(1)\n",
      "x:  tensor([0.3971, 0.7544, 0.5695]) y:  tensor(2)\n",
      "x:  tensor([0.4388, 0.6387, 0.5247]) y:  tensor(3)\n"
     ]
    }
   ],
   "source": [
    "for example in joint_dataset:\n",
    "  print('x: ', example[0], 'y: ', example[1])"
   ]
  },
  {
   "cell_type": "code",
   "execution_count": 141,
   "metadata": {},
   "outputs": [],
   "source": [
    "# shuffle, batch, and repeat \n",
    "torch.manual_seed(1)\n",
    "data_loader = DataLoader(dataset= joint_dataset, batch_size= 1, shuffle = True)"
   ]
  },
  {
   "cell_type": "code",
   "execution_count": 120,
   "metadata": {},
   "outputs": [
    {
     "data": {
      "text/plain": [
       "tensor([[0.7576, 0.2793, 0.4031],\n",
       "        [0.7347, 0.0293, 0.7999],\n",
       "        [0.3971, 0.7544, 0.5695],\n",
       "        [0.4388, 0.6387, 0.5247]])"
      ]
     },
     "execution_count": 120,
     "metadata": {},
     "output_type": "execute_result"
    }
   ],
   "source": [
    "t_x"
   ]
  },
  {
   "cell_type": "code",
   "execution_count": 138,
   "metadata": {},
   "outputs": [
    {
     "name": "stdout",
     "output_type": "stream",
     "text": [
      "batch1:  x:  tensor([[0.7576, 0.2793, 0.4031],\n",
      "        [0.3971, 0.7544, 0.5695]]) y:  tensor([0, 2])\n",
      "batch2:  x:  tensor([[0.7347, 0.0293, 0.7999],\n",
      "        [0.4388, 0.6387, 0.5247]]) y:  tensor([1, 3])\n"
     ]
    }
   ],
   "source": [
    "for i, batch in enumerate(data_loader, 1):\n",
    "  print(f'batch{i}: ', 'x: ', batch[0], 'y: ', batch[1])"
   ]
  },
  {
   "cell_type": "code",
   "execution_count": 142,
   "metadata": {},
   "outputs": [
    {
     "name": "stdout",
     "output_type": "stream",
     "text": [
      "epoch1\n",
      "batch1, tensor([[0.3971, 0.7544, 0.5695]]), tensor([2])\n",
      "batch2, tensor([[0.7576, 0.2793, 0.4031]]), tensor([0])\n",
      "batch3, tensor([[0.7347, 0.0293, 0.7999]]), tensor([1])\n",
      "batch4, tensor([[0.4388, 0.6387, 0.5247]]), tensor([3])\n",
      "epoch2\n",
      "batch1, tensor([[0.7576, 0.2793, 0.4031]]), tensor([0])\n",
      "batch2, tensor([[0.3971, 0.7544, 0.5695]]), tensor([2])\n",
      "batch3, tensor([[0.7347, 0.0293, 0.7999]]), tensor([1])\n",
      "batch4, tensor([[0.4388, 0.6387, 0.5247]]), tensor([3])\n"
     ]
    }
   ],
   "source": [
    "# shuffle the dataset for twice\n",
    "for epoch in range(2):\n",
    "  print(f'epoch{epoch+1}')\n",
    "  for i, batch in enumerate(data_loader,1):\n",
    "    print(f'batch{i}, {batch[0]}, {batch[1]}')"
   ]
  },
  {
   "cell_type": "code",
   "execution_count": null,
   "metadata": {},
   "outputs": [],
   "source": []
  }
 ],
 "metadata": {
  "kernelspec": {
   "display_name": "pythontest1",
   "language": "python",
   "name": "python3"
  },
  "language_info": {
   "codemirror_mode": {
    "name": "ipython",
    "version": 3
   },
   "file_extension": ".py",
   "mimetype": "text/x-python",
   "name": "python",
   "nbconvert_exporter": "python",
   "pygments_lexer": "ipython3",
   "version": "3.9.7"
  }
 },
 "nbformat": 4,
 "nbformat_minor": 2
}
