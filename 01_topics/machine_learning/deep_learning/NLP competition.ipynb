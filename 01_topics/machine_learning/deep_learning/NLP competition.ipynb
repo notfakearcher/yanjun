{
 "cells": [
  {
   "cell_type": "code",
   "execution_count": 1,
   "metadata": {},
   "outputs": [
    {
     "name": "stderr",
     "output_type": "stream",
     "text": [
      "c:\\Users\\julia\\miniconda3\\envs\\pythontest2\\lib\\site-packages\\torchtext\\datasets\\__init__.py:4: UserWarning: \n",
      "/!\\ IMPORTANT WARNING ABOUT TORCHTEXT STATUS /!\\ \n",
      "Torchtext is deprecated and the last released version will be 0.18 (this one). You can silence this warning by calling the following at the beginnign of your scripts: `import torchtext; torchtext.disable_torchtext_deprecation_warning()`\n",
      "  warnings.warn(torchtext._TORCHTEXT_DEPRECATION_MSG)\n",
      "c:\\Users\\julia\\miniconda3\\envs\\pythontest2\\lib\\site-packages\\torchtext\\data\\__init__.py:4: UserWarning: \n",
      "/!\\ IMPORTANT WARNING ABOUT TORCHTEXT STATUS /!\\ \n",
      "Torchtext is deprecated and the last released version will be 0.18 (this one). You can silence this warning by calling the following at the beginnign of your scripts: `import torchtext; torchtext.disable_torchtext_deprecation_warning()`\n",
      "  warnings.warn(torchtext._TORCHTEXT_DEPRECATION_MSG)\n",
      "c:\\Users\\julia\\miniconda3\\envs\\pythontest2\\lib\\site-packages\\torchdata\\datapipes\\__init__.py:18: UserWarning: \n",
      "################################################################################\n",
      "WARNING!\n",
      "The 'datapipes', 'dataloader2' modules are deprecated and will be removed in a\n",
      "future torchdata release! Please see https://github.com/pytorch/data/issues/1196\n",
      "to learn more and leave feedback.\n",
      "################################################################################\n",
      "\n",
      "  deprecation_warning()\n"
     ]
    }
   ],
   "source": [
    "import torch\n",
    "import torchtext\n",
    "import torch.nn as nn\n",
    "from torchtext.datasets import IMDB\n",
    "torchtext.disable_torchtext_deprecation_warning()\n",
    "# from torchtext.datasets import IMDB\n",
    "train_dataset = IMDB(split = 'train')\n",
    "test_dataset = IMDB(split = 'test')\n",
    "from itertools import islice\n",
    "import pandas as pd"
   ]
  },
  {
   "cell_type": "code",
   "execution_count": 2,
   "metadata": {},
   "outputs": [],
   "source": [
    "# split the training dataset into seperate training and validation partitions\n",
    "from torch.utils.data.dataset import random_split\n",
    "torch.manual_seed(1)\n",
    "train_dataset, valid_dataset = random_split(list(train_dataset), [20000, 5000])"
   ]
  },
  {
   "cell_type": "code",
   "execution_count": 3,
   "metadata": {},
   "outputs": [],
   "source": [
    "test_dataset = list(test_dataset)"
   ]
  },
  {
   "cell_type": "code",
   "execution_count": 4,
   "metadata": {},
   "outputs": [],
   "source": [
    "# identify the unique words in the training dataset\n",
    "#  map these unique words to a unique integer and encode the review text into encoded integers\n",
    "import re\n",
    "from collections import Counter, OrderedDict\n",
    "\n",
    "\n",
    "# split the text into words\n",
    "def tokenizer(text):\n",
    "  text = re.sub('<[^>]*>', '', text)\n",
    "  emoticons = re.findall('(?::|;|=)(?:\\)|\\(|D|P)', text.lower())\n",
    "  text = re.sub('[\\W]+', ' ', text.lower()) + ' '.join(emoticons).replace('-', '')\n",
    "  tokenized = text.split()\n",
    "  return tokenized"
   ]
  },
  {
   "cell_type": "code",
   "execution_count": 5,
   "metadata": {},
   "outputs": [
    {
     "name": "stdout",
     "output_type": "stream",
     "text": [
      "Vocab-size:  69019\n"
     ]
    }
   ],
   "source": [
    "token_counts = Counter()\n",
    "for label, line in train_dataset:\n",
    "  tokens = tokenizer(line)\n",
    "  token_counts.update(tokens)\n",
    "print('Vocab-size: ', len(token_counts))"
   ]
  },
  {
   "cell_type": "code",
   "execution_count": 6,
   "metadata": {},
   "outputs": [
    {
     "data": {
      "text/plain": [
       "Counter({'2': 10064, '1': 9936})"
      ]
     },
     "execution_count": 6,
     "metadata": {},
     "output_type": "execute_result"
    }
   ],
   "source": [
    "# 2 is positive feedback, and 1 is negative feedback\n",
    "\n",
    "token = Counter()\n",
    "for label, line in train_dataset:\n",
    "  t = str(label)\n",
    "  token.update(t)\n",
    "token"
   ]
  },
  {
   "cell_type": "code",
   "execution_count": 7,
   "metadata": {},
   "outputs": [],
   "source": [
    "# map these unique words in integer\n",
    "from torchtext.vocab import vocab\n",
    "sort_tuple = sorted(token_counts.items(), key = lambda x: x[1], reverse = True)\n",
    "order_dict = OrderedDict(sort_tuple)\n",
    "vocab= vocab(order_dict)\n",
    "vocab.insert_token('<pad>', 0)\n",
    "vocab.insert_token('<unk>', 1)\n",
    "vocab.set_default_index(1)"
   ]
  },
  {
   "cell_type": "code",
   "execution_count": 8,
   "metadata": {},
   "outputs": [],
   "source": [
    "# define the function for transformation \n",
    "text_pipeline = lambda x: [vocab[token] for token in tokenizer(x)]\n",
    "# need to change label -1, so that the label between 0 and 1, original 1 mean bad, 2 mean good\n",
    "label_pipeline = lambda x: x-1.0"
   ]
  },
  {
   "cell_type": "code",
   "execution_count": 9,
   "metadata": {},
   "outputs": [],
   "source": [
    "# wrap the encode and transformation function\n",
    "def collate_batch(batch):\n",
    "  label_list, text_list, lengths = [], [], []\n",
    "  for _label, _text in batch:\n",
    "    label_list.append(label_pipeline(_label))\n",
    "    processed_text = torch.tensor(text_pipeline(_text), dtype = torch.int64)\n",
    "    text_list.append(processed_text)\n",
    "    lengths.append(processed_text.size(0))\n",
    "  label_list = torch.tensor(label_list)\n",
    "  lengths = torch.tensor(lengths)\n",
    "  padded_text_list = nn.utils.rnn.pad_sequence(text_list, batch_first = True)\n",
    "  return padded_text_list, label_list, lengths"
   ]
  },
  {
   "cell_type": "code",
   "execution_count": 10,
   "metadata": {},
   "outputs": [
    {
     "data": {
      "text/plain": [
       "torch.Size([4, 218])"
      ]
     },
     "execution_count": 10,
     "metadata": {},
     "output_type": "execute_result"
    }
   ],
   "source": [
    "# take a small batch\n",
    "from torch.utils.data import DataLoader\n",
    "\n",
    "# collate_fn is self funtion to define batch\n",
    "dataloader = DataLoader(train_dataset, batch_size = 4, shuffle = False, collate_fn = collate_batch)\n",
    "# let check the first batch\n",
    "text_batch1, label_list1, lengths1 = next(iter(dataloader))\n",
    "text_batch1.shape"
   ]
  },
  {
   "cell_type": "code",
   "execution_count": 11,
   "metadata": {},
   "outputs": [],
   "source": [
    "# let divide all three datasets into dataloader with a batch size of 32:\n",
    "batch_size = 128\n",
    "train_dl = DataLoader(train_dataset, batch_size = batch_size, shuffle= True, collate_fn = collate_batch)\n",
    "valid_dl = DataLoader(valid_dataset, batch_size = batch_size, shuffle= True, collate_fn= collate_batch)\n",
    "test_dl = DataLoader(test_dataset, batch_size = batch_size, shuffle= True, collate_fn= collate_batch)"
   ]
  },
  {
   "cell_type": "code",
   "execution_count": 12,
   "metadata": {},
   "outputs": [],
   "source": [
    "# embedding matric change token to vectors which has less dimension than then dimension of one hot code (number of tokens)\n",
    "# embedding layer \n",
    "embedding = nn.Embedding(num_embeddings = 69019+2, embedding_dim = 300, padding_idx = 0)\n",
    "text_batch0, label_list0, length0 = next(iter(train_dl))\n",
    "# embedding(text_batch0).shape\n",
    "# shape: batch_size, row is number of tokens in each sub_batch, and size of embedding"
   ]
  },
  {
   "cell_type": "code",
   "execution_count": 13,
   "metadata": {},
   "outputs": [],
   "source": [
    "# Building an rnn model\n",
    "# class RNN(nn.Module):\n",
    "#   def __init__(self, input_size, hidden_size):\n",
    "#     super().__init__()\n",
    "#     self.rnn = nn.RNN(input_size, hidden_size, num_layers = 2, batch_first= True)\n",
    "#     self.fc = nn.Linear(hidden_size, 1)\n",
    "    \n",
    "#   def forward(self, x):\n",
    "#     _ , hidden = self.rnn(x)\n",
    "#     hidden = hidden[-1,:,:]\n",
    "#     # I use final hidden state from the last hidden layer as the input to the fully connected layer\n",
    "#     hidden = self.fc(hidden)\n",
    "#     return hidden\n",
    "  \n",
    "# model = RNN(64, 32)\n",
    "# print(model)\n",
    "# model(torch.randn(5, 3, 64))    "
   ]
  },
  {
   "cell_type": "code",
   "execution_count": 14,
   "metadata": {},
   "outputs": [],
   "source": [
    "#  Building an RNN \n",
    "#  1.starting with embedding to reduce dimension of features(feature size = 20)\n",
    "#  2.recurrent layer of type LSTM \n",
    "#  3.connected layer as a hiddien layer and another connected layer as the output layer(return a single class membership possibility value)\n",
    "\n",
    "class RNN(nn.Module):\n",
    "  def __init__(self, vocab_size, embed_dim, rnn_hidden_size, fc_hidden_size):\n",
    "    super().__init__()\n",
    "    self.embedding = nn.Embedding(vocab_size, embed_dim, padding_idx = 0)\n",
    "    self.rnn = nn.LSTM(embed_dim, rnn_hidden_size, batch_first= True)\n",
    "    self.fc1 = nn.Linear(rnn_hidden_size, fc_hidden_size)\n",
    "    self.relu = nn.ReLU()\n",
    "    self.fc2 = nn.Linear(fc_hidden_size, 1)\n",
    "    self.sigmoid = nn.Sigmoid()\n",
    "    \n",
    "  def forward(self, text, lengths):\n",
    "    out = self.embedding(text)\n",
    "    out = nn.utils.rnn.pack_padded_sequence(out, lengths.cpu().numpy(), enforce_sorted= False, batch_first = True)\n",
    "    alloutput,(hidden, cell) = self.rnn(out)\n",
    "    hidden1 = hidden[-1, :, :]\n",
    "    hidden1 = self.fc1(hidden1)\n",
    "    hidden1 = self.relu(hidden1)\n",
    "    hidden1 = self.fc2(hidden1)\n",
    "    output = self.sigmoid(hidden1)\n",
    "    return output"
   ]
  },
  {
   "cell_type": "code",
   "execution_count": 15,
   "metadata": {},
   "outputs": [
    {
     "data": {
      "text/plain": [
       "RNN(\n",
       "  (embedding): Embedding(69021, 20, padding_idx=0)\n",
       "  (rnn): LSTM(20, 64, batch_first=True)\n",
       "  (fc1): Linear(in_features=64, out_features=64, bias=True)\n",
       "  (relu): ReLU()\n",
       "  (fc2): Linear(in_features=64, out_features=1, bias=True)\n",
       "  (sigmoid): Sigmoid()\n",
       ")"
      ]
     },
     "execution_count": 15,
     "metadata": {},
     "output_type": "execute_result"
    }
   ],
   "source": [
    "vocab_size = len(vocab)\n",
    "embed_dim = 20\n",
    "rnn_hidden_size = 64\n",
    "fc_hidden_size = 64\n",
    "torch.manual_seed(1)\n",
    "model = RNN(vocab_size, embed_dim, rnn_hidden_size, fc_hidden_size)\n",
    "model"
   ]
  },
  {
   "cell_type": "code",
   "execution_count": 16,
   "metadata": {},
   "outputs": [],
   "source": [
    "# develop the train function to train the model on the given dataset for one epoch and return the classification accuracy and loss\n",
    "def train(model, dataloader):\n",
    "  model.train()\n",
    "  total_acc, total_loss = 0, 0\n",
    "  loss_fn = nn.BCELoss(reduction = 'mean')\n",
    "    #create optimizer to update weight and bias \n",
    "  optimizer = torch.optim.Adam(model.parameters(), lr = 0.001)\n",
    "  for text_batch, label_batch, lengths in dataloader:\n",
    "    optimizer.zero_grad()\n",
    "    pred = model(text_batch, lengths)[:, 0]\n",
    "    loss = loss_fn(pred, label_batch)\n",
    "    loss.backward()\n",
    "    optimizer.step()\n",
    "    total_acc += ((pred >= 0.5) == label_batch).float().sum().item()\n",
    "    total_loss += loss.item()*label_batch.size(0)\n",
    "\n",
    "  \n",
    "  return total_acc/ len(dataloader.dataset),  total_loss/ len(dataloader.dataset)\n",
    "  "
   ]
  },
  {
   "cell_type": "code",
   "execution_count": 17,
   "metadata": {},
   "outputs": [],
   "source": [
    "def evaluate(model, dataloader):\n",
    "  model.eval()\n",
    "  total_acc, total_loss = 0,0 \n",
    "  loss_fn = nn.BCELoss(reduction = 'mean')\n",
    "  with torch.no_grad():\n",
    "    for text_batch, label_batch, lengths in dataloader:\n",
    "      pred = model(text_batch, lengths)[:, 0]\n",
    "      loss = loss_fn(pred, label_batch)\n",
    "      total_acc += ((pred >= 0.5) == label_batch).float().sum().item()\n",
    "      total_loss += loss.item() *label_batch.size(0)\n",
    "  return total_acc/ len(dataloader.dataset),  total_loss/ len(dataloader.dataset)"
   ]
  },
  {
   "cell_type": "code",
   "execution_count": 18,
   "metadata": {},
   "outputs": [
    {
     "ename": "KeyboardInterrupt",
     "evalue": "",
     "output_type": "error",
     "traceback": [
      "\u001b[1;31m---------------------------------------------------------------------------\u001b[0m",
      "\u001b[1;31mKeyboardInterrupt\u001b[0m                         Traceback (most recent call last)",
      "Cell \u001b[1;32mIn[18], line 4\u001b[0m\n\u001b[0;32m      2\u001b[0m torch\u001b[38;5;241m.\u001b[39mmanual_seed(\u001b[38;5;241m1\u001b[39m)\n\u001b[0;32m      3\u001b[0m \u001b[38;5;28;01mfor\u001b[39;00m epoch \u001b[38;5;129;01min\u001b[39;00m \u001b[38;5;28mrange\u001b[39m(num_epoch):\n\u001b[1;32m----> 4\u001b[0m   train_acc, train_loss \u001b[38;5;241m=\u001b[39m \u001b[43mtrain\u001b[49m\u001b[43m(\u001b[49m\u001b[43mmodel\u001b[49m\u001b[43m,\u001b[49m\u001b[43m \u001b[49m\u001b[43mtrain_dl\u001b[49m\u001b[43m)\u001b[49m\n\u001b[0;32m      5\u001b[0m   valid_acc, valid_loss \u001b[38;5;241m=\u001b[39m evaluate(model, valid_dl)\n\u001b[0;32m      6\u001b[0m   \u001b[38;5;28mprint\u001b[39m(\u001b[38;5;124mf\u001b[39m\u001b[38;5;124m'\u001b[39m\u001b[38;5;124mepoch\u001b[39m\u001b[38;5;132;01m{\u001b[39;00mepoch\u001b[38;5;132;01m}\u001b[39;00m\u001b[38;5;124m: accuracy for train: \u001b[39m\u001b[38;5;132;01m{\u001b[39;00mtrain_acc\u001b[38;5;132;01m}\u001b[39;00m\u001b[38;5;124m, loss for train: \u001b[39m\u001b[38;5;132;01m{\u001b[39;00mtrain_loss\u001b[38;5;132;01m}\u001b[39;00m\u001b[38;5;124m,  accuracy for valid: \u001b[39m\u001b[38;5;132;01m{\u001b[39;00mvalid_acc\u001b[38;5;132;01m}\u001b[39;00m\u001b[38;5;124m, and loss for valid: \u001b[39m\u001b[38;5;132;01m{\u001b[39;00mvalid_loss\u001b[38;5;132;01m}\u001b[39;00m\u001b[38;5;124m'\u001b[39m)\n",
      "Cell \u001b[1;32mIn[16], line 12\u001b[0m, in \u001b[0;36mtrain\u001b[1;34m(model, dataloader)\u001b[0m\n\u001b[0;32m     10\u001b[0m pred \u001b[38;5;241m=\u001b[39m model(text_batch, lengths)[:, \u001b[38;5;241m0\u001b[39m]\n\u001b[0;32m     11\u001b[0m loss \u001b[38;5;241m=\u001b[39m loss_fn(pred, label_batch)\n\u001b[1;32m---> 12\u001b[0m \u001b[43mloss\u001b[49m\u001b[38;5;241;43m.\u001b[39;49m\u001b[43mbackward\u001b[49m\u001b[43m(\u001b[49m\u001b[43m)\u001b[49m\n\u001b[0;32m     13\u001b[0m optimizer\u001b[38;5;241m.\u001b[39mstep()\n\u001b[0;32m     14\u001b[0m total_acc \u001b[38;5;241m+\u001b[39m\u001b[38;5;241m=\u001b[39m ((pred \u001b[38;5;241m>\u001b[39m\u001b[38;5;241m=\u001b[39m \u001b[38;5;241m0.5\u001b[39m) \u001b[38;5;241m==\u001b[39m label_batch)\u001b[38;5;241m.\u001b[39mfloat()\u001b[38;5;241m.\u001b[39msum()\u001b[38;5;241m.\u001b[39mitem()\n",
      "File \u001b[1;32mc:\\Users\\julia\\miniconda3\\envs\\pythontest2\\lib\\site-packages\\torch\\_tensor.py:525\u001b[0m, in \u001b[0;36mTensor.backward\u001b[1;34m(self, gradient, retain_graph, create_graph, inputs)\u001b[0m\n\u001b[0;32m    515\u001b[0m \u001b[38;5;28;01mif\u001b[39;00m has_torch_function_unary(\u001b[38;5;28mself\u001b[39m):\n\u001b[0;32m    516\u001b[0m     \u001b[38;5;28;01mreturn\u001b[39;00m handle_torch_function(\n\u001b[0;32m    517\u001b[0m         Tensor\u001b[38;5;241m.\u001b[39mbackward,\n\u001b[0;32m    518\u001b[0m         (\u001b[38;5;28mself\u001b[39m,),\n\u001b[1;32m   (...)\u001b[0m\n\u001b[0;32m    523\u001b[0m         inputs\u001b[38;5;241m=\u001b[39minputs,\n\u001b[0;32m    524\u001b[0m     )\n\u001b[1;32m--> 525\u001b[0m \u001b[43mtorch\u001b[49m\u001b[38;5;241;43m.\u001b[39;49m\u001b[43mautograd\u001b[49m\u001b[38;5;241;43m.\u001b[39;49m\u001b[43mbackward\u001b[49m\u001b[43m(\u001b[49m\n\u001b[0;32m    526\u001b[0m \u001b[43m    \u001b[49m\u001b[38;5;28;43mself\u001b[39;49m\u001b[43m,\u001b[49m\u001b[43m \u001b[49m\u001b[43mgradient\u001b[49m\u001b[43m,\u001b[49m\u001b[43m \u001b[49m\u001b[43mretain_graph\u001b[49m\u001b[43m,\u001b[49m\u001b[43m \u001b[49m\u001b[43mcreate_graph\u001b[49m\u001b[43m,\u001b[49m\u001b[43m \u001b[49m\u001b[43minputs\u001b[49m\u001b[38;5;241;43m=\u001b[39;49m\u001b[43minputs\u001b[49m\n\u001b[0;32m    527\u001b[0m \u001b[43m\u001b[49m\u001b[43m)\u001b[49m\n",
      "File \u001b[1;32mc:\\Users\\julia\\miniconda3\\envs\\pythontest2\\lib\\site-packages\\torch\\autograd\\__init__.py:267\u001b[0m, in \u001b[0;36mbackward\u001b[1;34m(tensors, grad_tensors, retain_graph, create_graph, grad_variables, inputs)\u001b[0m\n\u001b[0;32m    262\u001b[0m     retain_graph \u001b[38;5;241m=\u001b[39m create_graph\n\u001b[0;32m    264\u001b[0m \u001b[38;5;66;03m# The reason we repeat the same comment below is that\u001b[39;00m\n\u001b[0;32m    265\u001b[0m \u001b[38;5;66;03m# some Python versions print out the first line of a multi-line function\u001b[39;00m\n\u001b[0;32m    266\u001b[0m \u001b[38;5;66;03m# calls in the traceback and some print out the last line\u001b[39;00m\n\u001b[1;32m--> 267\u001b[0m \u001b[43m_engine_run_backward\u001b[49m\u001b[43m(\u001b[49m\n\u001b[0;32m    268\u001b[0m \u001b[43m    \u001b[49m\u001b[43mtensors\u001b[49m\u001b[43m,\u001b[49m\n\u001b[0;32m    269\u001b[0m \u001b[43m    \u001b[49m\u001b[43mgrad_tensors_\u001b[49m\u001b[43m,\u001b[49m\n\u001b[0;32m    270\u001b[0m \u001b[43m    \u001b[49m\u001b[43mretain_graph\u001b[49m\u001b[43m,\u001b[49m\n\u001b[0;32m    271\u001b[0m \u001b[43m    \u001b[49m\u001b[43mcreate_graph\u001b[49m\u001b[43m,\u001b[49m\n\u001b[0;32m    272\u001b[0m \u001b[43m    \u001b[49m\u001b[43minputs\u001b[49m\u001b[43m,\u001b[49m\n\u001b[0;32m    273\u001b[0m \u001b[43m    \u001b[49m\u001b[43mallow_unreachable\u001b[49m\u001b[38;5;241;43m=\u001b[39;49m\u001b[38;5;28;43;01mTrue\u001b[39;49;00m\u001b[43m,\u001b[49m\n\u001b[0;32m    274\u001b[0m \u001b[43m    \u001b[49m\u001b[43maccumulate_grad\u001b[49m\u001b[38;5;241;43m=\u001b[39;49m\u001b[38;5;28;43;01mTrue\u001b[39;49;00m\u001b[43m,\u001b[49m\n\u001b[0;32m    275\u001b[0m \u001b[43m\u001b[49m\u001b[43m)\u001b[49m\n",
      "File \u001b[1;32mc:\\Users\\julia\\miniconda3\\envs\\pythontest2\\lib\\site-packages\\torch\\autograd\\graph.py:744\u001b[0m, in \u001b[0;36m_engine_run_backward\u001b[1;34m(t_outputs, *args, **kwargs)\u001b[0m\n\u001b[0;32m    742\u001b[0m     unregister_hooks \u001b[38;5;241m=\u001b[39m _register_logging_hooks_on_whole_graph(t_outputs)\n\u001b[0;32m    743\u001b[0m \u001b[38;5;28;01mtry\u001b[39;00m:\n\u001b[1;32m--> 744\u001b[0m     \u001b[38;5;28;01mreturn\u001b[39;00m Variable\u001b[38;5;241m.\u001b[39m_execution_engine\u001b[38;5;241m.\u001b[39mrun_backward(  \u001b[38;5;66;03m# Calls into the C++ engine to run the backward pass\u001b[39;00m\n\u001b[0;32m    745\u001b[0m         t_outputs, \u001b[38;5;241m*\u001b[39margs, \u001b[38;5;241m*\u001b[39m\u001b[38;5;241m*\u001b[39mkwargs\n\u001b[0;32m    746\u001b[0m     )  \u001b[38;5;66;03m# Calls into the C++ engine to run the backward pass\u001b[39;00m\n\u001b[0;32m    747\u001b[0m \u001b[38;5;28;01mfinally\u001b[39;00m:\n\u001b[0;32m    748\u001b[0m     \u001b[38;5;28;01mif\u001b[39;00m attach_logging_hooks:\n",
      "\u001b[1;31mKeyboardInterrupt\u001b[0m: "
     ]
    }
   ],
   "source": [
    "num_epoch = 10\n",
    "torch.manual_seed(1)\n",
    "for epoch in range(num_epoch):\n",
    "  train_acc, train_loss = train(model, train_dl)\n",
    "  valid_acc, valid_loss = evaluate(model, valid_dl)\n",
    "  print(f'epoch{epoch}: accuracy for train: {train_acc}, loss for train: {train_loss},  accuracy for valid: {valid_acc}, and loss for valid: {valid_loss}')\n",
    " "
   ]
  },
  {
   "cell_type": "code",
   "execution_count": 308,
   "metadata": {},
   "outputs": [
    {
     "name": "stdout",
     "output_type": "stream",
     "text": [
      "the accuracy for test dataset is : 0.85052\n"
     ]
    }
   ],
   "source": [
    "# test the model for test dataset\n",
    "acc_test, loss_test = evaluate(model, test_dl)\n",
    "print(f'the accuracy for test dataset is : {acc_test}') "
   ]
  },
  {
   "cell_type": "markdown",
   "metadata": {},
   "source": [
    "# Generate text"
   ]
  },
  {
   "cell_type": "code",
   "execution_count": null,
   "metadata": {},
   "outputs": [],
   "source": [
    "# the goal is : according to input text, and develop a model that can generate new text which is similar in style to the input text\n",
    "# theere are three steps : 1 preprocessing the dataset\n",
    "# 2 Building the RNN model\n",
    "# 3 Performing next- character prediction and sampling to generate new text"
   ]
  },
  {
   "cell_type": "code",
   "execution_count": 23,
   "metadata": {},
   "outputs": [
    {
     "name": "stdout",
     "output_type": "stream",
     "text": [
      "the total length of text is : 154188\n",
      "the total unique character of text is : 90\n"
     ]
    }
   ],
   "source": [
    "import numpy as np\n",
    "# reading and processing text\n",
    "with open (\"C:/Users/julia/Downloads/pg74657.txt\", 'r', encoding = 'utf8') as fp:\n",
    "  text = fp.read()\n",
    "\n",
    "start_index = text.find('The Project Gutenberg eBook')\n",
    "end_index = text.find('hear about new eBooks')\n",
    "\n",
    "text = text[start_index: end_index]\n",
    "char_set = set(text)\n",
    "\n",
    "print(f'the total length of text is : {len(text)}')\n",
    "print(f'the total unique character of text is : {len(char_set)}')"
   ]
  },
  {
   "cell_type": "code",
   "execution_count": 24,
   "metadata": {},
   "outputs": [
    {
     "name": "stdout",
     "output_type": "stream",
     "text": [
      "The Project Gutenber ------> [46 63 60  1 42 73 70 65 60 58 75  1 33 76 75 60 69 57 60 73]\n",
      "[64 75 60 59  1 45 75 56 75 60 74  1 56 69 59  0 68 70 74 75  1 70 75 63\n",
      " 60 73  1 71 56 73] -------> ited States and\n",
      "most other par\n",
      "[64 75 60 59  1 45 75 56 75 60 74  1 56 69 59  0 68 70 74 75  1 70 75 63\n",
      " 60 73  1 71 56 73] -----> ited States and\n",
      "most other par\n"
     ]
    }
   ],
   "source": [
    "# create a dictionary to map characters to integers, and need a reverse mapping to convert integers back to characters\n",
    "# reverse mapping: using numpy.array = ['o', 'e', ....] and index is more efficient than dictionary\n",
    "\n",
    "# bulid  the dictionary to map characters to integers\n",
    "chars_sorted = sorted(char_set)\n",
    "char_int = {ch: i for i, ch in enumerate(chars_sorted)}\n",
    "\n",
    "# bulid a numpy array\n",
    "\n",
    "text_encoded = np.array([char_int[ch] for ch in text], dtype = np.int32)\n",
    "char_array = np.array(chars_sorted)\n",
    "\n",
    "print(text[:20], '------>',text_encoded[:20])\n",
    "print(text_encoded[100: 130], '------->', ''.join(char_array[text_encoded[100: 130]]))\n",
    "print(text_encoded[100: 130], '----->', text[100: 130])\n"
   ]
  },
  {
   "cell_type": "code",
   "execution_count": 27,
   "metadata": {},
   "outputs": [],
   "source": [
    "# build input and output, seperate each 41 letters, and the first 40 letters is input, and the last 40 letters is output\n",
    "\n",
    "from torch.utils.data import Dataset\n",
    "seq_length = 40\n",
    "chunk_size = seq_length + 1\n",
    "text_chunks = [text_encoded[i : i + chunk_size] for i in range(len(text) - chunk_size)]"
   ]
  },
  {
   "cell_type": "code",
   "execution_count": 43,
   "metadata": {},
   "outputs": [],
   "source": [
    "# build a tensor class\n",
    "class TextDataset(Dataset):\n",
    "  def __init__(self, text_chunks):\n",
    "    self.text_chunks = text_chunks\n",
    "    \n",
    "  def __len__(self):\n",
    "    return len(self.text_chunks)\n",
    "  \n",
    "  def __getitem__(self, index):\n",
    "    return self.text_chunks[index][ : -1].long(), self.text_chunks[index][1: ].long()\n",
    "  \n",
    "seq_dataset = TextDataset(torch.tensor(text_chunks))"
   ]
  },
  {
   "cell_type": "code",
   "execution_count": 56,
   "metadata": {},
   "outputs": [
    {
     "name": "stdout",
     "output_type": "stream",
     "text": [
      "Input (x) :  'The Project Gutenberg eBook of Sea yarns'\n",
      "Target (y) :  'he Project Gutenberg eBook of Sea yarns\\n'\n",
      "Input (x) :  'he Project Gutenberg eBook of Sea yarns\\n'\n",
      "Target (y) :  'e Project Gutenberg eBook of Sea yarns\\n '\n"
     ]
    }
   ],
   "source": [
    "# take a look at soem example sequence from this transformed dataset:\n",
    "for i, (input, target) in enumerate(seq_dataset):\n",
    "  print('Input (x) : ', repr(''.join(char_array[input])))\n",
    "  print('Target (y) : ', repr(''.join(char_array[target])))\n",
    "  if i == 1:\n",
    "    break"
   ]
  },
  {
   "cell_type": "code",
   "execution_count": 60,
   "metadata": {},
   "outputs": [],
   "source": [
    "# change this dataset to min-batch\n",
    "from torch.utils.data import DataLoader\n",
    "batch_size = 64\n",
    "torch.manual_seed(1)\n",
    "seq_dl = DataLoader(seq_dataset, batch_size = batch_size, shuffle= True, drop_last= True)"
   ]
  },
  {
   "cell_type": "code",
   "execution_count": 64,
   "metadata": {},
   "outputs": [],
   "source": [
    "# bulid a character-level RNN model\n",
    "import torch.nn as nn\n",
    "class RNN(nn.Module):\n",
    "  def __init__(self, vocab_size, embed_dim, rnn_hidden_size):\n",
    "    super().__init__()\n",
    "    self.embedding = nn.Embedding(vocab_size, embed_dim)\n",
    "    self.rnn_hidden_size = rnn_hidden_size\n",
    "    self.rnn = nn.LSTM(embed_dim, rnn_hidden_size, batch_first= True)\n",
    "    self.fc = nn.Linear(rnn_hidden_size, vocab_size)\n",
    "    \n",
    "  def forward(self, x, hidden, cell):\n",
    "    out = self.embedding(x).unsqueeze(1)\n",
    "    out, (hidden, cell) = self.rnn(out, (hidden, cell))\n",
    "    out = self.fc(out).reshape(out.size(0), -1)\n",
    "    return out, hidden, cell\n",
    "  \n",
    "  \n",
    "  def init_hidden(self, batch_size):\n",
    "    hidden = torch.zeros(1, batch_size, self.rnn_hidden_size)\n",
    "    cell = torch.zeros(1, batch_size, self.rnn_hidden_size)\n",
    "    return hidden, cell"
   ]
  },
  {
   "cell_type": "code",
   "execution_count": null,
   "metadata": {},
   "outputs": [],
   "source": []
  }
 ],
 "metadata": {
  "kernelspec": {
   "display_name": "pythontest2",
   "language": "python",
   "name": "python3"
  },
  "language_info": {
   "codemirror_mode": {
    "name": "ipython",
    "version": 3
   },
   "file_extension": ".py",
   "mimetype": "text/x-python",
   "name": "python",
   "nbconvert_exporter": "python",
   "pygments_lexer": "ipython3",
   "version": "3.9.7"
  }
 },
 "nbformat": 4,
 "nbformat_minor": 2
}
