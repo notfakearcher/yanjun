{
 "cells": [
  {
   "cell_type": "code",
   "execution_count": 41,
   "metadata": {},
   "outputs": [],
   "source": [
    "import torch\n",
    "import torchtext\n",
    "import torch.nn as nn\n",
    "from torchtext.datasets import IMDB\n",
    "torchtext.disable_torchtext_deprecation_warning()\n",
    "# from torchtext.datasets import IMDB\n",
    "train_dataset = IMDB(split = 'train')\n",
    "test_dataset = IMDB(split = 'test')"
   ]
  },
  {
   "cell_type": "code",
   "execution_count": 2,
   "metadata": {},
   "outputs": [],
   "source": [
    "# split the training dataset into seperate training and validation partitions\n",
    "from torch.utils.data.dataset import random_split\n",
    "torch.manual_seed(1)\n",
    "train_dataset, valid_dataset = random_split(list(train_dataset), [20000, 5000])"
   ]
  },
  {
   "cell_type": "code",
   "execution_count": 3,
   "metadata": {},
   "outputs": [],
   "source": [
    "# identify the unique words in the training dataset\n",
    "#  map these unique words to a unique integer and encode the review text into encoded integers\n",
    "import re\n",
    "from collections import Counter, OrderedDict\n",
    "\n",
    "\n",
    "# split the text into words\n",
    "def tokenizer(text):\n",
    "  text = re.sub('<[^>]*>', '', text)\n",
    "  emoticons = re.findall('(?::|;|=)(?:\\)|\\(|D|P)', text.lower())\n",
    "  text = re.sub('[\\W]+', ' ', text.lower()) + ' '.join(emoticons).replace('-', '')\n",
    "  tokenized = text.split()\n",
    "  return tokenized"
   ]
  },
  {
   "cell_type": "code",
   "execution_count": 6,
   "metadata": {},
   "outputs": [
    {
     "name": "stdout",
     "output_type": "stream",
     "text": [
      "Vocab-size:  69019\n"
     ]
    }
   ],
   "source": [
    "token_counts = Counter()\n",
    "for label, line in train_dataset:\n",
    "  tokens = tokenizer(line)\n",
    "  token_counts.update(tokens)\n",
    "print('Vocab-size: ', len(token_counts))"
   ]
  },
  {
   "cell_type": "code",
   "execution_count": 37,
   "metadata": {},
   "outputs": [],
   "source": [
    "# map these unique words in integer\n",
    "from torchtext.vocab import vocab\n",
    "sort_tuple = sorted(token_counts.items(), key = lambda x: x[1], reverse = True)\n",
    "order_dict = OrderedDict(sort_tuple)\n",
    "vocab= vocab(order_dict)\n",
    "vocab.insert_token('<pad>', 0)\n",
    "vocab.insert_token('<unk>', 1)\n",
    "vocab.set_default_index(1)"
   ]
  },
  {
   "cell_type": "code",
   "execution_count": 40,
   "metadata": {},
   "outputs": [],
   "source": [
    "# define the function for transformation \n",
    "text_pipeline = lambda x: [vocab[token] for token in tokenizer(x)]\n",
    "label_pipeline = lambda x: 1.0 if x == 'pos' else 0.0"
   ]
  },
  {
   "cell_type": "code",
   "execution_count": 78,
   "metadata": {},
   "outputs": [],
   "source": [
    "# wrap the encode and transformation function\n",
    "def collate_batch(batch):\n",
    "  label_list, text_list, lengths = [], [], []\n",
    "  for _label, _text in batch:\n",
    "    label_list.append(label_pipeline(_label))\n",
    "    processed_text = torch.tensor(text_pipeline(_text), dtype = torch.int64)\n",
    "    text_list.append(processed_text)\n",
    "    lengths.append(processed_text.size(0))\n",
    "  label_list = torch.tensor(label_list)\n",
    "  lengths = torch.tensor(lengths)\n",
    "  padded_text_list = nn.utils.rnn.pad_sequence(text_list, batch_first = True)\n",
    "  return padded_text_list, label_list, lengths"
   ]
  },
  {
   "cell_type": "code",
   "execution_count": 79,
   "metadata": {},
   "outputs": [
    {
     "data": {
      "text/plain": [
       "torch.Size([4, 291])"
      ]
     },
     "execution_count": 79,
     "metadata": {},
     "output_type": "execute_result"
    }
   ],
   "source": [
    "# take a small batch\n",
    "from torch.utils.data import DataLoader\n",
    "\n",
    "# collate_fn is self funtion to define batch\n",
    "dataloader = DataLoader(train_dataset, batch_size = 4, shuffle = False, collate_fn = collate_batch)\n",
    "# let check the first batch\n",
    "text_batch1, label_list1, lengths1 = next(iter(dataloader))\n",
    "text_batch1.shape"
   ]
  },
  {
   "cell_type": "code",
   "execution_count": 80,
   "metadata": {},
   "outputs": [],
   "source": [
    "# let divide all three datasets into dataloader with a batch size of 32:\n",
    "batch_size = 32\n",
    "train_dl = DataLoader(train_dataset, batch_size = batch_size, shuffle= True, collate_fn = collate_batch)\n",
    "valid_dl = DataLoader(valid_dataset, batch_size = batch_size, shuffle= True, collate_fn= collate_batch)\n",
    "test_dl = DataLoader(test_dataset, batch_size = batch_size, shuffle= True, collate_fn= collate_batch)"
   ]
  }
 ],
 "metadata": {
  "kernelspec": {
   "display_name": "pythontest2",
   "language": "python",
   "name": "python3"
  },
  "language_info": {
   "codemirror_mode": {
    "name": "ipython",
    "version": 3
   },
   "file_extension": ".py",
   "mimetype": "text/x-python",
   "name": "python",
   "nbconvert_exporter": "python",
   "pygments_lexer": "ipython3",
   "version": "3.9.7"
  }
 },
 "nbformat": 4,
 "nbformat_minor": 2
}
