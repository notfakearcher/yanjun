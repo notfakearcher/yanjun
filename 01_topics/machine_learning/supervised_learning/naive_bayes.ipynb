{
 "cells": [
  {
   "cell_type": "markdown",
   "metadata": {},
   "source": [
    "#  Human Voice"
   ]
  },
  {
   "cell_type": "markdown",
   "metadata": {},
   "source": [
    "## Reference"
   ]
  },
  {
   "cell_type": "code",
   "execution_count": null,
   "metadata": {},
   "outputs": [],
   "source": [
    "# https://www.kaggle.com/datasets/alarmanovi/gender-recognition-by-voice-2023"
   ]
  },
  {
   "cell_type": "markdown",
   "metadata": {},
   "source": [
    "## Impor Libraries"
   ]
  },
  {
   "cell_type": "code",
   "execution_count": 5,
   "metadata": {},
   "outputs": [],
   "source": [
    "import pandas as pd\n",
    "import numpy as ny\n",
    "import matplotlib.pyplot as plt\n",
    "from mlxtend.plotting import plot_decision_regions\n",
    "import matplotlib.gridspec as gri\n",
    "from sklearn.feature_selection import SelectFromModel, SelectKBest, f_classif\n",
    "from sklearn.model_selection import train_test_split\n",
    "from sklearn.naive_bayes import GaussianNB\n",
    "from sklearn.tree import DecisionTreeClassifier\n",
    "from sklearn.ensemble import GradientBoostingClassifier, VotingClassifier\n",
    "from sklearn.metrics import confusion_matrix, ConfusionMatrixDisplay, classification_report\n",
    "\n"
   ]
  },
  {
   "cell_type": "markdown",
   "metadata": {},
   "source": [
    "## Import Data"
   ]
  },
  {
   "cell_type": "code",
   "execution_count": 10,
   "metadata": {},
   "outputs": [],
   "source": [
    "# Dataset Column Overview: \n",
    "# ------------------------------------------------------------------------------\n",
    "\n",
    "# X01: Mean Frequency (mean_freq): Computed using Fast Fourier Transform (FFT). Represents the average frequency of the audio signal.\n",
    "# X02: Standard Deviation of Frequency (sd_freq): Calculated using the standard deviation of the spectral centroid. Indicates the spread or variability of the spectral centroid.\n",
    "# X03: Median Frequency (median_freq): Obtained from the median of the spectral centroid. Represents the middle value of the distribution of spectral centroid frequencies.\n",
    "# X04: 25th Percentile Frequency (q25_freq): Quantiles of the spectral centroid. Provide information about the distribution of spectral centroid frequencies.\n",
    "# X05: 75th Percentile Frequency (q75_freq): Quantiles of the spectral centroid. Provide information about the distribution of spectral centroid frequencies.\n",
    "# X06: Interquartile Range of Frequency (iqr_freq): The range between the 25th and 75th percentiles. Measures the spread of the middle 50% of spectral centroid frequencies.\n",
    "# X07: Skewness (skewness): Descriptive statistics of the spectral bandwidth. Indicate the shape of the spectral bandwidth distribution.\n",
    "# X08: Kurtosis (kurtosis_val): Descriptive statistics of the spectral bandwidth. Indicate the shape of the spectral bandwidth distribution.\n",
    "# X09: Spectral Flatness (spectral_flatness): Represents the flatness of the power spectrum. A measure of how noise-like or tonal the audio is.\n",
    "# X10: tempogram: a mid-level representation of tempo information, is constructed to characterize tempo variation and local pulse in the audio signal.\n",
    "# X11: Mode Frequency (mode_freq): Extracted from the tempogram. Represents the mode (most common) frequency in the audio signal.\n",
    "# X12: Centroid Frequency (centroid_freq): The mean of the spectral centroid. Provides the center of mass of the spectral distribution.\n",
    "# X13: Peak Frequency (peak_freq): The frequency with the highest amplitude in the spectral centroid. Indicates the dominant frequency in the audio signal.\n",
    "# X14: mean_fun: Additional Features Related to Fundamental Frequency. Extracted from the root mean square (RMS) values. Provide information about the fundamental frequency.\n",
    "# X15: min_fun: Additional Features Related to Fundamental Frequency. Extracted from the root mean square (RMS) values. Provide information about the fundamental frequency.\n",
    "# X16: max_fun: Additional Features Related to Fundamental Frequency. Extracted from the root mean square (RMS) values. Provide information about the fundamental frequency.\n",
    "# X17: mean_dom: Additional Features Related to Dominant Frequency. Derived from the tempogram. Offer insights into the dominant frequencies and their range.\n",
    "# X18: min_dom: Additional Features Related to Dominant Frequency. Derived from the tempogram. Offer insights into the dominant frequencies and their range.\n",
    "# X19: max_dom: Additional Features Related to Dominant Frequency. Derived from the tempogram. Offer insights into the dominant frequencies and their range.\n",
    "# X20: dom_range: Additional Features Related to Dominant Frequency. Derived from the tempogram. Offer insights into the dominant frequencies and their range.\n",
    "# X21: Modulation Index (mod_index): Calculated using the YIN algorithm. Indicates the degree of modulation in the audio signal.\n",
    "#   y: Label (label): Assigned as 'female' or 'Male' for all processed audio files.\n",
    "\n",
    "\n",
    "path = 'https://raw.githubusercontent.com/notfakearcher/julian/main/02_data/male_female_voice.csv'\n",
    "voice = pd.read_csv(path)"
   ]
  },
  {
   "cell_type": "code",
   "execution_count": 9,
   "metadata": {},
   "outputs": [
    {
     "data": {
      "text/plain": [
       "mean_freq            0\n",
       "sd_freq              0\n",
       "median_freq          0\n",
       "q25_freq             0\n",
       "q75_freq             0\n",
       "iqr_freq             0\n",
       "skewness             0\n",
       "kurtosis_val         0\n",
       "spectral_flatness    0\n",
       "tempogram            0\n",
       "mode_freq            0\n",
       "centroid_freq        0\n",
       "peak_freq            0\n",
       "mean_fun             0\n",
       "min_fun              0\n",
       "max_fun              0\n",
       "mean_dom             0\n",
       "min_dom              0\n",
       "max_dom              0\n",
       "fund_freq            0\n",
       "mod_index            0\n",
       "label                0\n",
       "dtype: int64"
      ]
     },
     "execution_count": 9,
     "metadata": {},
     "output_type": "execute_result"
    }
   ],
   "source": [
    "voice.isna().sum()"
   ]
  },
  {
   "cell_type": "code",
   "execution_count": null,
   "metadata": {},
   "outputs": [],
   "source": []
  }
 ],
 "metadata": {
  "kernelspec": {
   "display_name": "pythontest1",
   "language": "python",
   "name": "python3"
  },
  "language_info": {
   "codemirror_mode": {
    "name": "ipython",
    "version": 3
   },
   "file_extension": ".py",
   "mimetype": "text/x-python",
   "name": "python",
   "nbconvert_exporter": "python",
   "pygments_lexer": "ipython3",
   "version": "3.11.4"
  }
 },
 "nbformat": 4,
 "nbformat_minor": 2
}
